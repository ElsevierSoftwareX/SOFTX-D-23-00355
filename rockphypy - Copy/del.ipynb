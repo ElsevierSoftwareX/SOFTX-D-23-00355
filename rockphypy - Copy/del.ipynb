{
 "cells": [
  {
   "cell_type": "code",
   "execution_count": 4,
   "metadata": {},
   "outputs": [],
   "source": [
    "import numpy as np"
   ]
  },
  {
   "cell_type": "code",
   "execution_count": 5,
   "metadata": {},
   "outputs": [],
   "source": [
    "import matplotlib.pyplot as plt"
   ]
  },
  {
   "cell_type": "code",
   "execution_count": 6,
   "metadata": {},
   "outputs": [],
   "source": [
    "def Backus(V,lamda, G ):\n",
    "    \"\"\"Computes stiffnesses of a layered medium using backus average model. Written by Jiaxin Yu (July 2021)\n",
    "\n",
    "    Args:\n",
    "        V (num or array-like, frac): volumetric fractions of N isotropic layering materials\n",
    "        lamda (num or array-like): Lamé coefficients of N isotropic layering materials\n",
    "        G (num or array-like, GPa): shear moduli of N isotropic layering materials\n",
    "    Returns:\n",
    "        C11,C33,C13,C44,C66 (num or array-like, GPa): Elastic moduli of the anisotropic layered media\n",
    "    \"\"\"    \n",
    "    if isinstance(V, ( np.ndarray)) is False:\n",
    "        V=np.array(V)\n",
    "    V=V/np.sum(V)\n",
    "    if isinstance(lamda, ( np.ndarray)) is False:\n",
    "        lamda=np.array(lamda)\n",
    "    if isinstance(G, ( np.ndarray)) is False:\n",
    "        G=np.array(G)\n",
    "    \n",
    "    C33=np.dot(V, 1/(lamda+2*G)) **-1\n",
    "    C44=np.dot(V, 1/G)**-1\n",
    "    C66=np.dot(V, G)\n",
    "    C13=np.dot(V, 1/(lamda+2*G)) **-1 * np.dot(V, lamda/(lamda+2*G))\n",
    "    C11=np.dot(V, 4*G*(lamda+G)/(lamda+2*G))+np.dot(V, 1/(lamda+2*G))**-1 * np.dot(V, lamda/(lamda+2*G))**2\n",
    "    \n",
    "    return C11,C33,C13,C44,C66\n",
    "\n",
    "def Backus_log(Vp,Vs,Den,Depth):\n",
    "    \"\"\" Computes Backus Average from log data, notice that the Depth is 1d Vector including each top depth of layer and also the bottom of last layer. \n",
    "\n",
    "    Args:\n",
    "        Vp (array): P wave velocities of layers [Vp1,Vp2...Vpn], size N\n",
    "        Vs (array): S wave velocities of layers [Vs1,Vs2...Vsn], size N\n",
    "        Den (array): Densities of layers, size N\n",
    "        Depth (array): 1d depth, ATTENTION: each depth point\n",
    "        corresponds to the top of thin isotropic layer, the bottom of the sedimentary package is the last depth point. [dep1,dep2,,,,,,depn, depn+1], size N+1\n",
    "\n",
    "    Returns:\n",
    "        _type_: _description_\n",
    "    \"\"\"    \n",
    "\n",
    "    # compute lame constants from log data \n",
    "    G = Den*Vs**2\n",
    "    lamda = Den*Vp**2 - 2*G\n",
    "    # compute thickness of each layer given depth  \n",
    "    thickness = np.diff(Depth)\n",
    "    # Volume fraction\n",
    "    V= thickness/thickness.sum()\n",
    "    \n",
    "    C11,C33,C13,C44,C66 = Backus(V,lamda, G )\n",
    "\n",
    "    # Mass balance for density \n",
    "    den = np.dot(V, Den)\n",
    "\n",
    "    return C11,C33,C13,C44,C66, den\n"
   ]
  },
  {
   "cell_type": "code",
   "execution_count": 7,
   "metadata": {},
   "outputs": [],
   "source": [
    "from utils import*\n",
    "from Fluid import *"
   ]
  },
  {
   "cell_type": "code",
   "execution_count": 10,
   "metadata": {},
   "outputs": [
    {
     "data": {
      "text/plain": [
       "array([[ 11, -99,  33,   0,   0,   0],\n",
       "       [-99,  11,  33,   0,   0,   0],\n",
       "       [ 33,  33,  22,   0,   0,   0],\n",
       "       [  0,   0,   0,  44,   0,   0],\n",
       "       [  0,   0,   0,   0,  44,   0],\n",
       "       [  0,   0,   0,   0,   0,  55]])"
      ]
     },
     "execution_count": 10,
     "metadata": {},
     "output_type": "execute_result"
    }
   ],
   "source": [
    "DSdry= write_VTI_matrix(11,22,33,44,55)\n",
    "DSdry"
   ]
  },
  {
   "cell_type": "code",
   "execution_count": 42,
   "metadata": {},
   "outputs": [],
   "source": []
  },
  {
   "cell_type": "code",
   "execution_count": 39,
   "metadata": {},
   "outputs": [],
   "source": [
    "Kdry= 30                    \n",
    "Gdry=36\n",
    "K0=37                                       \n",
    "phi=0.2\n",
    "rho0=2.3\n",
    "rhofl1=1.05\n",
    "rhofl2=1.2\n",
    "Kfl1= 2.3\n",
    "Kfl2=2.4\n",
    "eta1= 0.001\n",
    "eta2= 0.002\n",
    "kapa= 0.01\n",
    "a= 0.0001\n",
    "sg= 0.5\n",
    "freq=1000 "
   ]
  },
  {
   "cell_type": "code",
   "execution_count": 1,
   "metadata": {},
   "outputs": [
    {
     "data": {
      "text/plain": [
       "180.0"
      ]
     },
     "execution_count": 1,
     "metadata": {},
     "output_type": "execute_result"
    }
   ],
   "source": [
    "72*2.5"
   ]
  },
  {
   "cell_type": "code",
   "execution_count": 9,
   "metadata": {},
   "outputs": [
    {
     "data": {
      "text/plain": [
       "380.76"
      ]
     },
     "execution_count": 9,
     "metadata": {},
     "output_type": "execute_result"
    }
   ],
   "source": [
    "114*3.34"
   ]
  },
  {
   "cell_type": "code",
   "execution_count": 12,
   "metadata": {},
   "outputs": [
    {
     "data": {
      "text/plain": [
       "19.438444924406046"
      ]
     },
     "execution_count": 12,
     "metadata": {},
     "output_type": "execute_result"
    }
   ],
   "source": [
    "36/1.852"
   ]
  },
  {
   "cell_type": "code",
   "execution_count": null,
   "metadata": {},
   "outputs": [],
   "source": [
    "def Wyllie_Gregory(phi, d):\n",
    "    \"\"\"Compute permeability using Wyllie and Gregory model\n",
    "\n",
    "    Args:\n",
    "        phi (frac): porosity\n",
    "        d (micro m):  mean particles size\n",
    "\n",
    "    Returns:\n",
    "        _type_: _description_\n",
    "    \"\"\"   \n",
    "\n",
    "    k= 1.853*d**2*phi**3/(1-phi)**2\n",
    "    return k"
   ]
  },
  {
   "cell_type": "code",
   "execution_count": null,
   "metadata": {},
   "outputs": [],
   "source": []
  },
  {
   "cell_type": "code",
   "execution_count": 13,
   "metadata": {},
   "outputs": [
    {
     "data": {
      "text/plain": [
       "30.0"
      ]
     },
     "execution_count": 13,
     "metadata": {},
     "output_type": "execute_result"
    }
   ],
   "source": [
    "12*2.5"
   ]
  },
  {
   "cell_type": "code",
   "execution_count": 37,
   "metadata": {},
   "outputs": [],
   "source": [
    "def White_Dutta_Ode(Kdry, Gdry, K0, phi, rho0, rhofl1,rhofl2, Kfl1, Kfl2,eta1,eta2,kapa,a,sg,freq ):\n",
    "    \"\"\"_summary_\n",
    "\n",
    "    Args:\n",
    "        Kdry (_type_): _description_\n",
    "        Gdry (_type_): _description_\n",
    "        K0 (_type_): _description_\n",
    "        phi (_type_): _description_\n",
    "        rho0 (_type_): _description_\n",
    "        rhofl1 (_type_): _description_\n",
    "        rhofl2 (_type_): _description_\n",
    "        Kfl1 (_type_): _description_\n",
    "        Kfl2 (_type_): _description_\n",
    "        eta1 (_type_): _description_\n",
    "        eta2 (_type_): _description_\n",
    "        kapa (_type_): _description_\n",
    "        a (_type_): _description_\n",
    "        sg (_type_): _description_\n",
    "        freq (_type_): _description_\n",
    "\n",
    "    Returns:\n",
    "        _type_: _description_\n",
    "    \"\"\"    \n",
    "\n",
    "    omega= 2*np.pi*freq\n",
    "    #sg=a3/b3, outer radius b\n",
    "    b= a/sg**(1/3)\n",
    "    # The saturated bulk and shear moduli, Kj and μj of region j\n",
    "    K1,_=Gassmann(Kdry,0,K0,Kfl1,phi)\n",
    "    K2,_=Gassmann(Kdry,0,K0,Kfl2,phi)\n",
    "    G1=Gdry\n",
    "    G2=G1\n",
    "    # \n",
    "    R1=(K1-Kdry)/(1-Kdry/K0) * (3*K2+4*G2)/(K2*(3*K1+4*G2)+4*G2*(K1-K2)*sg )\n",
    "    R2=(K2-Kdry)/(1-Kdry/K0) * (3*K1+4*G1)/(K2*(3*K1+4*G2)+4*G2*(K1-K2)*sg )\n",
    "    KA1=(phi/Kfl1+(1-phi)/K0-Kdry/K0**2)**-1\n",
    "    KA2=(phi/Kfl2+(1-phi)/K0-Kdry/K0**2)**-1\n",
    "    KE1=(1-Kfl1*(1-K1/K0)*(1-Kdry/K0)/(phi*K1*(1-Kfl1/K0)))*KA1\n",
    "    KE2=(1-Kfl2*(1-K2/K0)*(1-Kdry/K0)/(phi*K2*(1-Kfl2/K0)))*KA2\n",
    "    alpha1=(1j*omega*eta1/(kapa*KE1))**(1/2)\n",
    "    alpha2=(1j*omega*eta2/(kapa*KE2))**(1/2)\n",
    "\n",
    "    Z1=eta1*a/kapa *(1-np.exp(-2*alpha1*a))/((alpha1*a-1)+(alpha1*a+1)*np.exp(-2*alpha1*a)   )\n",
    "    Z2=-eta2*a/kapa *(   (alpha2*b+1) +(alpha2*b-1)*np.exp(2*alpha2*(b-a) ) )/(  (alpha2*b+1)* (alpha2*a-1)- (alpha2*b-1)*(alpha2*a+1)*np.exp(2*alpha2*(b-a))  )\n",
    "    Q1= (1-Kdry/K0)*KA1/K1\n",
    "    Q2= (1-Kdry/K0)*KA2/K2\n",
    "    W=3*a**2*(R1-R2)*(-Q1+Q2)/ (b**3*1j*omega*(Z1+Z2) )\n",
    "    Kinf= (K2*(3*K1+4*G2)+4*G2*(K1-K2)*sg)/((3*K1+4*G2)-3*(K1-K2)*sg)\n",
    "    Klowf = (K2*(K1-Kdry)+sg*Kdry*(K2-K1))/((K1-Kdry)+sg*(K2-K1))\n",
    "\n",
    "    K_star = Kinf/(1-Kinf*W)\n",
    "\n",
    "    # when the central sphere is saturated with a very compressible gas\n",
    "    K_star_gas= Kinf/(1+3*a**2*R2*Q2*Kinf/(b**3*1j*omega*Z2) )\n",
    "\n",
    "    # P wave modulus and density \n",
    "    M= K_star+4*Gdry/3\n",
    "    rho = (1-phi)*rho0+phi*sg*rhofl1+phi*(1-sg)*rhofl2\n",
    "    # phase angle \n",
    "    theta= np.arctan(M.imag/M.real)\n",
    "    # velocity and attenuation coefficient, see 3.8.56 in RPH \n",
    "    Vp = np.sqrt(np.abs(M)/rho) * 1/np.cos(theta/2)\n",
    "    a_w= omega/Vp *np.tan(theta/2)\n",
    "\n",
    "    return Vp,a_w, K_star\n"
   ]
  },
  {
   "cell_type": "code",
   "execution_count": 51,
   "metadata": {},
   "outputs": [
    {
     "data": {
      "text/plain": [
       "6.340247597549408"
      ]
     },
     "execution_count": 51,
     "metadata": {},
     "output_type": "execute_result"
    }
   ],
   "source": [
    "freq=0.001\n",
    "Vp,a_w, K_star=White_Dutta_Ode(Kdry, Gdry, K0, phi, rho0, rhofl1,rhofl2, Kfl1, Kfl2,eta1,eta2,kapa,a,sg,freq )\n",
    "Vp"
   ]
  },
  {
   "cell_type": "code",
   "execution_count": 21,
   "metadata": {},
   "outputs": [
    {
     "data": {
      "text/plain": [
       "(78.79569089044949+2.451749823973911e-10j)"
      ]
     },
     "execution_count": 21,
     "metadata": {},
     "output_type": "execute_result"
    }
   ],
   "source": []
  },
  {
   "cell_type": "code",
   "execution_count": 22,
   "metadata": {},
   "outputs": [
    {
     "data": {
      "text/plain": [
       "0.3217505543966422"
      ]
     },
     "execution_count": 22,
     "metadata": {},
     "output_type": "execute_result"
    }
   ],
   "source": [
    "np.arctan(1/3)"
   ]
  },
  {
   "cell_type": "code",
   "execution_count": null,
   "metadata": {},
   "outputs": [],
   "source": []
  },
  {
   "cell_type": "code",
   "execution_count": 38,
   "metadata": {},
   "outputs": [
    {
     "data": {
      "text/plain": [
       "array([ 0.19429017, -0.1030185 , -0.00127167,  0.02754333,  0.10446981])"
      ]
     },
     "execution_count": 38,
     "metadata": {},
     "output_type": "execute_result"
    }
   ],
   "source": [
    "# t1=write_VTI_matrix(50,30,14,9,20)\n",
    "# t2=write_VTI_matrix(55,32,18,10,22)\n",
    "# T1=np.linalg.inv(t1)\n",
    "# T2=np.linalg.inv(t2)\n",
    "ssd=[0.2,-0.1,-0.001,0.04,0.11]\n",
    "ssdp=[0.3,-0.2,-0.01,0.045,0.1]\n",
    "\n",
    "Squirt_anisotropic(ssd,ssdp)\n"
   ]
  },
  {
   "cell_type": "code",
   "execution_count": 19,
   "metadata": {},
   "outputs": [
    {
     "name": "stderr",
     "output_type": "stream",
     "text": [
      "c:\\Users\\jiaxiny\\OneDrive - NTNU\\Stanford Work\\code\\RockPhysicsPy\\rockphypy\\utils.py:117: VisibleDeprecationWarning: Creating an ndarray from ragged nested sequences (which is a list-or-tuple of lists-or-tuples-or ndarrays with different lengths or shapes) is deprecated. If you meant to do this, you must specify 'dtype=object' when creating the ndarray\n",
      "  C=np.array([[C11,C12,C13,0,0,0],\n"
     ]
    }
   ],
   "source": [
    "# delta_Sdry_ijkl\n",
    "DSdry=T1-T2\n",
    "# delta_Sdry_aabb\n",
    "DSdry_aabb=np.sum(DSdry[0:3,0:3])\n",
    "# delta_Sdry_abab= 2S11+S33+4S44+2S66\n",
    "DSdry_abab=2*DSdry[0,0]+DSdry[2,2]+4*DSdry[3,3]+2*DSdry[5,5]\n",
    "# Delta S_tilde \n",
    "D_Sdry= DSdry/DSdry_aabb\n",
    "alpha=0.25*(D_Sdry-1)\n",
    "\n",
    "#the elements of Gijkl\n",
    "T = 1-4*alpha\n",
    "G11= DSdry[0,0]-4*alpha/T*(D_Sdry[0,1]+D_Sdry[0,2])\n",
    "G12=D_Sdry[0,1]/T \n",
    "G13=D_Sdry[0,2]/T\n",
    "G33=D_Sdry[2,2]-8*alpha*D_Sdry[0,2]/T\n",
    "G44=D_Sdry[3,3]/T-(D_Sdry[0,0]+D_Sdry[2,2])/(4*T)+(G11+G33)/4\n",
    "G66=2*(G11-G12)\n",
    "\n",
    "G= write_VTI_matrix(G11,G33,G13,G44,G66)"
   ]
  },
  {
   "cell_type": "code",
   "execution_count": 27,
   "metadata": {},
   "outputs": [
    {
     "data": {
      "text/plain": [
       "array([[ 0.1474734 , -0.2418883 ,  0.40292553,  0.        ,  0.        ,\n",
       "         0.        ],\n",
       "       [-0.2418883 ,  0.1474734 ,  0.40292553,  0.        ,  0.        ,\n",
       "         0.        ],\n",
       "       [ 0.40292553,  0.40292553, -0.42287234,  0.        ,  0.        ,\n",
       "         0.        ],\n",
       "       [ 0.        ,  0.        ,  0.        ,  1.9035461 ,  0.        ,\n",
       "         0.        ],\n",
       "       [ 0.        ,  0.        ,  0.        ,  0.        ,  1.9035461 ,\n",
       "         0.        ],\n",
       "       [ 0.        ,  0.        ,  0.        ,  0.        ,  0.        ,\n",
       "         0.7787234 ]])"
      ]
     },
     "execution_count": 27,
     "metadata": {},
     "output_type": "execute_result"
    }
   ],
   "source": [
    "D_Sdry"
   ]
  },
  {
   "cell_type": "code",
   "execution_count": null,
   "metadata": {},
   "outputs": [],
   "source": []
  },
  {
   "cell_type": "code",
   "execution_count": null,
   "metadata": {},
   "outputs": [],
   "source": []
  },
  {
   "cell_type": "code",
   "execution_count": 16,
   "metadata": {},
   "outputs": [
    {
     "data": {
      "text/plain": [
       "array([[ 0.02315341, -0.00184659, -0.00994318,  0.        ,  0.        ,\n",
       "         0.        ],\n",
       "       [-0.00184659,  0.02315341, -0.00994318,  0.        ,  0.        ,\n",
       "         0.        ],\n",
       "       [-0.00994318, -0.00994318,  0.04261364,  0.        ,  0.        ,\n",
       "         0.        ],\n",
       "       [ 0.        ,  0.        ,  0.        ,  0.11111111,  0.        ,\n",
       "         0.        ],\n",
       "       [ 0.        ,  0.        ,  0.        ,  0.        ,  0.11111111,\n",
       "         0.        ],\n",
       "       [ 0.        ,  0.        ,  0.        ,  0.        ,  0.        ,\n",
       "         0.05      ]])"
      ]
     },
     "execution_count": 16,
     "metadata": {},
     "output_type": "execute_result"
    }
   ],
   "source": [
    "x= np.linalg.inv(t)\n",
    "x"
   ]
  },
  {
   "cell_type": "code",
   "execution_count": 17,
   "metadata": {},
   "outputs": [
    {
     "data": {
      "text/plain": [
       "0.05"
      ]
     },
     "execution_count": 17,
     "metadata": {},
     "output_type": "execute_result"
    }
   ],
   "source": [
    "S12 = x[0,1]\n",
    "S11 =x[0,0]\n",
    "S66=x[5,5]\n",
    "2*(S11-S12)\n"
   ]
  },
  {
   "cell_type": "code",
   "execution_count": 12,
   "metadata": {},
   "outputs": [
    {
     "data": {
      "text/plain": [
       "0.047115384615384635"
      ]
     },
     "execution_count": 12,
     "metadata": {},
     "output_type": "execute_result"
    }
   ],
   "source": [
    "S12"
   ]
  },
  {
   "cell_type": "code",
   "execution_count": 11,
   "metadata": {},
   "outputs": [],
   "source": [
    "def write_VTI_matrix(C11,C33,C13,C44,C66):\n",
    "    \"\"\"formulate VTI stiffness matrix \n",
    "\n",
    "    Args:\n",
    "        C11 (GPa): stiffness\n",
    "        C33 (GPa): stiffness\n",
    "        C13 (GPa): stiffness\n",
    "        C44 (GPa): stiffness\n",
    "        C65 (GPa): stiffness\n",
    "\n",
    "    Returns:\n",
    "        C: 6x6 stiffness matrix\n",
    "    \"\"\"   \n",
    "    C12= C11-2*C66\n",
    "    C=np.array([[C11,C12,C13,0,0,0],\n",
    "            [C12,C11,C13,0,0,0],\n",
    "            [C13,C13,C33,0,0,0],\n",
    "            [0,0,0,C44,0,0],\n",
    "            [0,0,0,0,C44,0],\n",
    "            [0,0,0,0,0,C66]])\n",
    "    return C\n",
    "def write_iso(K,G):\n",
    "    \"\"\"formulate isotropic 6x6 stiffness matrix in Voigt notation\n",
    "\n",
    "    Args:\n",
    "        Cij (GPa): stiffness     \n",
    "    Returns:\n",
    "        C: 6x6 stiffness matrix\n",
    "    \"\"\"   \n",
    "    lamda = K - 2*G/3\n",
    "\n",
    "    C=np.array([[lamda+2*G,lamda,lamda,0,0,0],\n",
    "            [lamda,lamda+2*G,lamda,0,0,0],\n",
    "            [lamda,lamda,lamda+2*G,0,0,0],\n",
    "            [0,0,0,G,0,0],\n",
    "            [0,0,0,0,G,0],\n",
    "            [0,0,0,0,0,G]])\n",
    "    return C"
   ]
  },
  {
   "cell_type": "code",
   "execution_count": 15,
   "metadata": {},
   "outputs": [
    {
     "data": {
      "text/plain": [
       "array([55, 55, 19,  0,  0,  0])"
      ]
     },
     "execution_count": 15,
     "metadata": {},
     "output_type": "execute_result"
    }
   ],
   "source": [
    "K= write_VTI_matrix(32,13,3,4,6)\n",
    "\n",
    "np.sum(K[0:3,:],axis=0)"
   ]
  },
  {
   "cell_type": "code",
   "execution_count": 30,
   "metadata": {},
   "outputs": [
    {
     "data": {
      "text/plain": [
       "array([[1433, 1289,  195,    0,    0,    0],\n",
       "       [1289, 1433,  195,    0,    0,    0],\n",
       "       [ 195,  195,  187,    0,    0,    0],\n",
       "       [   0,    0,    0,   16,    0,    0],\n",
       "       [   0,    0,    0,    0,   16,    0],\n",
       "       [   0,    0,    0,    0,    0,   36]])"
      ]
     },
     "execution_count": 30,
     "metadata": {},
     "output_type": "execute_result"
    }
   ],
   "source": [
    "K @ (K.T)\n",
    "np.dot(K.T,K)"
   ]
  },
  {
   "cell_type": "code",
   "execution_count": 55,
   "metadata": {},
   "outputs": [],
   "source": [
    "def Brown_Korringa_sub(Csat,K0,G0,Kfl1,Kfl2,phi):\n",
    "    \"\"\" Fluid substitution in anisotropic rock using Brown and Korringa (1975). \n",
    "    the rock is originally saturated by fluid 1. After fluid subsititution, the rock is finally saturated by fluid 2.\n",
    "    Args:\n",
    "        Ssat (6x6 matrix): comliance matrix of the saturated rock\n",
    "        K0 (GPa): Isotropic mineral bulk modulus\n",
    "        G0 (GPa): Isotropic mineral shear modulus\n",
    "        Kfl1 (GPa): bulk modulus of the original fluid\n",
    "        Kfl2 (GPa): bulk modulus of the final fluid\n",
    "        phi (frac): porosity\n",
    "    Written by Jiaxin Yu\n",
    "    \"\"\"    \n",
    "    Ssat = np.linalg.inv(Csat)\n",
    "    \n",
    "    Sdry = Brown_Korringa_sat2dry(Ssat,K0,G0,Kfl1,phi)\n",
    "\n",
    "    Ssat2 = Brown_Korringa_dry2sat(Sdry,K0,G0,Kfl2,phi)\n",
    "    return Ssat2"
   ]
  },
  {
   "cell_type": "code",
   "execution_count": 69,
   "metadata": {},
   "outputs": [],
   "source": [
    "def M_from_V(den, vp,vs):\n",
    "    \"\"\"Compute K and G from velocities and density\n",
    "\n",
    "    Args:\n",
    "        den (g/cm3: bulk density\n",
    "        vp (m/s): p wave velocity\n",
    "        vs (m/s): s wave velocity\n",
    "\n",
    "    Returns:\n",
    "        K, G (GPa):bulk and shear moduli\n",
    "    Written by Jiaxin Yu (July 2021)\n",
    "    \"\"\"    \n",
    "\n",
    "    K=den*1000*(vp**2-4*vs**2/3)\n",
    "    G=den*1000*vs**2\n",
    "    K=K/10**9\n",
    "    G=G/10**9\n",
    "    return K, G"
   ]
  },
  {
   "cell_type": "code",
   "execution_count": 70,
   "metadata": {},
   "outputs": [],
   "source": [
    "from Fluid import *"
   ]
  },
  {
   "cell_type": "code",
   "execution_count": 71,
   "metadata": {},
   "outputs": [],
   "source": []
  },
  {
   "cell_type": "code",
   "execution_count": 75,
   "metadata": {},
   "outputs": [],
   "source": [
    "\n",
    "Vp_hs=4400\n",
    "Vs_hs=3000\n",
    "Vpdry=np.array([2000,2500,3000,3500])\n",
    "Vsdry=np.array([1000,1200,1400,1500])\n",
    "K0=37\n",
    "rhodry= 2.1\n",
    "rhofl=1.1\n",
    "Kfl=2.3\n",
    "phi=0.1\n",
    "Kuf_sat,Guf_sat,Vp_hf,Vs_hf = Mavko_Jizba(Vp_hs, Vs_hs,Vpdry, Vsdry, K0, rhodry, rhofl,Kfl, phi)"
   ]
  },
  {
   "cell_type": "code",
   "execution_count": 76,
   "metadata": {},
   "outputs": [
    {
     "data": {
      "text/plain": [
       "(15.456, 18.9)"
      ]
     },
     "execution_count": 76,
     "metadata": {},
     "output_type": "execute_result"
    }
   ],
   "source": [
    "M_from_V(rhodry, Vp_hs,Vs_hs)"
   ]
  },
  {
   "cell_type": "code",
   "execution_count": 73,
   "metadata": {},
   "outputs": [
    {
     "data": {
      "text/plain": [
       "(14.064209098551123,\n",
       " array([ 3.44180523,  6.12238585, 11.75842446, 16.69840116]),\n",
       " array([2905.2365526 , 3171.3786654 , 3668.51026915, 4054.42297909]),\n",
       " array([1247.94949023, 1664.42492763, 2306.63262275, 2748.78839313]))"
      ]
     },
     "execution_count": 73,
     "metadata": {},
     "output_type": "execute_result"
    }
   ],
   "source": [
    "Kuf_sat,Guf_sat,Vp_hf,Vs_hf"
   ]
  },
  {
   "cell_type": "code",
   "execution_count": 56,
   "metadata": {},
   "outputs": [],
   "source": [
    "Sdry= write_VTI_matrix(20,25,16,10,9)\n",
    "K0=37\n",
    "G0=45\n",
    "Kfl=3\n",
    "phi=0.1\n"
   ]
  },
  {
   "cell_type": "code",
   "execution_count": 59,
   "metadata": {},
   "outputs": [
    {
     "data": {
      "text/plain": [
       "array([[90.33333333, 10.33333333, 10.33333333,  0.        ,  0.        ,\n",
       "         0.        ],\n",
       "       [10.33333333, 90.33333333, 10.33333333,  0.        ,  0.        ,\n",
       "         0.        ],\n",
       "       [10.33333333, 10.33333333, 90.33333333,  0.        ,  0.        ,\n",
       "         0.        ],\n",
       "       [ 0.        ,  0.        ,  0.        , 40.        ,  0.        ,\n",
       "         0.        ],\n",
       "       [ 0.        ,  0.        ,  0.        ,  0.        , 40.        ,\n",
       "         0.        ],\n",
       "       [ 0.        ,  0.        ,  0.        ,  0.        ,  0.        ,\n",
       "        40.        ]])"
      ]
     },
     "execution_count": 59,
     "metadata": {},
     "output_type": "execute_result"
    }
   ],
   "source": [
    "C =  write_iso(37,40)\n",
    "\n",
    "S= Brown_Korringa_sat2dry(np.linalg.inv(C),37,45,3,0.1)\n",
    "np.linalg.inv(S)"
   ]
  },
  {
   "cell_type": "code",
   "execution_count": 49,
   "metadata": {},
   "outputs": [
    {
     "data": {
      "text/plain": [
       "array([[ 9.14329798, -8.85670202, -0.28634028,  0.        ,  0.        ,\n",
       "         0.        ],\n",
       "       [-8.85670202,  9.14329798, -0.28634028,  0.        ,  0.        ,\n",
       "         0.        ],\n",
       "       [-0.28634028, -0.28634028,  0.56855854,  0.        ,  0.        ,\n",
       "         0.        ],\n",
       "       [ 0.        ,  0.        ,  0.        , 10.        ,  0.        ,\n",
       "         0.        ],\n",
       "       [ 0.        ,  0.        ,  0.        ,  0.        , 10.        ,\n",
       "         0.        ],\n",
       "       [ 0.        ,  0.        ,  0.        ,  0.        ,  0.        ,\n",
       "         9.        ]])"
      ]
     },
     "execution_count": 49,
     "metadata": {},
     "output_type": "execute_result"
    }
   ],
   "source": [
    "\n",
    "Brown_Korringa_sat2dry(Sdry,37,45,3,0.1)"
   ]
  },
  {
   "cell_type": "code",
   "execution_count": null,
   "metadata": {},
   "outputs": [],
   "source": [
    "def zoeppritz(vp1, vs1, rho1, vp2, vs2, rho2, theta):\n",
    "\n",
    "    '''\n",
    "    Reflection & Transmission coefficients calculated using full Zoeppritz\n",
    "    equations.\n",
    "    \n",
    "    Usage:\n",
    "    ------\n",
    "    R = rc_zoep(vp1, vs1, rho1, vp2, vs2, rho2, theta1)\n",
    "    \n",
    "    Reference:\n",
    "    ----------\n",
    "    The Rock Physics Handbook, Dvorkin et al.\n",
    "    '''\n",
    "    \n",
    "    # Calculate reflection & transmission angles\n",
    "    theta1 = np.deg2rad(theta)\n",
    "   \n",
    "    \n",
    "    p = np.sin(theta)/vp1 # Ray parameter\n",
    "    # Transmission angle of P-wave\n",
    "    theta2  =np.arcsin(p*vp2)\n",
    "    phi1   = np.arcsin(p*vs1);      # Reflection angle of converted S-wave\n",
    "    phi2   = np.arcsin(p*vs2);      # Transmission angle of converted S-wave\n",
    "    \n",
    "    # Matrix form of Zoeppritz Equations... M & N are two of the matricies\n",
    "    M = np.array([ \n",
    "        [-np.sin(theta1), -np.cos(phi1), np.sin(theta2), np.cos(phi2)],\n",
    "        [np.cos(theta1), -np.sin(phi1), np.cos(theta2), -np.sin(phi2)],\n",
    "        [2*rho1*vs1*np.sin(phi1)*np.cos(theta1), rho1*vs1*(1-2*np.sin(phi1)**2),\n",
    "            2*rho2*vs2*np.sin(phi2)*np.cos(theta2), rho2*vs2*(1-2*np.sin(phi2)**2)],\n",
    "        [-rho1*vp1*(1-2*np.sin(phi1)**2), rho1*vs1*np.sin(2*phi1), \n",
    "            rho2*vp2*(1-2*np.sin(phi2)**2), -rho2*vs2*np.sin(2*phi2)]\n",
    "        ])\n",
    "    \n",
    "    N = np.array([ \n",
    "        [np.sin(theta1), np.cos(phi1), -np.sin(theta2), -np.cos(phi2)],\n",
    "        [np.cos(theta1), -np.sin(phi1), np.cos(theta2), -np.sin(phi2)],\n",
    "        [2*rho1*vs1*np.sin(phi1)*np.cos(theta1), rho1*vs1*(1-2*np.sin(phi1)**2),\n",
    "            2*rho2*vs2*np.sin(phi2)*np.cos(theta2), rho2*vs2*(1-2*np.sin(phi2)**2)],\n",
    "        [rho1*vp1*(1-2*np.sin(phi1)**2), -rho1*vs1*np.sin(2*phi1),\n",
    "            -rho2*vp2*(1-2*np.sin(phi2)**2), rho2*vs2*np.sin(2*phi2)]\n",
    "        ])\n",
    "    a=rho2*(1-2*np.sin(phi2)**2)-rho1*(1-2*np.sin(phi1)**2)\n",
    "    b=rho2*(1-2*np.sin(phi2)**2)+2*rho1*np.sin(phi1)**2\n",
    "    c=rho1*(1-2*np.sin(phi1)**2)+2*rho2*np.sin(phi2)**2\n",
    "    d=2*(rho2*vs2**2-rho1*vs1**2)\n",
    "    H=a-d*np.cos(theta2)/vp2*np.cos(phi2)/vs2\n",
    "    E=b*np.cos(theta1)/vp1+c*np.cos(theta2)/vp2\n",
    "    F=b*np.cos(phi1)/vs1+c*np.cos(phi2)/vs2\n",
    "    G=a-d*np.cos(theta1)/vp1*np.cos(phi2)/vs2\n",
    "    D=E*F+G*H*p**2\n",
    "    Rpp=( (  b*np.cos(theta1)/vp1-c*np.cos(theta2)/vp2)*F-( a+d*np.cos(theta1)/vp1*np.cos(phi2)/vs2)*H*p**2)/D\n",
    "\n",
    "    # This is the important step, calculating coefficients for all modes and rays\n",
    "\n",
    "    \n",
    "    \n",
    "    #R = np.dot(np.linalg.inv(M), N)\n",
    "    \n",
    "    return Rpp"
   ]
  },
  {
   "cell_type": "code",
   "execution_count": 11,
   "metadata": {},
   "outputs": [
    {
     "data": {
      "text/plain": [
       "-0.577350284090787"
      ]
     },
     "execution_count": 11,
     "metadata": {},
     "output_type": "execute_result"
    }
   ],
   "source": [
    "theta= np.radians(30)\n",
    "vsvp=0.5\n",
    "x1=2*np.sin(theta)**2-1-2*np.cos(theta)*np.sqrt(vsvp**2-np.sin(theta)**2)\n",
    "a=np.tan(theta)*x1/vsvp\n",
    "a"
   ]
  },
  {
   "cell_type": "code",
   "execution_count": 8,
   "metadata": {},
   "outputs": [
    {
     "data": {
      "text/plain": [
       "0.49999999999999994"
      ]
     },
     "execution_count": 8,
     "metadata": {},
     "output_type": "execute_result"
    }
   ],
   "source": [
    "np.sin(np.radians(30))"
   ]
  },
  {
   "cell_type": "code",
   "execution_count": 38,
   "metadata": {},
   "outputs": [
    {
     "data": {
      "text/plain": [
       "-0.736925958910858"
      ]
     },
     "execution_count": 38,
     "metadata": {},
     "output_type": "execute_result"
    }
   ],
   "source": [
    "theta= np.radians(30)\n",
    "SP=0.5\n",
    "b=np.sin(theta)/np.sqrt(1-SP**2*np.sin(theta)**2)*(4*np.sin(theta)**2*SP**2-4*SP*np.cos(theta)*np.sqrt(1-SP**2*np.sin(theta)**2))\n",
    "b"
   ]
  },
  {
   "cell_type": "code",
   "execution_count": 39,
   "metadata": {},
   "outputs": [
    {
     "data": {
      "text/plain": [
       "1.1547005085769289"
      ]
     },
     "execution_count": 39,
     "metadata": {},
     "output_type": "execute_result"
    }
   ],
   "source": [
    "theta= np.radians(30)\n",
    "vsvp=0.5\n",
    "x2=np.sin(theta)**2-np.cos(theta)*np.sqrt(vsvp**2-np.sin(theta)**2)\n",
    "b=4*np.tan(theta)*x2/vsvp\n",
    "b"
   ]
  },
  {
   "cell_type": "code",
   "execution_count": 40,
   "metadata": {},
   "outputs": [
    {
     "data": {
      "text/plain": [
       "-0.736925958910858"
      ]
     },
     "execution_count": 40,
     "metadata": {},
     "output_type": "execute_result"
    }
   ],
   "source": [
    "vpvs=1/vsvp\n",
    "facroo=np.sqrt(vpvs**2-np.sin(theta)**2)\n",
    "facall=np.sin(theta)/(vpvs*facroo)\n",
    "b=4.*facall*(np.sin(theta)**2 - np.cos(theta)*facroo)\n",
    "b"
   ]
  },
  {
   "cell_type": "code",
   "execution_count": 35,
   "metadata": {},
   "outputs": [
    {
     "name": "stdout",
     "output_type": "stream",
     "text": [
      "0.7945023950628066\n",
      "1.1917535925942098\n"
     ]
    }
   ],
   "source": [
    "theta= np.radians(50)\n",
    "vsvp=1.5\n",
    "print(np.tan(theta)/vsvp)\n",
    "print(np.sin(theta)/np.sqrt(1-SP**2*np.sin(theta)**2))"
   ]
  },
  {
   "cell_type": "code",
   "execution_count": 4,
   "metadata": {},
   "outputs": [],
   "source": [
    "import scipy.special as sp"
   ]
  },
  {
   "cell_type": "code",
   "execution_count": 21,
   "metadata": {},
   "outputs": [
    {
     "data": {
      "text/plain": [
       "13.037037037037038"
      ]
     },
     "execution_count": 21,
     "metadata": {},
     "output_type": "execute_result"
    }
   ],
   "source": [
    "1126400/3600/24"
   ]
  },
  {
   "cell_type": "code",
   "execution_count": 134,
   "metadata": {},
   "outputs": [],
   "source": []
  },
  {
   "cell_type": "code",
   "execution_count": null,
   "metadata": {},
   "outputs": [],
   "source": []
  },
  {
   "cell_type": "code",
   "execution_count": 140,
   "metadata": {},
   "outputs": [],
   "source": [
    "vpdry=2.500\n",
    "vsdry=1.300\n",
    "K0=37\n",
    "mu0=46\n",
    "rho0=2.75\n",
    "rhofl=1.2\n",
    "Kfl=2.3\n",
    "nu=0.1\n",
    "phi=0.2\n",
    "perm=0.001\n",
    "a=0.02\n",
    "alpha=2\n",
    "d1=-1\n",
    "d2=3\n",
    "freq= np.logspace(d1,d2,100,endpoint=True)\n",
    "rhodry=(1-phi)*rho0\n",
    "Gdry=rhodry*vsdry**2\n",
    "Kdry=rhodry*vpdry**2-(4/3)*Gdry\n",
    "# Gdry=Gdry/1e6\n",
    "# Kdry=Kdry/1e6"
   ]
  },
  {
   "cell_type": "code",
   "execution_count": 158,
   "metadata": {},
   "outputs": [],
   "source": []
  },
  {
   "cell_type": "code",
   "execution_count": 20,
   "metadata": {},
   "outputs": [],
   "source": [
    "P_pr=7\n",
    "T_pr=2"
   ]
  },
  {
   "cell_type": "code",
   "execution_count": 21,
   "metadata": {},
   "outputs": [
    {
     "data": {
      "text/plain": [
       "0.0344497772103125"
      ]
     },
     "execution_count": 21,
     "metadata": {},
     "output_type": "execute_result"
    }
   ],
   "source": [
    "dzdp= 1.938783*P_pr**0.2*(1 - 0.25974025974026*T_pr)**2*(-8*(0.56 - 1/T_pr)**2 - 0.45)*np.exp(P_pr**1.2*(-8*(0.56 - 1/T_pr)**2 - 0.45)/T_pr)/T_pr + 0.22595125*(1 - 0.285714285714286*T_pr)**3 + 0.03\n",
    "dzdp"
   ]
  },
  {
   "cell_type": "code",
   "execution_count": 22,
   "metadata": {},
   "outputs": [
    {
     "data": {
      "text/plain": [
       "0.03444977721031254"
      ]
     },
     "execution_count": 22,
     "metadata": {},
     "output_type": "execute_result"
    }
   ],
   "source": [
    "dz_dp=(0.03+0.00527*(3.5-T_pr)**3)+0.109*(3.85-T_pr)**2*1.2*P_pr**0.2*-(0.45+8*(0.56-1/T_pr)**2)/T_pr*np.exp(-(0.45+8*(0.56-1/T_pr)**2)*P_pr**1.2/T_pr)\n",
    "dz_dp"
   ]
  },
  {
   "cell_type": "code",
   "execution_count": 10,
   "metadata": {},
   "outputs": [
    {
     "data": {
      "text/plain": [
       "(2045.65805350268, 1771.553304040638)"
      ]
     },
     "execution_count": 10,
     "metadata": {},
     "output_type": "execute_result"
    }
   ],
   "source": [
    "Gassmann_vels(2500,1700,2.35,1,2,0.07,1.3,37,0.2)"
   ]
  },
  {
   "cell_type": "code",
   "execution_count": 7,
   "metadata": {},
   "outputs": [
    {
     "data": {
      "text/plain": [
       "44.763663220088624"
      ]
     },
     "execution_count": 7,
     "metadata": {},
     "output_type": "execute_result"
    }
   ],
   "source": [
    "phi=0.1\n",
    "\n",
    "K0=37\n",
    "Ksat1=45\n",
    "Kfl1=1\n",
    "Kfl2=0.5\n",
    "Gassmann2(phi, K0, Ksat1,Kfl1,Kfl2)"
   ]
  },
  {
   "cell_type": "code",
   "execution_count": 131,
   "metadata": {},
   "outputs": [],
   "source": [
    "Vp_fast,Vp_slow,Vs,QP1_inv,QP2_inv,Qs_inv=Biot(Kdry,Gdry,k0,kfl,ro0,rofl,nu,por,perm,a,alfa,freq)"
   ]
  },
  {
   "cell_type": "code",
   "execution_count": 125,
   "metadata": {},
   "outputs": [],
   "source": [
    "rho=(1-por)*ro0+por*rofl # bulk density\n",
    "# poroelastic coefficients\n",
    "D = k0*(1+por*(k0/kfl-1))\n",
    "M = k0**2/(D-Kdry)\n",
    "C = (k0-Kdry)*k0/(D-Kdry)\n",
    "H = Kdry+4*Gdry/3+(k0-Kdry)**2/(D-Kdry)\n",
    "# angular frequency of the plane wave, ω is the angular frequency of the plane wave.\n",
    "w = 2*np.pi*freq \n",
    "# viscodynamic operator\n",
    "zeta = np.sqrt(w*a**2*rofl/nu)\n",
    "T = np.zeros(zeta.size, dtype=complex)\n",
    "# asymptotic values for very high and very low frequencies\n",
    "# high frequency limit, T->(1+i)/sqrt(2)\n",
    "T[zeta<=1e3]=np.exp(1j*3*np.pi/4)*sp.jv(1,zeta[zeta<=1e3]*np.exp(-1j*np.pi/4) )/sp.jv(0, zeta[zeta<=1e3]*np.exp(-1j*np.pi/4) )\n",
    "T[zeta>1e3]=(1+1j)/np.sqrt(2)\n",
    "# low frequency limit F->1\n",
    "F = 1/4 * (zeta*T/(1+2*1j*T/zeta))\n",
    "F[zeta<1e-1]=1\n",
    "q = alfa*rofl/por - 1j*nu*F/(w*perm)\n",
    "# a,b,c terms of the root \n",
    "Ta = (C**2-M*H)\n",
    "Tb = H*q+M*rho-2*C*rofl\n",
    "Tc = rofl**2-rho*q\n",
    "# slowness squared\n",
    "P1_slowness2= (-Tb+np.sqrt(Tb**2-4*Ta*Tc) )/(2*Ta)\n",
    "P2_slowness2= (-Tb-np.sqrt(Tb**2-4*Ta*Tc) )/(2*Ta)\n",
    "S_slowness2= (rho*q-rofl**2)/(Gdry*q)\n",
    "# velocities and attenuations\n",
    "Vp_fast = 1/ np.sqrt(P1_slowness2).real\n",
    "Vp_slow = 1/ np.sqrt(P2_slowness2).real\n",
    "Vs = 1/ np.sqrt(S_slowness2).real\n",
    "QP1_inv= (1/P1_slowness2).imag/(1/P1_slowness2).real\n",
    "QP2_inv= (1/P2_slowness2).imag/(1/P2_slowness2).real\n",
    "Qs_inv = (1/S_slowness2).imag/(1/S_slowness2).real"
   ]
  },
  {
   "cell_type": "code",
   "execution_count": 112,
   "metadata": {},
   "outputs": [],
   "source": [
    "A=np.exp(1j*3*np.pi/4) \n",
    "B=sp.jv(1,np.exp(-1j*np.pi/4)*zeta )\n",
    "\n",
    "C=sp.jv(0, zeta*np.exp(-1j*np.pi/4) )"
   ]
  },
  {
   "cell_type": "code",
   "execution_count": null,
   "metadata": {},
   "outputs": [],
   "source": []
  },
  {
   "cell_type": "code",
   "execution_count": 132,
   "metadata": {},
   "outputs": [
    {
     "data": {
      "text/plain": [
       "[<matplotlib.lines.Line2D at 0x1d4b1daf6d0>]"
      ]
     },
     "execution_count": 132,
     "metadata": {},
     "output_type": "execute_result"
    },
    {
     "data": {
      "image/png": "[encoded data removed]",
      "text/plain": [
       "<Figure size 864x720 with 6 Axes>"
      ]
     },
     "metadata": {
      "needs_background": "light"
     },
     "output_type": "display_data"
    }
   ],
   "source": [
    "plt.figure(figsize=(12,10))\n",
    "plt.subplot(231)\n",
    "plt.semilogx(freq,Vp_fast)\n",
    "plt.subplot(232)\n",
    "plt.semilogx(freq,Vp_slow)\n",
    "plt.subplot(233)\n",
    "plt.semilogx(freq,Vs)\n",
    "plt.subplot(234)\n",
    "plt.semilogx(freq,QP1_inv)\n",
    "plt.subplot(235)\n",
    "plt.semilogx(freq,QP2_inv)\n",
    "plt.subplot(236)\n",
    "plt.semilogx(freq,Qs_inv)"
   ]
  },
  {
   "cell_type": "code",
   "execution_count": 42,
   "metadata": {},
   "outputs": [
    {
     "data": {
      "text/plain": [
       "4"
      ]
     },
     "execution_count": 42,
     "metadata": {},
     "output_type": "execute_result"
    }
   ],
   "source": [
    "a=np.array([1,2,3,4,6,7,7,8,10])\n",
    "idx= a<5\n",
    "np.sum(idx)"
   ]
  },
  {
   "cell_type": "code",
   "execution_count": 46,
   "metadata": {},
   "outputs": [
    {
     "ename": "TypeError",
     "evalue": "can't convert complex to int",
     "output_type": "error",
     "traceback": [
      "\u001b[1;31m---------------------------------------------------------------------------\u001b[0m",
      "\u001b[1;31mTypeError\u001b[0m                                 Traceback (most recent call last)",
      "\u001b[1;32m<ipython-input-46-73b1f2410852>\u001b[0m in \u001b[0;36m<module>\u001b[1;34m\u001b[0m\n\u001b[1;32m----> 1\u001b[1;33m \u001b[0ma\u001b[0m\u001b[1;33m[\u001b[0m\u001b[0midx\u001b[0m\u001b[1;33m]\u001b[0m\u001b[1;33m=\u001b[0m\u001b[1;36m3\u001b[0m\u001b[1;33m+\u001b[0m\u001b[1;36m2j\u001b[0m\u001b[1;33m\u001b[0m\u001b[1;33m\u001b[0m\u001b[0m\n\u001b[0m\u001b[0;32m      2\u001b[0m \u001b[0ma\u001b[0m\u001b[1;33m\u001b[0m\u001b[1;33m\u001b[0m\u001b[0m\n",
      "\u001b[1;31mTypeError\u001b[0m: can't convert complex to int"
     ]
    }
   ],
   "source": [
    "a[idx]=3+2j\n",
    "a\n"
   ]
  },
  {
   "cell_type": "code",
   "execution_count": 16,
   "metadata": {},
   "outputs": [
    {
     "data": {
      "text/plain": [
       "5.0"
      ]
     },
     "execution_count": 16,
     "metadata": {},
     "output_type": "execute_result"
    }
   ],
   "source": []
  }
 ],
 "metadata": {
  "kernelspec": {
   "display_name": "Python 3.8.6 64-bit",
   "language": "python",
   "name": "python3"
  },
  "language_info": {
   "codemirror_mode": {
    "name": "ipython",
    "version": 3
   },
   "file_extension": ".py",
   "mimetype": "text/x-python",
   "name": "python",
   "nbconvert_exporter": "python",
   "pygments_lexer": "ipython3",
   "version": "3.8.6"
  },
  "orig_nbformat": 4,
  "vscode": {
   "interpreter": {
    "hash": "d381afd016e7ee54d18b394a76ad6079eaaafa797295afaba68ab96a6bc3a169"
   }
  }
 },
 "nbformat": 4,
 "nbformat_minor": 2
}
