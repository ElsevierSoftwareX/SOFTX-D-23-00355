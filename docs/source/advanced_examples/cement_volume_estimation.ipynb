{
  "cells": [
    {
      "cell_type": "code",
      "execution_count": null,
      "metadata": {
        "collapsed": false
      },
      "outputs": [],
      "source": [
        "%matplotlib inline"
      ]
    },
    {
      "cell_type": "markdown",
      "metadata": {},
      "source": [
        "\n# Cement volume estimation \n"
      ]
    },
    {
      "cell_type": "code",
      "execution_count": null,
      "metadata": {
        "collapsed": false
      },
      "outputs": [],
      "source": [
        "import numpy as np\nimport matplotlib.pyplot as plt\nimport pandas as pd\nplt.rcParams['font.size']=14\nplt.rcParams['font.family']='arial'\nplt.rcParams['axes.labelpad'] = 10.0"
      ]
    },
    {
      "cell_type": "code",
      "execution_count": null,
      "metadata": {
        "collapsed": false
      },
      "outputs": [],
      "source": [
        "# import the module \nfrom rockphypy import QI"
      ]
    },
    {
      "cell_type": "markdown",
      "metadata": {},
      "source": [
        "The rock physics diagnostic elastic bounds can be used to infer the microstructure from velocity-porosity data (Avseth et al. 2010). By locally validating the constant cement model and other diagnostic models such as friable sand model and contact cement model, we can obtain a quantitative measure of the degree of cement volume from the resulting diagnostic crossplots.\n``QI`` module provides convinient method to perform the cement estimation given data.The following code snippets show the cement volume estimation for synthetic sandstone data. \n\nNotice that, this method is not strictly valid for cement volume estimation for heavily cemeneted sandstone. The constant cement model has its valid range just like any other models. awareness of the model limitation is necessary when applying the approach in pratice. \n\n\n"
      ]
    },
    {
      "cell_type": "code",
      "execution_count": null,
      "metadata": {
        "collapsed": false
      },
      "outputs": [],
      "source": [
        "# parameters\nDqz, Kqz, Gqz = 2.65, 36.6, 45 ## grain density, bulk and shear modulus\nDsh, Ksh, Gsh = 2.7, 21, 7 # shale/clay density, bulk and shear modulus\nDc,Kc, Gc =2.65, 36.6, 45 # cement density, bulk and shear modulus\nDb, Kb = 1, 2.2 # brine density, bulk modulus\nphi_c=0.4 # critical porosity\nsigma=20 # effective pressure\nscheme=2\nCn=8.6\nvsh=0 # shale volume\n# define cement porosity for Vp\nphib=0.3\nf= 0.5 # slip factor"
      ]
    },
    {
      "cell_type": "markdown",
      "metadata": {},
      "source": [
        "## Applied to field data \nLet's import the same synthetic well log data and apply the cement volum estimation using constant cement model  to the well log data \n\n\n"
      ]
    },
    {
      "cell_type": "code",
      "execution_count": null,
      "metadata": {
        "collapsed": false
      },
      "outputs": [],
      "source": [
        "# read data\ndata = pd.read_csv('../../data/well/sandstone.csv',index_col=0)\n\n\n# estimate cement: \nvcem_seeds=np.array([0,0.005,0.01,0.02,0.03,0.04,0.1] )\nphib_p=[0.3,0.37,0.38,0.39,0.395] # define cement porosity for Vp\n\n# compute the elastic bounds\nphi,vp1,vp2,vp3,vs1,vs2,vs3 = QI.screening(Dqz,Kqz,Gqz,Dsh,Ksh,Gsh,Dc,Kc,Gc,Db,Kb,phib,phi_c,sigma,vsh,scheme,f, Cn)\n\n\n\n# create an object with data \nqi= QI(data.VP,phi=data.PHIT_ND,Vsh= data.VSH_GR)\n\n# estimate the cement volume for data\nvcem= qi.estimate_cem(vcem_seeds,Kqz,Gqz,Ksh,Gsh,phi_c,Cn,Kc,Gc,Db,Kb,scheme,vsh,Dsh,Dqz,Dc)"
      ]
    },
    {
      "cell_type": "code",
      "execution_count": null,
      "metadata": {
        "collapsed": false
      },
      "outputs": [],
      "source": [
        "# color_coding cement volume in the porosity and velocity cross plot. \nfig=qi.cement_diag_plot(vcem,Dqz,Kqz,Gqz,Dsh,Ksh,Gsh,Dc,Kc,Gc,Db,Kb,phib,phib_p,phi_c,sigma,vsh,Cn, scheme,f)\nplt.ylim([1900,6100])\nplt.ylabel('Vp (Km/s)')\nplt.yticks(np.arange(2000,6200, 1000),[2,3,4,5,6])\nplt.xlim(-0.01,0.51)"
      ]
    },
    {
      "cell_type": "markdown",
      "metadata": {},
      "source": [
        "As shown by the figure, using a 2D PDF can provide a clearer visualization of the data distribution compared to a normal scatter plot.\n\n\n"
      ]
    },
    {
      "cell_type": "markdown",
      "metadata": {},
      "source": [
        "**Reference** \n- Avseth, P.; Mukerji, T.; Mavko, G. & Dvorkin, J. Rock-physics diagnostics of depositional texture, diagenetic alterations, and reservoir heterogeneity in high-porosity siliciclastic sediments and rocks\u2014A review of selected models and suggested work flows  Geophysics, Society of Exploration Geophysicists, 2010, 75, 75A31-75A47\n\n"
      ]
    }
  ],
  "metadata": {
    "kernelspec": {
      "display_name": "Python 3",
      "language": "python",
      "name": "python3"
    },
    "language_info": {
      "codemirror_mode": {
        "name": "ipython",
        "version": 3
      },
      "file_extension": ".py",
      "mimetype": "text/x-python",
      "name": "python",
      "nbconvert_exporter": "python",
      "pygments_lexer": "ipython3",
      "version": "3.8.12"
    }
  },
  "nbformat": 4,
  "nbformat_minor": 0
}