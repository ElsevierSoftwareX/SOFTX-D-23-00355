{
  "cells": [
    {
      "cell_type": "code",
      "execution_count": null,
      "metadata": {
        "collapsed": false
      },
      "outputs": [],
      "source": [
        "%matplotlib inline"
      ]
    },
    {
      "cell_type": "markdown",
      "metadata": {},
      "source": [
        "\n# Rock physics data screening\n"
      ]
    },
    {
      "cell_type": "code",
      "execution_count": null,
      "metadata": {
        "collapsed": false
      },
      "outputs": [],
      "source": [
        "import numpy as np\nimport matplotlib.pyplot as plt\nimport pandas as pd\nplt.rcParams['font.size']=14\nplt.rcParams['font.family']='arial'\nplt.rcParams['axes.labelpad'] = 10.0"
      ]
    },
    {
      "cell_type": "code",
      "execution_count": null,
      "metadata": {
        "collapsed": false
      },
      "outputs": [],
      "source": [
        "# import the module \nfrom rockphypy import QI"
      ]
    },
    {
      "cell_type": "code",
      "execution_count": null,
      "metadata": {
        "collapsed": false
      },
      "outputs": [],
      "source": [
        "import matplotlib.colors\ncmap1 = matplotlib.colors.LinearSegmentedColormap.from_list(\"\", [\"green\",\"orange\",\"yellow\"])"
      ]
    },
    {
      "cell_type": "markdown",
      "metadata": {},
      "source": [
        "Given tons of petrophysical properties meaured or derived e.g. from well logs, data screening is inevitably required for later intepretation and scenerial modelling. The purpose of data screening is to identify and address any errors, inconsistencies, or missing data in the dataset before any analysis is conducted. \n\nAvseth et al. (2020) proposed a rock physics model-based data screening approach. Several contact based elastic models are used to generate elastic bounds for high-porosity sands and sandstones (typical reservoir sandstone). These elastic bounds can tell if data comply with physics. Rock physics diagnostic models used are ``friable sand model``,``contact cement model`` and ``increasing cement model``, ``rockphypy`` provides all the implementations. In addition, ``rockphypy`` has written the code used to plot the elastic bounds as a function ``QI.screening``, ``QI`` stands for Quantitative Intepretation. There are many practically useful functionalities in this submodule.  \n\n\n"
      ]
    },
    {
      "cell_type": "code",
      "execution_count": null,
      "metadata": {
        "collapsed": false
      },
      "outputs": [],
      "source": [
        "# parameters \nDqz, Kqz, Gqz = 2.65, 36.6, 45 ## grain density, bulk and shear modulus \nDsh, Ksh, Gsh = 2.7, 21, 7 # shale/clay density, bulk and shear modulus\nDc,Kc, Gc =2.65, 36.6, 45 # cement density, bulk and shear modulus\nDb, Kb = 1, 2.2 # brine density, bulk modulus\nDo, Ko = 0.8, 1.5 # oil density, bulk modulus\nDg, Kg = 0.2, 0.06 # gas density, bulk modulus\nphi_c=0.4 # critical porosity\nsigma=20 # effective pressure \nscheme=2\nCn=8.6\n# could be array\nvsh=0 # shale volume\n#phib_p=[0.3,0.36,0.38,0.39] # define cement porosity for Vp\nphib_p=0.3\nf= 0.5 # slip factor"
      ]
    },
    {
      "cell_type": "code",
      "execution_count": null,
      "metadata": {
        "collapsed": false
      },
      "outputs": [],
      "source": [
        "phi,vp1,vp2,vp3,vs1,vs2,vs3 = QI.screening(Dqz,Kqz,Gqz,Dsh,Ksh,Gsh,Dc,Kc,Gc,Db,Kb,phib_p,phi_c,sigma,vsh,scheme,f, Cn)\n\nfig,ax=plt.subplots()\nfig.set_size_inches(7, 6)\nax.plot(phi,vp3,'-k', lw=4, alpha=0.7)\nax.plot(phi,vp1,'--k', lw=2, alpha=0.7)\nax.plot(phi,vp2,'-k',lw=4, alpha=0.7)\nax.set_ylabel('Vp (m/s)')\nax.set_xlabel('porosity')\nax.grid(ls='--',alpha=0.7)"
      ]
    },
    {
      "cell_type": "markdown",
      "metadata": {},
      "source": [
        "## Applied to field data \nLet's import a example synthetic well log data and apply the rock physics screening to the well log data \n\n\n"
      ]
    },
    {
      "cell_type": "code",
      "execution_count": null,
      "metadata": {
        "collapsed": false
      },
      "outputs": [],
      "source": [
        "data = pd.read_csv('../../data/well/example_well.csv')"
      ]
    },
    {
      "cell_type": "code",
      "execution_count": null,
      "metadata": {
        "collapsed": false
      },
      "outputs": [],
      "source": [
        "# sphinx_gallery_thumbnail_number = 2\nfig,ax=plt.subplots()\nfig.set_size_inches(7, 6)\nax.plot(phi,vp3,'-k', lw=4, alpha=0.7)\nax.plot(phi,vp1,'--k', lw=2, alpha=0.7)\nax.plot(phi,vp2,'-k',lw=4, alpha=0.7)\nax.set_ylabel('Vp (m/s)')\nax.set_xlabel('Porosity')\nax.grid(ls='--',alpha=0.7)\n\n\nplt.scatter(data.PHIT_D,data.VP*1000,c=1-data.VSH_GR,vmin=0, vmax=1,edgecolors='grey',s=100,alpha=1,cmap=cmap1)\n\ncbar=plt.colorbar()\ncbar.set_label(r'$V_{\\rm Sand}$')"
      ]
    },
    {
      "cell_type": "markdown",
      "metadata": {},
      "source": [
        "**Reference** \n- Avseth, P., Lehocki, I., Kj\u00f8snes, \u00d8., & Sandstad, O. (2021). Data\u2010driven rock physics analysis of North Sea tertiary reservoir sands. Geophysical Prospecting, 69(3), 608-621.\n\n"
      ]
    }
  ],
  "metadata": {
    "kernelspec": {
      "display_name": "Python 3",
      "language": "python",
      "name": "python3"
    },
    "language_info": {
      "codemirror_mode": {
        "name": "ipython",
        "version": 3
      },
      "file_extension": ".py",
      "mimetype": "text/x-python",
      "name": "python",
      "nbconvert_exporter": "python",
      "pygments_lexer": "ipython3",
      "version": "3.8.12"
    }
  },
  "nbformat": 4,
  "nbformat_minor": 0
}