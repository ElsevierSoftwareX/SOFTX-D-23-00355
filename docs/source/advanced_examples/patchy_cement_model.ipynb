{
  "cells": [
    {
      "cell_type": "code",
      "execution_count": null,
      "metadata": {
        "collapsed": false
      },
      "outputs": [],
      "source": [
        "%matplotlib inline"
      ]
    },
    {
      "cell_type": "markdown",
      "metadata": {},
      "source": [
        "\n# Patchy cement model \n"
      ]
    },
    {
      "cell_type": "code",
      "execution_count": null,
      "metadata": {
        "collapsed": false
      },
      "outputs": [],
      "source": [
        "import numpy as np \nimport matplotlib.pyplot as plt\nplt.rcParams['font.size']=14\nplt.rcParams['font.family']='arial'\nplt.rcParams['axes.labelpad'] = 10.0\n#plt.rcParams[\"font.weight\"] = \"bold\""
      ]
    },
    {
      "cell_type": "code",
      "execution_count": null,
      "metadata": {
        "collapsed": false
      },
      "outputs": [],
      "source": [
        "# import the module \nfrom rockphypy import EM, GM"
      ]
    },
    {
      "cell_type": "markdown",
      "metadata": {},
      "source": [
        "Patchy cement model (PCM) is proposed by Avseth (2016) and mainly applied to high porosity cemented clean sandstone. *Patchy* means the sandstone is weakly to intermediately cemented. The microstructure of the represented as an effective medium comprising a mixture of two end member: cemented sandstones (where all grain contacts are cemented) and loose, unconsolidated sands.\nThe cemented sandstone can be modeled using the\nDvorkin-Nur model, whereas the loose sand end member can be\nmodeled using the Hertz-Mindlin (or Walton) contact theory. The effective dry-rock moduli for\na patchy cemented high-porosity end member then can be formulated as follows:\n\n- Assuming stiff isotropic mixture according to the Hashin-Shtrikman upper bound,\n\n\\begin{align}K_{patchy}=K_{cem}+\\frac{(1-f)}{\\left(K_{unc}-K_{cem}\\right)^{-1}+f\\left(K_{cem}+\\frac{4}{3} \\mu_{cem}\\right)^{-1}}\\end{align}\n\n\n\\begin{align}\\mu_{patchy}=\\mu_{cem}+\\frac{(1-f)}{\\left(\\mu_{un\u0441}-\\mu_{cem}\\right)^{-1}+2 f\\left(\\frac{K_{cem}+2 \\mu_{cem }}{5 \\mu_{cem}\\left(K_{cem}+\\frac{4}{3} \\mu_{cem}\\right)}\\right)}\\end{align}\n\n\n- Assuming soft isotropic mixture according to the Hashin-Shtrikman lower bound\n\n\\begin{align}K_{patchy}=K_{unc}+\\frac{f}{\\left(K_{cem}-K_{unc}\\right)^{-1}+(1-f)\\left(K_{unc}+\\frac{4}{3} \\mu_{unc}\\right)^{-1}}\\end{align}\n\n\n\\begin{align}\\mu_{patchy}=\\mu_{unc}+\\frac{f}{\\left(\\mu_{cem}-\\mu_{unc}\\right)^{-1}+2 (1-f)\\left(\\frac{K_{unc}+2 \\mu_{unc}}{5 \\mu_{unc}\\left(K_{unc}+\\frac{4}{3} \\mu_{unc}\\right)}\\right)}\\end{align}\n\nwhere $K_{cem}$ and $K_{unc}$ are the dry-rock bulk moduli of cemented rock and unconsolidated rock, respectively; $\\mu_{cem}$ and  $\\mu_{unc}$ are the ditto dry-rock shear moduli; and $f$ is the volume fraction of cemented rock in the binary mixture of cemented and unconsolidated rock of the patchy cemented rock.\n\nThe ``GM.pcm`` is the implementation of the patchy cement model provided by ``rockphypy``. \n\nExample\n^^^^^^^ \nRock-physics modeling of patchy cemented sandstone, for which the connected patchy cement and disconnected patchy cement are modeled.\n\n\n"
      ]
    },
    {
      "cell_type": "code",
      "execution_count": null,
      "metadata": {
        "collapsed": false
      },
      "outputs": [],
      "source": [
        "# specify model parameters\nDqz, Kqz, Gqz = 2.65, 36, 42 ## grain density, bulk and shear modulus \nDsh, Ksh, Gsh = 2.7, 21, 7 # shale/clay density, bulk and shear modulus\nDc,Kc, Gc =2.65, 36, 42 # cement density, bulk and shear modulus\nvsh=0\n\n_,_,K0=EM.VRH(np.array([vsh,1-vsh]),np.array([Ksh,Kqz])) # clay fraction can be considered.\n_,_,G0=EM.VRH(np.array([vsh,1-vsh]),np.array([Gsh,Gqz]))\n\nphic=0.4 # critical porosity\nf=np.linspace(0,1,6) # volume fraction of the stiff phase in the binary mixture.\nsigma=10\nphi=np.linspace(1e-6,phic,100)\nCn=6\nv_cem=0.1\nv_ci=0.111\nscheme=2\nf_=0 #reduce shear factor"
      ]
    },
    {
      "cell_type": "code",
      "execution_count": null,
      "metadata": {
        "collapsed": false
      },
      "outputs": [],
      "source": [
        "fig=plt.figure(figsize=(6,6))\nplt.xlabel('Porosity',labelpad=10)\nplt.ylabel(r'K_{\\rm dry} (GPa)',labelpad=10)\nplt.xlim(0,0.4)\nplt.xticks([0, 0.1, 0.2, 0.3,0.4], ['0', '0.1', '0.2', '0.3','0.4'])\n#plt.yticks([0, 10, 20, 30,40], ['0', '1', '2', '3','4'])\nplt.ylim(0,40)\n#plt.title('Connected patchy cement')\nfor i,val in enumerate(f):\n    if val==0:\n        kwargs  =   {'color':\"orange\", # for edge color\n             'linewidth':3, # line width of spot\n             'linestyle':'-', # line style of spot\n            }\n    elif val==1:\n        kwargs  =   {'color':\"darkgreen\", # for edge color\n             'linewidth':3, # line width of spot\n             'linestyle':'-', # line style of spot\n            }\n    else: \n        kwargs  =   {'color':\"grey\", # for edge color\n             'linewidth':2, # line width of spot\n             'linestyle':'--', # line style of spot\n            }\n    Kdry,Gdry=GM.pcm(val,sigma, K0,G0,phi, phic,v_cem,v_ci, Kc,Gc,Cn=Cn, mode='stiff',scheme=scheme,f_=f_)\n\n    plt.plot(phi,Kdry,**kwargs)\nplt.scatter(0.25,30,s=4000, c='darkgreen')\nplt.scatter(0.25,30,s=1700, c='orange')\nplt.title('Connected patchy cement model')"
      ]
    },
    {
      "cell_type": "code",
      "execution_count": null,
      "metadata": {
        "collapsed": false
      },
      "outputs": [],
      "source": [
        "fig=plt.figure(figsize=(6,6))\nplt.xlabel('Porosity',labelpad=10)\nplt.ylabel(r'K_{\\rm dry} (GPa)',labelpad=10)\nplt.xlim(0,0.4)\nplt.xticks([0, 0.1, 0.2, 0.3,0.4], ['0', '0.1', '0.2', '0.3','0.4'])\nplt.ylim(0,40)\n#plt.title('Disconnected patchy cement')\nfor i,val in enumerate(f):\n    if val==0:\n        kwargs  =   {'color':\"orange\", # for edge color\n             'linewidth':3, # line width of spot\n             'linestyle':'-', # line style of spot\n            }\n    elif val==1:\n        kwargs  =   {'color':\"darkgreen\", # for edge color\n             'linewidth':3, # line width of spot\n             'linestyle':'-', # line style of spot\n            }\n    else: \n        kwargs  =   {'color':\"grey\", # for edge color0\n             'linewidth':2, # line width of spot\n             'linestyle':'--', # line style of spot\n            }\n    Kdry,Gdry=GM.pcm(val,sigma, K0,G0,phi,  phic,v_cem,v_ci, Kc,Gc,Cn=Cn,mode='soft',scheme=scheme,f_=f_)\n    plt.plot(phi,Kdry,**kwargs)\n# plot HS coating relation animation \nplt.scatter(0.25,30,s=4000, c='orange')\nplt.scatter(0.25,30,s=1700, c='darkgreen')\nplt.title('Disconnected patchy cement model')"
      ]
    },
    {
      "cell_type": "markdown",
      "metadata": {},
      "source": [
        "## Estimate stress sensitivity of sandstone using PCM \nBy varing the effective stress at given porosity, the stress sensitivities of patchy cement sandstone can be modeled.\n\n\n"
      ]
    },
    {
      "cell_type": "code",
      "execution_count": null,
      "metadata": {
        "collapsed": false
      },
      "outputs": [],
      "source": [
        "sigma=np.linspace(1e-7,20,100) # varing effective stress\nphi=0.36 # fix porosity\n\nfig=plt.figure(figsize=(6,6))\nplt.xlabel('Effective stress (MPa)')\nplt.ylabel(r'K_{\\rm dry} (GPa)')\nplt.xticks([0, 5, 10, 15,20], ['0', '5', '10', '15','20'])\n#xticks([0,5,10,15,20])\n#ax1.set_xticklabels(['0', '5','10','15','20'])\nplt.xlim(0,20)\nplt.ylim(0,8)\n#plt.subplot(121)\nplt.title('Connected patchy cement\\n\\phi=0.36')\n\nfor i,val in enumerate(f):\n    if val==0:\n        kwargs  =   {'color':\"orange\", # for edge color\n             'linewidth':3, # line width of spot\n             'linestyle':'-', # line style of spot\n            }\n    elif val==1:\n        kwargs  =   {'color':\"darkgreen\", # for edge color\n             'linewidth':3, # line width of spot\n             'linestyle':'-', # line style of spot\n            }\n    # elif val==0.8:\n    #     kwargs  =   {'color':\"red\", # for edge color\n    #          'linewidth':3, # line width of spot\n    #          'linestyle':'--', # line style of spot\n    #         }    \n    else: \n        kwargs  =   {'color':\"grey\", # for edge color\n             'linewidth':2, # line width of spot\n             'linestyle':'--', # line style of spot\n            }\n    Kdry,Gdry=GM.pcm(val,sigma, K0,G0,phi,  phic,v_cem,v_ci, Kc,Gc,Cn=Cn,mode='stiff',scheme=scheme,f_=f_)\n    plt.plot(sigma,Kdry,**kwargs)\n    plt.text(10,Kdry[60]+0.1,'{:.1f}'.format(val))"
      ]
    },
    {
      "cell_type": "code",
      "execution_count": null,
      "metadata": {
        "collapsed": false
      },
      "outputs": [],
      "source": [
        "fig=plt.figure(figsize=(6,6))\nplt.xlabel('Effective stress (MPa)')\nplt.ylabel(r'K_{\\rm dry} (GPa)')\nplt.xticks([0, 5, 10, 15,20], ['0', '5', '10', '15','20'])\n\nplt.xlim(0,20)\nplt.ylim(0,8)\nplt.title('Disconnected patchy cement\\n\\phi=0.36')\n\nfor i,val in enumerate(f):\n    if val==0:\n        kwargs  =   {'color':\"orange\", # for edge color\n             'linewidth':3, # line width of spot\n             'linestyle':'-', # line style of spot\n            }\n    elif val==1:\n        kwargs  =   {'color':\"darkgreen\", # for edge color\n             'linewidth':3, # line width of spot\n             'linestyle':'-', # line style of spot\n            }\n    # elif val==0.8:\n    #     kwargs  =   {'color':\"darkblue\", # for edge color\n    #          'linewidth':3, # line width of spot\n    #          'linestyle':'--', # line style of spot\n    #         }     \n    else: \n        kwargs  =   {'color':\"grey\", # for edge color\n             'linewidth':2, # line width of spot\n             'linestyle':'--', # line style of spot\n            }\n    Kdry,Gdry=GM.pcm(val,sigma, K0,G0,phi,  phic,v_cem,v_ci, Kc,Gc,Cn=Cn,mode='soft',scheme=scheme,f_=f_)\n    plt.plot(sigma,Kdry,**kwargs)\n    plt.text(10,Kdry[60]+0.06,'{:.1f}'.format(val))"
      ]
    },
    {
      "cell_type": "markdown",
      "metadata": {},
      "source": [
        "**Reference** \n\n- Avseth, P., Skjei, N. and Mavko, G., 2016. Rock-physics modeling of stress sensitivity and 4D time shifts in patchy cemented sandstones\u2014Application to the Visund Field, North Sea. The Leading Edge, 35(10), pp.868-878.\n\n- Yu, J., Duffaut, K., and Avseth, P. 2023, Stress sensitivity of elastic moduli in high-porosity-cemented sandstone \u2014 Heuristic models and experimental data, Geophysics, 88(4)\n\n"
      ]
    }
  ],
  "metadata": {
    "kernelspec": {
      "display_name": "Python 3",
      "language": "python",
      "name": "python3"
    },
    "language_info": {
      "codemirror_mode": {
        "name": "ipython",
        "version": 3
      },
      "file_extension": ".py",
      "mimetype": "text/x-python",
      "name": "python",
      "nbconvert_exporter": "python",
      "pygments_lexer": "ipython3",
      "version": "3.8.12"
    }
  },
  "nbformat": 4,
  "nbformat_minor": 0
}