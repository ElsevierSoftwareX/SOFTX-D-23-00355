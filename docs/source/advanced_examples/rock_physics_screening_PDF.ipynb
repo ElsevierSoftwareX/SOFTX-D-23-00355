{
  "cells": [
    {
      "cell_type": "code",
      "execution_count": null,
      "metadata": {
        "collapsed": false
      },
      "outputs": [],
      "source": [
        "%matplotlib inline"
      ]
    },
    {
      "cell_type": "markdown",
      "metadata": {},
      "source": [
        "\n# Rock physics data screening: 2D probability density function (PDF)\n"
      ]
    },
    {
      "cell_type": "code",
      "execution_count": null,
      "metadata": {
        "collapsed": false
      },
      "outputs": [],
      "source": [
        "import numpy as np\nimport matplotlib.pyplot as plt\nimport pandas as pd\nplt.rcParams['font.size']=14\nplt.rcParams['font.family']='arial'\nplt.rcParams['axes.labelpad'] = 10.0"
      ]
    },
    {
      "cell_type": "code",
      "execution_count": null,
      "metadata": {
        "collapsed": false
      },
      "outputs": [],
      "source": [
        "# import the module \nfrom rockphypy import QI"
      ]
    },
    {
      "cell_type": "markdown",
      "metadata": {},
      "source": [
        "When data points cluster or overlap, it can be challenging to visualize their distribution. To address this issue, we can estimate the probability density function (PDF) of the data using kernel density estimation, which can enhance the visual clarity of the data. In \"QI\", the built-in method for performing KDE is KDE diffusion.\n\n\n"
      ]
    },
    {
      "cell_type": "code",
      "execution_count": null,
      "metadata": {
        "collapsed": false
      },
      "outputs": [],
      "source": [
        "# parameters \nDqz, Kqz, Gqz = 2.65, 36.6, 45 ## grain density, bulk and shear modulus \nDsh, Ksh, Gsh = 2.7, 21, 7 # shale/clay density, bulk and shear modulus\nDc,Kc, Gc =2.65, 36.6, 45 # cement density, bulk and shear modulus\nDb, Kb = 1, 2.2 # brine density, bulk modulus\nDo, Ko = 0.8, 1.5 # oil density, bulk modulus\nDg, Kg = 0.2, 0.06 # gas density, bulk modulus\nphi_c=0.4 # critical porosity\nsigma=20 # effective pressure \nscheme=2\nCn=8.6\n# could be array\nvsh=0 # shale volume\n#phib_p=[0.3,0.36,0.38,0.39] # define cement porosity for Vp\nphib_p=0.3\nf= 0.5 # slip factor"
      ]
    },
    {
      "cell_type": "markdown",
      "metadata": {},
      "source": [
        "## Applied to field data \nLet's import the same synthetic well log data and apply the rock physics screening to the well log data \n\n\n"
      ]
    },
    {
      "cell_type": "code",
      "execution_count": null,
      "metadata": {
        "collapsed": false
      },
      "outputs": [],
      "source": [
        "# read data\ndata = pd.read_csv('../../data/well/sandstone.csv',index_col=0)\n\n# compute the elastic bounds\nphi,vp1,vp2,vp3,vs1,vs2,vs3 = QI.screening(Dqz,Kqz,Gqz,Dsh,Ksh,Gsh,Dc,Kc,Gc,Db,Kb,phib_p,phi_c,sigma,vsh,scheme,f, Cn)\n\n# create an object with data \nqi= QI(data.VP,phi=data.PHIT_ND,Vsh= data.VSH_GR)\n\n# call the screening plot method \nfig= qi.kde_plot(phi,vp1,vp2,vp3)\n\nplt.ylim([1900,6100])\nplt.ylabel('Vp (Km/s)')\nplt.yticks(np.arange(2000,6200, 1000),[2,3,4,5,6])"
      ]
    },
    {
      "cell_type": "markdown",
      "metadata": {},
      "source": [
        "As shown by the figure, using a 2D PDF can provide a clearer visualization of the data distribution compared to a normal scatter plot.\n\n"
      ]
    },
    {
      "cell_type": "markdown",
      "metadata": {},
      "source": [
        "**Reference** \n- Avseth, P., Lehocki, I., Kj\u00f8snes, \u00d8., & Sandstad, O. (2021). Data\u2010driven rock physics analysis of North Sea tertiary reservoir sands. Geophysical Prospecting, 69(3), 608-621.\n- Kernel density estimation via diffusion in 1d and 2d: https://kde-diffusion.readthedocs.io/en/stable/\n\n"
      ]
    }
  ],
  "metadata": {
    "kernelspec": {
      "display_name": "Python 3",
      "language": "python",
      "name": "python3"
    },
    "language_info": {
      "codemirror_mode": {
        "name": "ipython",
        "version": 3
      },
      "file_extension": ".py",
      "mimetype": "text/x-python",
      "name": "python",
      "nbconvert_exporter": "python",
      "pygments_lexer": "ipython3",
      "version": "3.8.12"
    }
  },
  "nbformat": 4,
  "nbformat_minor": 0
}