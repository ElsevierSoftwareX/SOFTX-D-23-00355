{
  "cells": [
    {
      "cell_type": "code",
      "execution_count": null,
      "metadata": {
        "collapsed": false
      },
      "outputs": [],
      "source": [
        "%matplotlib inline"
      ]
    },
    {
      "cell_type": "markdown",
      "metadata": {},
      "source": [
        "\n# Varying Patchiness Cement Model(VPCM)\n"
      ]
    },
    {
      "cell_type": "code",
      "execution_count": null,
      "metadata": {
        "collapsed": false
      },
      "outputs": [],
      "source": [
        "import pandas as pd \nimport numpy as np \nimport matplotlib.pyplot as plt\nplt.rcParams['font.size']=14\nplt.rcParams['font.family']='arial'"
      ]
    },
    {
      "cell_type": "code",
      "execution_count": null,
      "metadata": {
        "collapsed": false
      },
      "outputs": [],
      "source": [
        "#import rockphypy # import the module \nfrom rockphypy import GM, EM"
      ]
    },
    {
      "cell_type": "markdown",
      "metadata": {},
      "source": [
        "The Hertz-Mindlin thoery indicates that unconsolidated sands exhibit stress sensitivity that arises from grain-grain contact and friction-resisted rotation. The widely applied contact cement model (Dvorkin and Nur, 1996) implies that when the sands are cemented, the resulting sandstone will become completely stress insensitive. However, in real cases, cemented sandstone can still possess stress sensitivity that might originate from the inhomogeneous spatial distribution of the cement within the grain packing. Futhermore, laboratory tests have shown that the sandstone shows significant stress sensitivity when subjected to stress release.  Yu et al. (2023) present a new rock physics model to quantitatively describe the stress sensitivity of weakly to moderately cemented sandstone during effective stress release. The model is built upon the patchy cement model (PCM) and incorporates microscopic observations of cement cracking and crumbling. To account for the reduced coherence of the cement coherence upon stress release, a cement diluting factor $\\alpha$, which helps analyze stress sensitivity changes during stress removal is introduced. \n\nBelow we performed a thorough analysis of the VPCM. \n\nTo understand the idea of varying patchiness cement model, we can start by looking at the stress sensitivity curves of disconnected patchy cement model and connected patchy cement model computed at using the same porosity and same amount of cement. Then the only difference between the two computed sandstone models (connected patchy cement sandstone and disconnected patch cement sandstone) is the microgeometry assumed. Let's model the stress sensitivity curves for porosity=0.36 using PCM:\n\n"
      ]
    },
    {
      "cell_type": "code",
      "execution_count": null,
      "metadata": {
        "collapsed": false
      },
      "outputs": [],
      "source": [
        "# specify model parameters\nDqz, Kqz, Gqz = 2.65, 36, 42 ## grain density, bulk and shear modulus \nDsh, Ksh, Gsh = 2.7, 21, 7 # shale/clay density, bulk and shear modulus\nDc,Kc, Gc =2.65, 36, 42 # cement density, bulk and shear modulus\nvsh=0 # clay fraction \n\n_,_,K0=EM.VRH(np.array([vsh,1-vsh]),np.array([Ksh,Kqz])) # clay fraction can be considered.\n_,_,G0=EM.VRH(np.array([vsh,1-vsh]),np.array([Gsh,Gqz]))\n\nphic=0.4 # critical porosity\n\nphi=np.linspace(1e-6,phic,100)\nCn=6 # coordination number\nv_cem=0.1 # critical cement limit \nv_ci=0.111\nscheme=2 # cement deposition \nf_=0.5 #reduce shear factor\nf=0.8 # effective cement fraction assumed in PCM\nphi=0.36 # porosity \n\nsigma=np.linspace(1e-7,20,100)\n\n# connected patchy cement \nKdry1,Gdry1=GM.pcm(f,sigma, K0,G0,phi, phic,v_cem,v_ci, Kc,Gc,Cn, 'stiff',scheme,f_)\n# disconnected patchy cement \nKdry2,Gdry2=GM.pcm(f,sigma, K0,G0,phi, phic,v_cem,v_ci, Kc,Gc,Cn, 'soft',scheme,f_)\n\n#plot\nfig=plt.figure(figsize=(6,6))\nplt.xlabel('Peff MPa')\nplt.ylabel('$K_{dry}$ GPa')\nplt.xlim(0,20)\nplt.ylim(2.5,5.5)\nplt.title('PCM at $\\phi$=0.36')\nplt.plot(sigma,Kdry1,'-r',lw=3,label='Connected patchy')\nplt.plot(sigma,Kdry2,'-b',lw=3,label='Disconnected patchy')\nplt.fill_between(sigma, Kdry1, Kdry2, color='grey', alpha=0.5)\nplt.legend(loc='best')"
      ]
    },
    {
      "cell_type": "markdown",
      "metadata": {},
      "source": [
        "Between these two curves, there is a noticeable gap, and VPCM seeks to clarify what it represents within that range.\n\n\n"
      ]
    },
    {
      "cell_type": "markdown",
      "metadata": {},
      "source": [
        "## Build Varying Patchiness Cement Model \nRecall that the patchy cement model represents effective medium comprising a binary mixture of cemented sandstone and unconsolidated sand. At high porosity end, the two end member elasticitities $K_{unc}$ and $K_{cem}$ are modelled with and Walton theory with slip factor and contact cement model respectively. \n\n\\begin{align}K_{connected}=K_{cem}+\\frac{(1-fcc)}{\\left(K_{unc}-K_{cem}\\right)^{-1}+fcc\\left(K_{cem}+\\frac{4}{3} \\mu_{cem}\\right)^{-1}}\\end{align}\n\n\\begin{align}K_{disconnected}=K_{unc}+\\frac{fcc}{\\left(K_{cem}-K_{unc}\\right)^{-1}+(1-fcc)\\left(K_{unc}+\\frac{4}{3} \\mu_{unc}\\right)^{-1}}\\end{align}\n\nMicrocracks can develop in the grain contact cement when sandstone is subjected to effective stress release. How to introduce the crack is the big challenge. VPCM address this challenge by cement diluting: the connected patchy sandstone is being replaced by disconnected patchy cement sandstone upon stress release. Then the elasticities given by VPCM at high-porosity end member are:\n\n\\begin{align}K_{vpcm} = K_{connected}(1-\\alpha)+ \\alpha K_{disconnected}\\end{align}\n\nThe diluting factor $\\alpha$ quantifies how much of connected patchy cement has been replaced by disconnected patchy cement upon stress unloading. It is allowed to be stressdependent by\n\n\\begin{align}\\alpha=\\left(1-\\frac{\\sigma^{\\prime}}{\\sigma_0^{\\prime}}\\right)^m\\end{align}\n\nThe effective dry rock moduli at smaller porosity are computed using Lower Hashin-Strikmann mixing as done in Soft Sand model and patchy cement model. \n\n\n"
      ]
    },
    {
      "cell_type": "markdown",
      "metadata": {},
      "source": [
        "The VPCM has been implemented in the ``GM`` module by calling the GM.vpcm. for the forward modeling, predefined the diluting schedule using ``GM.diluting``. \n\n\n"
      ]
    },
    {
      "cell_type": "code",
      "execution_count": null,
      "metadata": {
        "collapsed": false
      },
      "outputs": [],
      "source": [
        "k=1 # full diluting no cement crushing \nsigma0 = sigma.max()\nm= 1 \nalpha = GM.diluting(k,sigma0,sigma,m)\n\nKdry4,Gdry4= GM.vpcm(alpha, f,sigma,K0,G0,phi, phic, v_cem,v_ci, Kc,Gc, Cn,scheme,f_)\n\n\n# sphinx figure \n# sphinx_gallery_thumbnail_number = 2\n\nfig=plt.figure(figsize=(6,6))\nplt.xlabel('Effective stress (MPa)')\nplt.ylabel(r'$K_{\\rm dry}$ (GPa)')\nplt.xlim(0,20)\nplt.ylim(2.5,5.5)\n#plt.title('(b) VPCM at $\\phi$=0.36, f=0.8')\nplt.plot(sigma,Kdry1,'-r',lw=3,label='Connected patchy cement model')\nplt.plot(sigma,Kdry2,'-b',lw=3,label='Disconnected patchy cement model')\n#plt.fill_between(sigma, Kdry1, Kdry2, color='grey', alpha=0.5)\nplt.plot(sigma,Kdry4,'--k',lw=3,label='VPCM')\nplt.legend(loc='best')\n#plt.text(12,4.8,'$\\\\lambda$:[0,1]')"
      ]
    },
    {
      "cell_type": "markdown",
      "metadata": {},
      "source": [
        "**Reference**: \n\n- Yu, J., Duffaut, K., & Avseth, P. (2023). Stress sensitivity of elastic moduli in high-porosity cemented sandstone\u2014Heuristic models and experimental data. Geophysics, 88(4), MR185-MR194.\n\n\n"
      ]
    }
  ],
  "metadata": {
    "kernelspec": {
      "display_name": "Python 3",
      "language": "python",
      "name": "python3"
    },
    "language_info": {
      "codemirror_mode": {
        "name": "ipython",
        "version": 3
      },
      "file_extension": ".py",
      "mimetype": "text/x-python",
      "name": "python",
      "nbconvert_exporter": "python",
      "pygments_lexer": "ipython3",
      "version": "3.8.12"
    }
  },
  "nbformat": 4,
  "nbformat_minor": 0
}