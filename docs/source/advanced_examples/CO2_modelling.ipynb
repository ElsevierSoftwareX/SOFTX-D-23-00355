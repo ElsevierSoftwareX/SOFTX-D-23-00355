{
  "cells": [
    {
      "cell_type": "code",
      "execution_count": null,
      "metadata": {
        "collapsed": false
      },
      "outputs": [],
      "source": [
        "%matplotlib inline"
      ]
    },
    {
      "cell_type": "markdown",
      "metadata": {},
      "source": [
        "\n# Improved CO2 properties modelling using Batzle-Wang\n"
      ]
    },
    {
      "cell_type": "markdown",
      "metadata": {},
      "source": [
        "Using the Batzle-Wang equations for gas to calculate CO2 properties is a common in seismic modelling. Nonetheless, this method can result in substantial inaccuracies, particularly when dealing with elevated fluid pressure.\n\n\n"
      ]
    },
    {
      "cell_type": "code",
      "execution_count": null,
      "metadata": {
        "collapsed": false
      },
      "outputs": [],
      "source": [
        "from rockphypy import utils, BW, GM, Fluid\nimport numpy as np\nimport matplotlib.pyplot as plt\nimport pandas as pd\n\nplt.rcParams['font.size'] = 14\nplt.rcParams['font.family'] = 'arial'\n\nplt.rcParams[\"figure.figsize\"] = (6, 6)\nplt.rcParams['axes.labelpad'] = 10.0"
      ]
    },
    {
      "cell_type": "markdown",
      "metadata": {},
      "source": [
        "First we write a function that computes the the effective properties of $CO_2$-brine mixture given different saturation, temperature, pressure and salinity of the brine. The $CO_2$ property as a function of temperature and pressure is modeled using the modified version of Batzle-Wang proposed by Xu 2006, see the documentation of ``BW.rho_K_co2``. The critical $CO_2$ property is better modeled using Xu's approach.\nThis method has been included in ``BW`` class, it can be called via ``BW.co2_brine``\n\n\n"
      ]
    },
    {
      "cell_type": "code",
      "execution_count": null,
      "metadata": {
        "collapsed": false
      },
      "outputs": [],
      "source": [
        "def co2_brine(temperature, pressure, salinity, Sco2, brie_component=None, bw=False):\n    \"\"\"compute the effective properties of critical Co2 brine mixture depending on temperature, pressure and salinity of the brine, as well as the saturation state.\n\n    Args:\n        temperature (degree)\n        pressure (Mpa): pore pressure, not effective stress\n        salinity (ppm): The weight fraction of NaCl, e.g. 35e-3\n            for 35 parts per thousand, or 3.5% (the salinity of\n            seawater).\n        Sco2 (frac): Co2 saturation\n        brie_component (num): if None: uniform saturation. otherwise patchy saturation according to brie mixing\n\n    Returns:\n        den_mix (g/cc): mixture density\n        Kf_mix (GPa): bulk modulus \n    \"\"\"\n    G = 1.5349\n    if bw is True:\n        rho_co2, K_co2 = BW.rho_K_gas(pressure, temperature, G)\n    else:\n        rho_co2, K_co2 = BW.rho_K_co2(pressure, temperature, G)\n\n    rho_brine, K_b = BW.rho_K_brine(temperature, pressure, salinity)\n\n    den_mix = (1-Sco2)*rho_brine+Sco2*rho_co2\n\n    if brie_component == None:\n        Kf_mix = ((1-Sco2)/K_b+Sco2/K_co2)**-1  # Woods formula\n\n    else:\n        # patchy saturation\n        Kf_mix = Fluid.Brie(K_b, K_co2, 1-Sco2, brie_component)\n    # print('Kco2',K_co2,'K_b', K_b)\n    # print('density',den_mix,'moduli',Kf_mix)\n    return den_mix, Kf_mix"
      ]
    },
    {
      "cell_type": "markdown",
      "metadata": {},
      "source": [
        "comparison between original BW and modified BW for CO2 properties at temperature = 57 degree.\n\n\n"
      ]
    },
    {
      "cell_type": "code",
      "execution_count": null,
      "metadata": {
        "collapsed": false
      },
      "outputs": [],
      "source": [
        "temp = 57  # temperature\nG = 1.5349  # gas gravity of CO2\np = np.linspace(0, 60, 100)  # pore pressure\nrho_co2, K_co2 = BW.rho_K_co2(p, temp, G)  # new BW prediction\nrho_co2_BW, K_co2_BW = BW.rho_K_gas(p, temp, G)  # original BW prediction\n\n# import the data of co2 properties measured by wang and nur\npath = '../../data'\nK_data = pd.read_csv(path+'/wang_K.csv')\nden_data = pd.read_csv(path+'/wang_den.csv')\nden_data = den_data.sort_values(by='pressure')\n\nfig1 = plt.figure(figsize=(4, 4))\nplt.plot(p, K_co2, '-k', lw=3, label='BW_new')\nplt.plot(p, K_co2_BW, '-.k', label='BW')\nplt.ylim(0, 1.4)\nplt.xlim(0, 40)\nplt.plot(K_data.pressure, K_data.K, '--', c='r', label='Lab data')\nplt.xlabel('Pressure (MPa)')\nplt.ylabel('K (GPa)')\nplt.legend()\n# fig1.savefig(path+'/figure1.png',dpi=600,bbox_inches='tight')\nfig2 = plt.figure(figsize=(4, 4))\n\nplt.plot(p, rho_co2, '-k', lw=3, label='BW_new')\nplt.plot(p, rho_co2_BW, '-.k', label='BW')\nplt.plot(den_data.pressure, den_data.density, '--', c='r')\nplt.ylim(0, 1)\nplt.xlim(0, 40)\nplt.xlabel('Pressure (MPa)')\nplt.ylabel(r'Density (g/${\\rm cm^3}$)')\n# fig2.savefig(path+'/figure2.png',dpi=600,bbox_inches='tight')"
      ]
    },
    {
      "cell_type": "markdown",
      "metadata": {},
      "source": [
        "Bulk modulus (top rows) and density (bottom rows) of pure CO2 as a function of pressure and temperature.\n2D plot\n\n"
      ]
    },
    {
      "cell_type": "code",
      "execution_count": null,
      "metadata": {
        "collapsed": false
      },
      "outputs": [],
      "source": [
        "pressure = np.linspace(0, 40, 100)\ntemperature = np.linspace(20, 80, 100)\nP, T = np.meshgrid(pressure, temperature, indexing='ij')\n\nrho_co2, K_co2 = BW.rho_K_co2(P, T, G)  # K in Mpa\nrho_co2_BW, K_co2_BW = BW.rho_K_gas(P, T, G)  # original BW prediction\n\nextent = np.min(temperature), np.max(\n    temperature), np.min(pressure), np.max(pressure)\n\n\n# sphinx_gallery_thumbnail_number = 3\nfig = plt.figure(figsize=(3, 3))\n\n\nim = plt.imshow(rho_co2, aspect=6/4, origin='lower', cmap='jet', extent=extent)\nplt.xlabel('Temperature (\u00b0C)')\nplt.ylabel('Pressure (MPa)')\n# plt.title('Density B-W new',pad=10, fontsize=16)\ncb_ax = fig.add_axes([1.05, 0, .05, 1])\ncbar = fig.colorbar(im, orientation='vertical', cax=cb_ax)\nplt.clim(0, 1)\n# cbar=plt.colorbar(im)\ncbar.set_label(r'Density (g/${\\rm cm^3}$)', size=16, labelpad=10)"
      ]
    },
    {
      "cell_type": "code",
      "execution_count": null,
      "metadata": {
        "collapsed": false
      },
      "outputs": [],
      "source": [
        "######### difference caused by BW #######################\n# grain and brine para\nD0, K0, G0 = 2.65, 36, 42  # grain density, bulk and shear modulus\nDb, Kb = 1, 2.2  # brine density, bulk modulus\n\n# reservoir condition and brine salinity\nP_overburden = 20  # Mpa\nsalinity = 35000/1000000\n\n# HM\nphi_c = 0.4  # critical porosity\nCn = 6  # coordination number\n\noverburden_stress = 40\npore_pressure = 20\nsigma = overburden_stress-pore_pressure  # effective stress\n# saturation condition\nbrie = 4\ntemperature = 45\n\n# softsand model to compute the frame properties\nKdry, Gdry = GM.softsand(K0, G0, phi_c, phi_c, Cn, sigma, f=1)  # soft sand\n# C02 in gas condition:\nsw = np.linspace(0, 1, 50)  # water saturation\nsco2 = 1-sw\n\n# compute the CO2 properties using original BW\n# gaseous co2 mixed with brine, temp=17, pore pressure = 5Mpa\nden1, Kf_mix_1 = co2_brine(temperature, pore_pressure,\n                           salinity, sco2, brie_component=brie, bw=True)\nvp1, vs1, rho1 = Fluid.vels(Kdry, Gdry, K0, D0, Kf_mix_1, den1, phi_c)"
      ]
    },
    {
      "cell_type": "markdown",
      "metadata": {},
      "source": [
        "compute the CO2 properties using modified BW\ngaseous co2 mixed with brine, temp=17, pore pressure = 5Mpa\n\n"
      ]
    },
    {
      "cell_type": "code",
      "execution_count": null,
      "metadata": {
        "collapsed": false
      },
      "outputs": [],
      "source": [
        "den2, Kf_mix_2 = co2_brine(temperature, pore_pressure,\n                           salinity, sco2, brie_component=brie, bw=False)\nvp2, vs2, rho2 = Fluid.vels(Kdry, Gdry, K0, D0, Kf_mix_2, den2, phi_c)"
      ]
    },
    {
      "cell_type": "code",
      "execution_count": null,
      "metadata": {
        "collapsed": false
      },
      "outputs": [],
      "source": [
        "fig = plt.figure(figsize=(5, 4))\n\nplt.plot(sco2, vp1/1000, '-.k', lw=3, label='B-W')\nplt.plot(sco2, vp2/1000, '-r', lw=3, label='B-W New')\nplt.plot(sco2, vs1/1000, '-.k',lw=3)\nplt.plot(sco2, vs2/1000,'--r', lw=3)\n\nplt.xlabel(r' ${\\rm S_{CO_2}}$')\nplt.grid(ls='--')\nplt.ylabel('Velocity (Km/s)')\nplt.legend(loc='best')\nplt.ylim(0.8, 2.4)\nplt.xlim(0, 1)"
      ]
    },
    {
      "cell_type": "markdown",
      "metadata": {},
      "source": [
        "**Reference**\n\n- Xu, H. (2006). Calculation of CO2 acoustic properties using Batzle-Wang equations. Geophysics, 71(2), F21-F23.\n\n\n"
      ]
    }
  ],
  "metadata": {
    "kernelspec": {
      "display_name": "Python 3",
      "language": "python",
      "name": "python3"
    },
    "language_info": {
      "codemirror_mode": {
        "name": "ipython",
        "version": 3
      },
      "file_extension": ".py",
      "mimetype": "text/x-python",
      "name": "python",
      "nbconvert_exporter": "python",
      "pygments_lexer": "ipython3",
      "version": "3.8.12"
    }
  },
  "nbformat": 4,
  "nbformat_minor": 0
}