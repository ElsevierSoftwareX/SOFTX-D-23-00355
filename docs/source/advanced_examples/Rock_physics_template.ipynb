{
  "cells": [
    {
      "cell_type": "code",
      "execution_count": null,
      "metadata": {
        "collapsed": false
      },
      "outputs": [],
      "source": [
        "%matplotlib inline"
      ]
    },
    {
      "cell_type": "markdown",
      "metadata": {},
      "source": [
        "\n# Rock Physics Template (RPT)\n"
      ]
    },
    {
      "cell_type": "code",
      "execution_count": null,
      "metadata": {
        "collapsed": false
      },
      "outputs": [],
      "source": [
        "import pandas as pd \nimport numpy as np \nimport matplotlib.pyplot as plt\nplt.rcParams['font.size']=14\nplt.rcParams['font.family']='arial'"
      ]
    },
    {
      "cell_type": "code",
      "execution_count": null,
      "metadata": {
        "collapsed": false
      },
      "outputs": [],
      "source": [
        "#import rockphypy # import the module \nfrom rockphypy import QI, GM, Fluid"
      ]
    },
    {
      "cell_type": "markdown",
      "metadata": {},
      "source": [
        "Rock physics models can be used to calculate elastic properties with various combination of lithology and fluid parameters. Rock Physics Templates (RPTs) were first presented by \u00d8degaard and Avseth (2003).  Rock physics templates (RPT) is used to display a reference framework of all the possible variations of a particular rock and use such templates to understand actual well log data (or seismic-derived elastic properties). \n\n\n"
      ]
    },
    {
      "cell_type": "code",
      "execution_count": null,
      "metadata": {
        "collapsed": false
      },
      "outputs": [],
      "source": [
        "# specify model parameters\nD0, K0, G0 = 2.65, 36.6, 45\nDc,  Kc, Gc = 2.65,37, 45 # cement\nDb, Kb = 1, 2.5\nDo, Ko = 0.8, 1.5\nDg, Kg = 0.2, 0.05\n### adjustable para\nphi_c = 0.4\nCn=8.6  ## calculate coordination number \nphi = np.linspace(0.1,phi_c,10) #define porosity range according to critical porosity\nsw=np.linspace(0,1,5) # water saturation\nsigma=20\nf=0.5"
      ]
    },
    {
      "cell_type": "markdown",
      "metadata": {},
      "source": [
        "- Case 1: create RPT for unconsolidated sand using softsand/friable sand model \n\n\n"
      ]
    },
    {
      "cell_type": "code",
      "execution_count": null,
      "metadata": {
        "collapsed": false
      },
      "outputs": [],
      "source": [
        "# softsand model gas\nKdry1, Gdry1 = GM.softsand(K0, G0, phi, phi_c, Cn, sigma,f) # soft sand \nfig1=QI.plot_rpt(Kdry1,Gdry1,K0,D0,Kb,Db,Kg,Dg,phi,sw) \nplt.title('Softsand RPT-gas')  \nplt.xlim(1000,10000)\nplt.ylim(1.4,2.4)"
      ]
    },
    {
      "cell_type": "code",
      "execution_count": null,
      "metadata": {
        "collapsed": false
      },
      "outputs": [],
      "source": [
        "# softsand model oil\nfig1_=QI.plot_rpt(Kdry1,Gdry1,K0,D0,Kb,Db,Ko,Do,phi,sw) \nplt.title('Softsand RPT-oil')  \nplt.xlim(1000,10000)\nplt.ylim(1.4,2.4)"
      ]
    },
    {
      "cell_type": "markdown",
      "metadata": {},
      "source": [
        "- Case 2: create RPT for stiff sandstone using stiffsand model \n\n\n"
      ]
    },
    {
      "cell_type": "code",
      "execution_count": null,
      "metadata": {
        "collapsed": false
      },
      "outputs": [],
      "source": [
        "Kdry2, Gdry2 = GM.stiffsand(K0, G0, phi, phi_c, Cn, sigma, f) # stiff sand\nfig2=QI.plot_rpt(Kdry2,Gdry2,K0,D0,Kb,Db,Kg,Dg,phi,sw) \nplt.title('Stiffsand RPT-gas')  \nplt.xlim(1000,14000)\nplt.ylim(1.4,2.3)"
      ]
    },
    {
      "cell_type": "code",
      "execution_count": null,
      "metadata": {
        "collapsed": false
      },
      "outputs": [],
      "source": [
        "# stiffsand model oil\nfig2_=QI.plot_rpt(Kdry2,Gdry2,K0,D0,Kb,Db,Ko,Do,phi,sw) \nplt.title('Stiffsand RPT-oil')  \nplt.xlim(1000,14000)\nplt.ylim(1.4,2.3)"
      ]
    },
    {
      "cell_type": "markdown",
      "metadata": {},
      "source": [
        "## Applied to field data \nLet's import the same synthetic well log data and apply the rock physics screening to the well log data \n\n\n"
      ]
    },
    {
      "cell_type": "code",
      "execution_count": null,
      "metadata": {
        "collapsed": false
      },
      "outputs": [],
      "source": [
        "# read data\ndata = pd.read_csv('../../data/well/sandstone.csv',index_col=0)\n# specify model parameters\nD0, K0, G0 = 2.65, 37, 38\nDg, Kg = 0.2, 0.05\n### adjustable para\nphi_c = 0.36\nphi = np.linspace(0.01,phi_c,10) #define porosity range according to critical porosity\nsw=np.linspace(0,1,5) # water saturation\nIP= data.VP*data.DEN\nPS= data.VP/data.VS \nKdry, Gdry = GM.stiffsand(K0, G0, phi, phi_c, Cn, sigma, f=0) # stiff sand\n\n# sphinx figure \n# sphinx_gallery_thumbnail_number = 5\nfig=QI.plot_rpt(Kdry,Gdry,K0,D0,Kb,Db,Kg,Dg,phi,sw) \nfig.set_size_inches(7, 6)\nplt.scatter(IP,PS, c=data.eff_stress,edgecolors='grey',s=80,alpha=1,cmap='Greens_r')\ncbar=plt.colorbar()\ncbar.set_label(r'$\\rm \\sigma_{eff}$ (MPa)')\nplt.xlabel('IP')  \nplt.xlim(1000,14000)\nplt.ylim(1.4,2.4)\n#fig.savefig(path+'./rpt.png',dpi=600,bbox_inches='tight')"
      ]
    },
    {
      "cell_type": "markdown",
      "metadata": {},
      "source": [
        "**Reference**: \n\n- Mavko, G., Mukerji, T. and Dvorkin, J., 2020. The rock physics handbook. Cambridge university press.\n\n- Avseth, P.A. and Odegaard, E., 2003. Well log and seismic data analysis using rock physics templates. First break, 22(10).\n\n- Avseth, P., Mukerji, T. and Mavko, G., 2010. Quantitative seismic interpretation: Applying rock physics tools to reduce interpretation risk. Cambridge university press.\n\n\n"
      ]
    }
  ],
  "metadata": {
    "kernelspec": {
      "display_name": "Python 3",
      "language": "python",
      "name": "python3"
    },
    "language_info": {
      "codemirror_mode": {
        "name": "ipython",
        "version": 3
      },
      "file_extension": ".py",
      "mimetype": "text/x-python",
      "name": "python",
      "nbconvert_exporter": "python",
      "pygments_lexer": "ipython3",
      "version": "3.8.12"
    }
  },
  "nbformat": 4,
  "nbformat_minor": 0
}