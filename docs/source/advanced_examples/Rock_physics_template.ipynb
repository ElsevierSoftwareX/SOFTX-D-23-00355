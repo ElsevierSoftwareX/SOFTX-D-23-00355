{
  "cells": [
    {
      "cell_type": "code",
      "execution_count": null,
      "metadata": {
        "collapsed": false
      },
      "outputs": [],
      "source": [
        "%matplotlib inline"
      ]
    },
    {
      "cell_type": "markdown",
      "metadata": {},
      "source": [
        "\n# Rock Physics Template (RPT)\n"
      ]
    },
    {
      "cell_type": "code",
      "execution_count": null,
      "metadata": {
        "collapsed": false
      },
      "outputs": [],
      "source": [
        "import numpy as np \nimport matplotlib.pyplot as plt\nplt.rcParams['font.size']=14\nplt.rcParams['font.family']='arial'"
      ]
    },
    {
      "cell_type": "code",
      "execution_count": null,
      "metadata": {
        "collapsed": false
      },
      "outputs": [],
      "source": [
        "#import rockphypy # import the module \nfrom rockphypy import GM, Fluid"
      ]
    },
    {
      "cell_type": "markdown",
      "metadata": {},
      "source": [
        "Rock physics models can be used to calculate elastic properties with various combination of lithology and fluid parameters. Rock Physics Templates (RPTs) were first presented by \u00d8degaard and Avseth (2003).  Rock physics templates (RPT) is used to display a reference framework of all the possible variations of a particular rock and use such templates to understand actual well log data (or seismic-derived elastic properties). \n\nFirst we write a function to create RPT plot given computed Impedance and Vp/Vs ratio using different rock physics models\n\n\n"
      ]
    },
    {
      "cell_type": "code",
      "execution_count": null,
      "metadata": {
        "collapsed": false
      },
      "outputs": [],
      "source": [
        "def plot_rpt(Kdry,Gdry,K0,D0,Kb,Db,Khc,Dhc,phi,sw):\n    \"\"\"Create RPT plot given computed Impedance and Vp/Vs ratio. \n\n    Parameters\n    ----------\n    Kdry : float or array\n        effective bulk modulus given by rock physics model\n    Gdry : float or array\n        effective shear modulus given by rock physics model\n    K0 : float\n        bulk modulus of grain\n    D0 : float\n        density of grain\n    Kb : float\n        bulk moduluf of brine \n    Db : float\n        density of brine\n    Khc : float\n        bulk modulus of HC\n    Dhc : float\n        density of HC\n    phi : float or array \n        porosity\n    sw : float or array\n        water saturation\n\n    Returns\n    -------\n    python onject: fig\n        rpt plot\n    \"\"\"    \n    \n    # setup empty arrays to store Ip and Vp/Vs values\n    IP=np.empty((phi.size,sw.size))\n    PS=np.empty((phi.size,sw.size))\n\n    ## loop over Sw, computes elastic moduli of fluid mixture and saturated rock properties with Gassmann's equation\n    \n    for i,val in enumerate(sw):\n        Kf=(val/Kb+(1-val)/Khc)**-1\n        #Kf_mix(val,Kb,Khc)\n        Df = val*Db+(1-val)*Dhc\n        vp,vs,rho= Fluid.vels(Kdry,Gdry,K0,D0,Kf,Df,phi)\n        IP[:,i]=vp*rho\n        PS[:,i]=vp/vs\n    # plot\n    fig=plt.figure(figsize=(10,8))\n    plt.plot(IP.T, PS.T, '-ok', mec='k', ms=10, mfc='yellow')\n    plt.plot(IP[:,-1], PS[:,-1], '-ok', mec='k', ms=10, mfc='blue')# Brine line \n\n    plt.xlabel('Acoustic Impedance'), plt.ylabel('Vp/Vs')\n    for i,val in enumerate(phi):\n        plt.text(IP[i,-1],PS[i,-1]+.03,'{:.02f}'.format(val), alpha=1,backgroundcolor='0.9')\n    for i,val in enumerate(sw):\n        plt.text(IP[-1,i]-100,PS[-1,i],'Gas={:.02f}'.format(1-sw[i]),ha='right',alpha=1)\n    return fig"
      ]
    },
    {
      "cell_type": "code",
      "execution_count": null,
      "metadata": {
        "collapsed": false
      },
      "outputs": [],
      "source": [
        "# specify model parameters\nD0, K0, G0 = 2.65, 36.6, 45\nDc,  Kc, Gc = 2.65,37, 45 # cement\nDb, Kb = 1, 2.5\nDo, Ko = 0.8, 1.5\nDg, Kg = 0.2, 0.05\n### adjustable para\nphi_c = 0.4\nCn=8.6  ## calculate coordination number \nphi = np.linspace(0.1,phi_c,10) #define porosity range according to critical porosity\nsw=np.linspace(0,1,5) # water saturation\nsigma=20\nf=0.5"
      ]
    },
    {
      "cell_type": "markdown",
      "metadata": {},
      "source": [
        "- Case 1: create RPT for unconsolidated sand using softsand/friable sand model \n\n\n"
      ]
    },
    {
      "cell_type": "code",
      "execution_count": null,
      "metadata": {
        "collapsed": false
      },
      "outputs": [],
      "source": [
        "# softsand model gas\nKdry1, Gdry1 = GM.softsand(K0, G0, phi, phi_c, Cn, sigma,f) # soft sand \nfig1=plot_rpt(Kdry1,Gdry1,K0,D0,Kb,Db,Kg,Dg,phi,sw) \nplt.title('Softsand RPT-gas')  \nplt.xlim(1000,10000)\nplt.ylim(1.4,2.4)"
      ]
    },
    {
      "cell_type": "code",
      "execution_count": null,
      "metadata": {
        "collapsed": false
      },
      "outputs": [],
      "source": [
        "# softsand model oil\nfig1_=plot_rpt(Kdry1,Gdry1,K0,D0,Kb,Db,Ko,Do,phi,sw) \nplt.title('Softsand RPT-oil')  \nplt.xlim(1000,10000)\nplt.ylim(1.4,2.4)"
      ]
    },
    {
      "cell_type": "markdown",
      "metadata": {},
      "source": [
        "- Case 2: create RPT for stiff sandstone using stiffsand model \n\n\n"
      ]
    },
    {
      "cell_type": "code",
      "execution_count": null,
      "metadata": {
        "collapsed": false
      },
      "outputs": [],
      "source": [
        "Kdry2, Gdry2 = GM.stiffsand(K0, G0, phi, phi_c, Cn, sigma, f) # stiff sand\nfig2=plot_rpt(Kdry2,Gdry2,K0,D0,Kb,Db,Kg,Dg,phi,sw) \nplt.title('Stiffsand RPT-gas')  \nplt.xlim(1000,14000)\nplt.ylim(1.4,2.3)"
      ]
    },
    {
      "cell_type": "code",
      "execution_count": null,
      "metadata": {
        "collapsed": false
      },
      "outputs": [],
      "source": [
        "# stiffsand model oil\nfig2_=plot_rpt(Kdry2,Gdry2,K0,D0,Kb,Db,Ko,Do,phi,sw) \nplt.title('Stiffsand RPT-oil')  \nplt.xlim(1000,14000)\nplt.ylim(1.4,2.3)"
      ]
    },
    {
      "cell_type": "markdown",
      "metadata": {},
      "source": [
        "**Reference**: \n\n- Mavko, G., Mukerji, T. and Dvorkin, J., 2020. The rock physics handbook. Cambridge university press.\n\n- Avseth, P.A. and Odegaard, E., 2003. Well log and seismic data analysis using rock physics templates. First break, 22(10).\n\n- Avseth, P., Mukerji, T. and Mavko, G., 2010. Quantitative seismic interpretation: Applying rock physics tools to reduce interpretation risk. Cambridge university press.\n\n\n"
      ]
    }
  ],
  "metadata": {
    "kernelspec": {
      "display_name": "Python 3",
      "language": "python",
      "name": "python3"
    },
    "language_info": {
      "codemirror_mode": {
        "name": "ipython",
        "version": 3
      },
      "file_extension": ".py",
      "mimetype": "text/x-python",
      "name": "python",
      "nbconvert_exporter": "python",
      "pygments_lexer": "ipython3",
      "version": "3.8.12"
    }
  },
  "nbformat": 4,
  "nbformat_minor": 0
}