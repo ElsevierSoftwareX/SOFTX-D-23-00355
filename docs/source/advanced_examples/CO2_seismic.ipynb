{
  "cells": [
    {
      "cell_type": "code",
      "execution_count": null,
      "metadata": {
        "collapsed": false
      },
      "outputs": [],
      "source": [
        "%matplotlib inline"
      ]
    },
    {
      "cell_type": "markdown",
      "metadata": {},
      "source": [
        "\n# CO2 seismic properties\n"
      ]
    },
    {
      "cell_type": "markdown",
      "metadata": {},
      "source": [
        "A interesting question about $CO_2$ injection is how to estimate the seismic properties of the $CO_2$-water mixture. This notebook shows how to perform Gassmann fluid substitution of a sandstone injected with $CO_2$.\n\nWe want to solve the following questions through modelling:\n\n1. Velocity drop resulted from $CO_2$ displacing brine in an unconsolidated sand\n\n2. How different would it be if it is $CO_2$ in gas phase compared to supercritical $CO_2$.\n\n3. How to model the impact of saturation. i.e. difference between patchy saturation or uniform saturation.\n\n\nThe modelling process is as follows:\n\nThe initial unconsolidated sand is brine saturated. The dry rock properties are modeled using Hertz-Mindlin (HM) with porosity = 0.4,  coordination number = 6 at 15 MPa.\n\nThe gas $CO_2$ is modeled at temperature = 17 degree and pressure 5 Mpa,\nThe critical $CO_2$ is modeled at temperature = 60 degree and 10 Mpa.\n\nThe gas saturation varies from 0 to 100%, uniform and patchy saturation are concerned.\n\nThough the above modelling is quite simplified, we can learn how to use building blocks, i.e. functions of ``rockphypy`` to solve pratical questions.\n\n\n"
      ]
    },
    {
      "cell_type": "code",
      "execution_count": null,
      "metadata": {
        "collapsed": false
      },
      "outputs": [],
      "source": [
        "from rockphypy import utils, BW, GM, Fluid\nimport numpy as np\nimport matplotlib.pyplot as plt\nimport pandas as pd\n\nplt.rcParams['font.size'] = 14\nplt.rcParams['font.family'] = 'arial'\n\nplt.rcParams[\"figure.figsize\"] = (6, 6)\nplt.rcParams['axes.labelpad'] = 10.0\n\n\n# grain and brine para\nD0, K0, G0 = 2.65, 36, 42  # grain density, bulk and shear modulus\nDb, Kb = 1, 2.2  # brine density, bulk modulus\n\n# reservoir condition and brine salinity\nP_overburden = 20  # Mpa\nsalinity = 35000/1000000\n# HM\nphi_c = 0.4  # critical porosity\nCn = 6  # coordination number"
      ]
    },
    {
      "cell_type": "markdown",
      "metadata": {},
      "source": [
        "- initial state: 100% water saturation at specific temperature and pressure, the reservoir stress condition is predefined with a given overburden pressure 20Mpa.\n\n- Case 1: uniform gasesous $CO_2$ mixed with brine.\n\n\n"
      ]
    },
    {
      "cell_type": "code",
      "execution_count": null,
      "metadata": {
        "collapsed": false
      },
      "outputs": [],
      "source": [
        "# saturation condition\nbrie = None\ntemperature = 17\npore_pressure = 5  # pore pressure\nsigma = P_overburden-pore_pressure  # effective stress\n# softsand model to compute the frame properties\nKdry, Gdry = GM.softsand(K0, G0, phi_c, phi_c, Cn, sigma, f=0.5)  # soft sand\n# C02 in gas condition:\nsw = np.linspace(0, 1, 50)  # water saturation\nsco2 = 1-sw\n# gaseous co2 mixed with brine, temp=17, pore pressure = 5Mpa\nden1, Kf_mix_1 = BW.co2_brine(temperature, pore_pressure,\n                           salinity, sco2, brie_component=brie)\nvp1, vs1, rho1 = Fluid.vels(Kdry, Gdry, K0, D0, Kf_mix_1, den1, phi_c)"
      ]
    },
    {
      "cell_type": "markdown",
      "metadata": {},
      "source": [
        "- Case 2: uniform critical $CO_2$ mixed with brine.\n\n\n"
      ]
    },
    {
      "cell_type": "code",
      "execution_count": null,
      "metadata": {
        "collapsed": false
      },
      "outputs": [],
      "source": [
        "# C02 in critical condition: the critical condition of c02 is 31.1\u00b0 C, 7.4Mpa.\n\nbrie = None\ntemperature = 60\npore_pressure = 10  # pore pressure\nsigma = P_overburden-pore_pressure  # effective stress\n# softsand model to compute the frame properties\nKdry, Gdry = GM.softsand(K0, G0, phi_c, phi_c, Cn, sigma, f=0.5)  # soft sand\n# C02 in critical condition:\nden2, Kf_mix_2 = BW.co2_brine(temperature, pore_pressure, salinity,\n                           sco2, brie_component=brie)  # gas co2 mixed with brine\nvp2, vs2, rho2 = Fluid.vels(Kdry, Gdry, K0, D0, Kf_mix_2, den2, phi_c)"
      ]
    },
    {
      "cell_type": "code",
      "execution_count": null,
      "metadata": {
        "collapsed": false
      },
      "outputs": [],
      "source": [
        "plt.figure()\nname = 'Uniform saturation'\nplt.title(name)\nplt.plot(sco2, vp1/1000, '-k', label='Gas CO2')\nplt.plot(sco2, vp2/1000, '-r', label='Critical CO2')\nplt.xlabel('CO2 saturation')\nplt.grid(ls='--')\nplt.ylabel('Vp (Km)')\nplt.legend(loc='best')"
      ]
    },
    {
      "cell_type": "markdown",
      "metadata": {},
      "source": [
        "- Case 3: patchy saturated critical $CO_2$ mixed with brine.\n\n\n"
      ]
    },
    {
      "cell_type": "code",
      "execution_count": null,
      "metadata": {
        "collapsed": false
      },
      "outputs": [],
      "source": [
        "# sphinx_gallery_thumbnail_number = 2\nbrie = np.arange(5, 45, 5)\ncolors = plt.cm.rainbow(np.linspace(0, 1, len(brie)))\nplt.figure()\nname = 'Patchy saturation'\nplt.title(name)\nplt.xlabel('CO2 saturation')\nplt.grid(ls='--')\nplt.ylabel('Vp (Km)')\n\n\nfor i, val in enumerate(brie):\n    den, Kf_mix = BW.co2_brine(temperature, pore_pressure, salinity,\n                            sco2, brie_component=val)  # gas co2 mixed with brine\n    vp, vs, rho = Fluid.vels(Kdry, Gdry, K0, D0, Kf_mix, den, phi_c)\n\n    plt.plot(sco2, vp/1000, c=colors[i],\n             label='Brie component = {}'.format(val))\n\nplt.legend(loc='best')"
      ]
    }
  ],
  "metadata": {
    "kernelspec": {
      "display_name": "Python 3",
      "language": "python",
      "name": "python3"
    },
    "language_info": {
      "codemirror_mode": {
        "name": "ipython",
        "version": 3
      },
      "file_extension": ".py",
      "mimetype": "text/x-python",
      "name": "python",
      "nbconvert_exporter": "python",
      "pygments_lexer": "ipython3",
      "version": "3.8.12"
    }
  },
  "nbformat": 4,
  "nbformat_minor": 0
}