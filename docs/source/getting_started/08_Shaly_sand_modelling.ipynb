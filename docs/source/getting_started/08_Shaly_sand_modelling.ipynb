{
  "cells": [
    {
      "cell_type": "code",
      "execution_count": null,
      "metadata": {
        "collapsed": false
      },
      "outputs": [],
      "source": [
        "%matplotlib inline"
      ]
    },
    {
      "cell_type": "markdown",
      "metadata": {},
      "source": [
        "\n# Sand-Shale mixture modelling \n"
      ]
    },
    {
      "cell_type": "code",
      "execution_count": null,
      "metadata": {
        "collapsed": false
      },
      "outputs": [],
      "source": [
        "import numpy as np \nimport matplotlib.pyplot as plt\nimport matplotlib.patches as mpatches\nplt.rcParams['font.size']=14\nplt.rcParams['font.family']='arial'"
      ]
    },
    {
      "cell_type": "code",
      "execution_count": null,
      "metadata": {
        "collapsed": false
      },
      "outputs": [],
      "source": [
        "import rockphypy # import the module \nfrom rockphypy import GM\nfrom rockphypy import Fluid"
      ]
    },
    {
      "cell_type": "markdown",
      "metadata": {},
      "source": [
        "## Thomas-Stieber Sand-Shale mixture model\nThe following ternary diagram shows the main Sand-Shale mixtures considered in Thomas-Stieber model for the porosity of  thinly-bedded Sand shale systems. The model assumes that thinly-bedded Sand shale systems can be constructed by mixing clean high porosity sand and low porosity shale. The porosity of each mixtures in the diagram are analysed as follows:\n\n1. Pure shale: \n\n\\begin{align}\\phi=\\phi_{shale}\\end{align}\n\n\n2. Pure clean sand: \n\n\\begin{align}\\phi=\\phi_{sand}\\end{align}\n\n\n3. Dirty Sand (Sand with dispersed shale in the pore space): \n\n\\begin{align}\\phi=\\phi_{sand}-V_{shale}(1-\\phi_{shale})\\end{align}\n\n\n4. Sand with pore space completely filled with shale: \n\n\\begin{align}\\phi=\\phi_{sand}\\phi_{shale} V_{shale}=\\phi_{sand}\\end{align}\n\n\n5. Shale with dispersed quartz grains: \n\n\\begin{align}\\phi=V_{shale}\\phi_{shale}  V_{shale} \\neq \\phi_{sand}\\end{align}\n\n\n6. Sand with structural shale clasts: \n\n\\begin{align}\\phi=\\phi_{sand}+\\phi_{shale}V_{shale}\\end{align}\n\n\nFrom The handbook of rock physics (Mavko, 2020)\n\nA thinly interbedded or laminated system of rocks has total porosity:\n\n\\begin{align}\\phi=\\sum_{i}X_i\\phi_i\\end{align}\n\n\nwhere $\\phi_i$ is the total porosity of the ith layer, and $X_i$ is the thickness fraction of the $i$-th\nlayer. For a laminated sequence of shale and dirty sand, the total porosity is\n\n\\begin{align}\\phi=N / G\\left[\\phi_{\\text {clean sand }}-\\left(1-\\phi_{\\text {shale }}\\right) V_{\\text {disp shale }}\\right]+(1-N / G) \\phi_{\\text {shale }}\\end{align}\n\n\nwhere **net-to-gross, N/G**, is the thickness fraction of sand layers. N/G is not identical to the shale fraction, since some dispersed shale can be within the sand.\n\n## Example 1:\nLet's make a plot showing Porosity versus shale volume in the Thomas\u2013Stieber model. \n\n\n"
      ]
    },
    {
      "cell_type": "code",
      "execution_count": null,
      "metadata": {
        "collapsed": false
      },
      "outputs": [],
      "source": [
        "phi_sand=0.3\nphi_sh=0.2\nvsh=np.linspace(0,1,100)\nphi_ABC,phi_AC=GM.ThomasStieber(phi_sand, phi_sh, vsh)\n# plot\nfig, ax = plt.subplots(figsize=(6,6))\narrow = mpatches.FancyArrowPatch((0.05,0.2), (0.2, 0.075),mutation_scale=30)\nax.add_patch(arrow)\n# fig= plt.figure(figsize=(6,6))\nplt.xlabel('Shale Volume')  \nplt.ylabel('Porosity $\\phi$')\nplt.xlim(-0.05,1.05)\nplt.ylim(0,0.4)\nplt.title('Thomas\u2013Stieber model')\nplt.plot(vsh, phi_ABC,'-k',lw=2,label='sand with dispersed shale')\nplt.plot(vsh, phi_AC,'-k',lw=2,label='shale with dispersed quartz')\nplt.grid(ls='--')\nplt.text(0,0.31, 'A')\nplt.text(0.25,0.05, 'B')\nplt.text(1,0.21, 'C')\nplt.text(0.,0.1, 'V_disp')"
      ]
    },
    {
      "cell_type": "markdown",
      "metadata": {},
      "source": [
        "From A to B, the amount of dispersed shale increases. $V_{disp}$ is the volume of dispersed shale in the sand pore space. The minimum porosity occurs at point B when the sand porosity is completely filled with shale\n\n\n"
      ]
    },
    {
      "cell_type": "code",
      "execution_count": null,
      "metadata": {
        "collapsed": false
      },
      "outputs": [],
      "source": [
        "# plot\n# sphinx_gallery_thumbnail_number = 2\n# input \nphi_sand=0.3\nphi_sh=0.2\n# draw ABC outline\nvsh=np.linspace(0,1,100)\nphi1=phi_sand-(1-phi_sh)*vsh# dirty sand\nphi2=phi_sh*vsh\nphi_ABC= np.maximum(phi1,phi2) # take values sitting above\nm= phi_sh-phi_sand\nb= phi_sand\nphi_AC= m*vsh+b\n\nfig, ax = plt.subplots(figsize=(6,6))\nplt.xlabel('Shale Volume')  \nplt.ylabel('Porosity $\\phi$')\nplt.plot(vsh, phi_ABC,'-k',lw=2,label='sand with dispersed shale')\nplt.xlim(-0.05,1.05)\nplt.ylim(0,0.4)\nplt.plot(vsh, phi_AC,'-k',lw=2,label='shale with dispersed quartz')\nplt.grid(ls='--')\n# draw inner crosslines\nNG=np.linspace(0.2,0.8,4) # net-to-gross ratio\nfor i, val in enumerate(NG):\n    vsh=np.linspace(1-val,1,100)\n    \n    phi3= val*phi1+(1-val)*phi_sh\n    phi2=phi_sh*vsh\n    phi3= np.maximum(phi3,phi2) \n    plt.plot(vsh, phi3,'-k',lw=2,label='structured shale')\n\n    x1= (phi_sand*val)\n    y1= phi_sand-(1-phi_sh)* x1 \n    m= (y1-phi_sh)/(x1-1)\n    b=  (x1*phi_sh - y1)/(x1-1)\n    line= m* np.linspace(x1,1,100)+b\n    plt.plot(np.linspace(x1,1,100), line,'-k',lw=2,label='structured shale')\n\nplt.text(0,0.31, 'A')\nplt.text(0.25,0.05, 'B')\nplt.text(1,0.21, 'C')\nplt.text(0.,0.1, 'V_disp')\nplt.text(0.5,0.28, 'Decreasing N/G')\narrow1= mpatches.FancyArrowPatch((0.05,0.2), (0.2, 0.075),mutation_scale=30)\nax.add_patch(arrow1)\narrow2= mpatches.FancyArrowPatch((0.2,0.3), (0.8, 0.24),mutation_scale=30)\nax.add_patch(arrow2)"
      ]
    },
    {
      "cell_type": "markdown",
      "metadata": {},
      "source": [
        "## Dvorkin\u2013Gutierrez Elastic Models\nSeveral authors (e.g., Marion, 1990; Yin, 1992; Dvorkin and Gutierrez, 2002; Avseth et al.,\n2010) have extended the Thomas\u2013Stieber approach to model elastic properties of clastics\ncomposed of sand and shale end members. The velocity-porosity trend of\n\u201csandy shale\u201d (line B-C in Figure 5.3.5) has been modeled using a Hashin\u2013Shtrikman lower\nbound (HSLB) extending from the shale point to the sand mineral point, passing through\npoint B (sometimes call the \u201cV-point\u201d), which might be physically realized as a mixture of\nelastically stiff grains (e.g., quartz) enveloped by softer microporous shale. One can\nsimilarly model the \u201cshaly-sand\u201d trend (line A-B in Figure 5.3.5) as a HSLB extending from the clean sand point to the V-point. (Heuristically, the role of the HSLB is that of a \u201csoft\ninterpolator\u201d between specified end points, as discussed in Section 7.1. For the sandy-shale\ntrend, we imagine quartz mineral suspended in the much softer load-bearing shale matrix.\nFor the shaly-sand trend, we imagine that the quartz sand is load bearing, and that\na substantial fraction of the clay mineral sits passively in the pore space\n\nshaly sand: Sand grains are load bearing and clay particles fill the pore space without disturbing the sand pack.\nsandy shale: Sand grains are suspended in the clay volume so both constituents become load bearing. \n\nPore-filling clay cause a stiffening of rock frame in sands. Hence, a velocity ambiguity is expected between clean, unconsolidated sands and clay-rich shales.\n\n## Dvorkin\u2013Gutierrez silty shale model\nThe porosity of a shale as a function of clay content, assuming\nsilt grains to be dispersed in the clay matrix, can be expressed as:\n\n\\begin{align}\\phi=\\phi_{sh}C\\end{align}\n\n\nwhere $\\phi_{sh}$ is the porosity of a clean shale, and $C$ is the volume fraction of shale in sand-shale mixture. Note: one can approximate a clean shale as a granular medium where grains are clay particles and pore space are filled by fluid.\n\n\\begin{align}K_{\\mathrm{sat}}=\\left[\\frac{C}{K_{\\mathrm{sh}}+(4 / 3) \\mu_{\\mathrm{sh}}}+\\frac{1-C}{K_{\\mathrm{qz}}+(4 / 3) \\mu_{\\mathrm{sh}}}\\right]^{-1}-\\frac{4}{3} \\mu_{\\mathrm{sh}}\\end{align}\n\n\n\\begin{align}\\mu_{\\mathrm{sat}}=\\left[\\frac{C}{\\mu_{\\mathrm{sh}}+Z_{\\mathrm{sh}}}+\\frac{1-C}{\\mu_{\\mathrm{qz}}+Z_{\\mathrm{sh}}}\\right]^{-1}-Z_{\\mathrm{sh}}\\end{align}\n\n\nwhere\n\n\\begin{align}Z_{\\mathrm{sh}}=\\frac{\\mu_{\\mathrm{sh}}}{6}\\left(\\frac{9 K_{\\mathrm{sh}}+8 \\mu_{\\mathrm{sh}}}{K_{\\mathrm{sh}}+2 \\mu_{\\mathrm{sh}}}\\right)\\end{align}\n\n\n$K_{sh}$ and $\\mu_{sh}$ are the saturated elastic moduli of pure shale, respectively. These could be derived from well-log measurements of $V_P$, $V_S$ and density in a pure shale zone. By adding silt or sand particles, the clay content reduces, and the elastic moduli will\nstiffen. The variables $K_{qz}$ and $\\mu_{qz}$ are the mineral moduli of the silt grains, commonly assumed to consist of 100% quartz. The bulk density of shales with dispersed silt is given by:\n\n\\begin{align}\\rho_{\\mathrm{b}}=(1-C) \\rho_{\\mathrm{qz}}+C\\left(1-\\phi_{\\mathrm{sh}}\\right) \\rho_{\\mathrm{clay}}+C \\phi_{\\mathrm{sh}} \\rho_{\\mathrm{fl}}\\end{align}\n\n\nwhere $\\rho_{qz}$ is the density of the silt mineral (2.65 g/cm3 for quartz) and $\\rho_{clay}$ is the density\nof the solid clay.\n\n## Dvorkin\u2013Gutierrez shaly sand model\nThe variation of saturated elastic moduli for sands with increasing clay contnet can be computed via the lower Hashin-Shtrikmann bound, where where $K_{cc}$ and $\\mu_{cc}$ are $K_{sat}$ and $\\mu_{sat}$ as calculated from the sandy shale model at critical clay content and $K_{ss}$ and $\\mu_{ss}$ are $K_{sat}$ and $\\mu_{sat}$ as calculated from any clean sandstone model \n\n\\begin{align}K_{\\mathrm{sat}}=\\left[\\frac{1-C / \\phi_{\\mathrm{ss}}}{K_{\\mathrm{ss}}+(4 / 3) \\mu_{\\mathrm{ss}}}+\\frac{C / \\phi_{\\mathrm{ss}}}{K_{\\mathrm{cc}}+(4 / 3) \\mu_{\\mathrm{ss}}}\\right]^{-1}-\\frac{4}{3} \\mu_{\\mathrm{ss}}\\end{align}\n\n\n\\begin{align}\\mu_{\\mathrm{sat}}=\\left[\\frac{1-C / \\phi_{\\mathrm{ss}}}{\\mu_{\\mathrm{ss}}+Z_{\\mathrm{ss}}}+\\frac{C / \\phi_{\\mathrm{ss}}}{\\mu_{\\mathrm{cc}}+Z_{\\mathrm{ss}}}\\right]^{-1}-Z_{\\mathrm{ss}}\\end{align}\n\n\n\\begin{align}Z_{\\mathrm{ss}}=\\frac{\\mu_{\\mathrm{ss}}}{6} \\frac{9 K_{\\mathrm{ss}}+8 \\mu_{\\mathrm{ss}}}{K_{\\mathrm{ss}}+2 \\mu_{\\mathrm{ss}}}\\end{align}\n\n\n## Example 2:\nLet's visualize the Dvorkin\u2013Gutierrez models for a complete sandy shale to shaly sand sequence in the porosity-bulk modulus space.\n\n\n"
      ]
    },
    {
      "cell_type": "code",
      "execution_count": null,
      "metadata": {
        "collapsed": false
      },
      "outputs": [],
      "source": [
        "# Specify model parameters\nK0, G0 = 37, 45 ## bulk and shear modulus of quartz grain in sand \nKcl, Gcl = 21, 8 # clay particle moduli in shale \nKf= 2.5 #Gpa fluid bulk modulus\nphic_clay=0.2 # critical porosity for clay particles\nphic_sand=0.3 # critical porosity for sand particles\nCn_sand=8.6  #coordination number in sand \nCn_shale=14 #coordination number in shale \nsigma=20 # effective pressure \nf=0.5# reduced shear factor\nphi = np.linspace(1e-7,0.35,100) #define porosity range according to critical porosity\nC=np.linspace(phic_sand,0,100)# shale volume reverse order!!!!\n\n# compute Kss and Gss using HM modeling\nKss_dry, Gss_dry=GM.hertzmindlin(K0, G0, phic_sand, Cn_sand, sigma, f)\nKss, Gss= Fluid.Gassmann(Kss_dry,Gss_dry,K0,Kf,phic_sand)\n# approximate Ksh and Gsh of pure shale using HM modelling\nKsh_dry, Gsh_dry= GM.hertzmindlin(Kcl, Gcl, phic_clay, Cn_shale, sigma, f)\nKsh, Gsh=  Fluid.Gassmann(Ksh_dry,Gsh_dry,Kcl,Kf,phic_clay)\n# compute Kcc and Gcc at critical shale volume, i.e. C=phic_sand\nKcc,Gcc=GM.silty_shale(phic_sand, K0,G0, Ksh, Gsh)\n# shaly sand curve\nKsat1, Gsat1= GM.shaly_sand(phic_sand, C, Kss,Gss, Kcc, Gcc)\nphi_= phic_sand-C*(1-phic_clay) # thomas-stieber shaly sand porosity model\n# sandy shale curve \nC_=np.linspace(phic_sand,1, 100)#shale content increases from 30% to 100%\nKsat2, Gsat2= GM.silty_shale(C_,K0,G0, Ksh, Gsh) \nphi_2=C_*phic_clay"
      ]
    },
    {
      "cell_type": "code",
      "execution_count": null,
      "metadata": {
        "collapsed": false
      },
      "outputs": [],
      "source": [
        "# plot\nplt.figure(figsize=(6,6))\nplt.xlabel('Porosity')\nplt.ylabel('Ksat [GPa]')\nplt.xlim(0,0.35)\nplt.ylim(0,30)\nplt.plot(phi_, Ksat1,'-k',lw=3,label='Shaly sand')\nplt.plot(phi_2, Ksat2,'-r',lw=3,label='Sandy shale')\nplt.legend()"
      ]
    },
    {
      "cell_type": "markdown",
      "metadata": {},
      "source": [
        "**Reference**:\n\n- Mavko, G., Mukerji, T. and Dvorkin, J., 2020. The rock physics handbook. Cambridge university press.\n\n- Dvorkin, J. and Gutierrez, M.A., 2002. Grain sorting, porosity, and elasticity. Petrophysics, 43(03).\n\n- Avseth, P., Mukerji, T. and Mavko, G., 2010. Quantitative seismic interpretation: Applying rock physics tools to reduce interpretation risk. Cambridge university press.\n\n\n"
      ]
    }
  ],
  "metadata": {
    "kernelspec": {
      "display_name": "Python 3",
      "language": "python",
      "name": "python3"
    },
    "language_info": {
      "codemirror_mode": {
        "name": "ipython",
        "version": 3
      },
      "file_extension": ".py",
      "mimetype": "text/x-python",
      "name": "python",
      "nbconvert_exporter": "python",
      "pygments_lexer": "ipython3",
      "version": "3.8.12"
    }
  },
  "nbformat": 4,
  "nbformat_minor": 0
}