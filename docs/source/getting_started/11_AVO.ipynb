{
  "cells": [
    {
      "cell_type": "code",
      "execution_count": null,
      "metadata": {
        "collapsed": false
      },
      "outputs": [],
      "source": [
        "%matplotlib inline"
      ]
    },
    {
      "cell_type": "markdown",
      "metadata": {},
      "source": [
        "\n# Amplitute versus Offset (AVO)\n"
      ]
    },
    {
      "cell_type": "code",
      "execution_count": null,
      "metadata": {
        "collapsed": false
      },
      "outputs": [],
      "source": [
        "import numpy as np \nimport matplotlib.pyplot as plt\nplt.rcParams['font.size']=14\nplt.rcParams['font.family']='arial'"
      ]
    },
    {
      "cell_type": "code",
      "execution_count": null,
      "metadata": {
        "collapsed": false
      },
      "outputs": [],
      "source": [
        "import rockphypy # import the module \nfrom rockphypy import AVO \nfrom rockphypy import Fluid"
      ]
    },
    {
      "cell_type": "markdown",
      "metadata": {},
      "source": [
        "## Zeoppritz Equation\nThe isotropic and elastic behaviour of a P wave incident on a boundary at any angle is described by the Zoeppritz (1919) equations, Aki and Richards (1980) give the results in the following convenient matrix form \n\n\\begin{align}\\left(\\begin{array}{cccc}\\downarrow \\uparrow & \\downarrow \\uparrow & \\uparrow \\uparrow & \\uparrow \\uparrow \\\\ \\mathrm{PP} & \\mathrm{SP} & \\mathrm{PP} & \\mathrm{SP} \\\\ \\downarrow \\uparrow & \\downarrow \\uparrow & \\uparrow \\uparrow & \\uparrow \\uparrow \\\\ \\mathrm{PS} & \\mathrm{SS} & \\mathrm{PS} & \\mathrm{SS} \\\\ \\downarrow \\downarrow & \\downarrow \\downarrow & \\uparrow \\downarrow & \\uparrow \\downarrow \\\\ \\mathrm{PP} & \\mathrm{SP} & \\mathrm{PP} & \\mathrm{SP} \\\\ \\downarrow \\downarrow & \\downarrow \\downarrow & \\uparrow \\downarrow & \\uparrow \\downarrow \\\\ \\mathrm{PS} & \\mathrm{SS} & \\mathrm{PS} & \\mathrm{SS}\\end{array}\\right)=\\mathbf{M}^{-1} \\mathbf{N}\\end{align}\n\n\nwhere each matrix element is a reflection or transmission coefficient for displacement\namplitudes. The first letter designates the type of incident wave, and the second letter\ndesignates the type of reflected or transmitted wave. The arrows indicate downward \u2193\nand upward \u2191 propagation, so that a combination \u2191\u2193 indicates a reflection coefficient,\nwhile a combination \u2193\u2193 indicates a transmission coefficient. \nThe matrices M and N are given by\n\n\\begin{align}M=\\left(\\begin{array}{cccc}-\\sin \\theta_{1} & -\\cos \\theta_{\\mathrm{S} 1} & \\sin \\theta_{2} & \\cos \\theta_{\\mathrm{S} 2} \\\\ \\cos \\theta_{1} & -\\sin \\theta_{\\mathrm{S} 1} & \\cos \\theta_{2} & -\\sin \\theta_{\\mathrm{S} 2} \\\\ 2 \\rho_{1} V_{\\mathrm{S} 1} \\sin \\theta_{\\mathrm{S} 1} \\cos \\theta_{1} & \\rho_{1} V_{\\mathrm{S} 1}\\left(1-2 \\sin ^{2} \\theta_{\\mathrm{S} 1}\\right) & 2 \\rho_{2} V_{\\mathrm{S} 2} \\sin \\theta_{\\mathrm{S} 2} \\cos \\theta_{2} & \\rho_{2} V_{\\mathrm{S} 2}\\left(1-2 \\sin ^{2} \\theta_{\\mathrm{S} 2}\\right) \\\\ -\\rho_{1} V_{\\mathrm{P} 1}\\left(1-2 \\sin ^{2} \\theta_{\\mathrm{S} 1}\\right) & \\rho_{1} V_{\\mathrm{S} 1} \\sin 2 \\theta_{\\mathrm{S} 1} & \\rho_{2} V_{\\mathrm{P} 2}\\left(1-2 \\sin ^{2} \\theta_{\\mathrm{S} 2}\\right) & -\\rho_{2} V_{\\mathrm{S} 2} \\sin 2 \\theta_{\\mathrm{S} 2}\\end{array}\\right)\\end{align}\n\n\n\n\\begin{align}\\mathrm{N}=\\left(\\begin{array}{cccc}\\sin \\theta_{1} & \\cos \\theta_{\\mathrm{S} 1} & -\\sin \\theta_{2} & -\\cos \\theta_{\\mathrm{S} 2} \\\\ \\cos \\theta_{1} & -\\sin \\theta_{\\mathrm{S} 1} & \\cos \\theta_{2} & -\\sin \\theta_{\\mathrm{S} 2} \\\\ 2 \\rho_{1} V_{\\mathrm{S} 1} \\sin \\theta_{\\mathrm{s} 1} \\cos \\theta_{1} & \\rho_{1} V_{\\mathrm{S} 1}\\left(1-2 \\sin ^{2} \\theta_{\\mathrm{S} 1}\\right) & 2 \\rho_{2} V_{\\mathrm{S} 2} \\sin \\theta_{\\mathrm{S} 2} \\cos \\theta_{2} & \\rho_{2} V_{\\mathrm{S} 2}\\left(1-2 \\sin ^{2} \\theta_{\\mathrm{S} 2}\\right) \\\\ \\rho_{1} V_{\\mathrm{P} 1}\\left(1-2 \\sin ^{2} \\theta_{\\mathrm{S} 1}\\right) & -\\rho_{1} V_{\\mathrm{S} 1} \\sin 2 \\theta_{\\mathrm{S} 1} & -\\rho_{2} V_{\\mathrm{P} 2}\\left(1-2 \\sin ^{2} \\theta_{\\mathrm{S} 2}\\right) & \\rho_{2} V_{\\mathrm{S} 2} \\sin 2 \\theta_{\\mathrm{S} 2}\\end{array}\\right)\\end{align}\n\n\n$\\theta$ and $\\theta_s$ are the angles of P- and S-wave propagation,respectively. \nAs we can see,  the Zoeppritz equations are complicated and do not give an intuitive feel for how rock properties impact the change of amplitude with angle. So simpler approximations are required.\n\n## Aki-Richards approximation to Zeoppritz Equation\nAki and Richards (1980) also derived a simplified form by assuming small layer\ncontrasts. The results are conveniently expressed in terms of contrasts in VP, VS, and \u03c1 as\nfollows\n\n\\begin{align}R_{pp}(\\theta)=\\frac{1}{2}\\left(\\frac{\\Delta \\rho}{\\bar{\\rho}}+\\frac{\\Delta V_{p}}{\\bar{V}_{p}}\\right)-2\\left(\\frac{\\bar{V}_{S}}{\\bar{V}_{p}}\\right)^{2}\\left(\\frac{\\Delta \\rho}{\\bar{\\rho}}+\\frac{2 \\Delta V_{S}}{\\bar{V}_{S}}\\right) \\sin ^{2}(\\theta)+\\frac{\\Delta V_{p}}{2 \\bar{V}_{p}} \\tan ^{2}(\\theta)\\end{align}\n\n\n\\begin{align}\\Delta \\rho=\\rho_2-\\rho_1, \\overline{\\rho} = \\frac{\\rho_1+\\rho_2}{2}, \\Delta V_p=V_{p2}-V_{p1}, \\Delta V_s=V_{s2}-V_{s1}\\end{align}\n\n\n\\begin{align}\\overline{V_p}=\\frac{V_{p1}+V_{p2}}{2}, \\overline{V_s}=\\frac{V_{s1}+V_{s2}}{2}\\end{align}\n\n\n## Intercept and gradient\n\nThe expression is equivelent to:\n\n\\begin{align}R_{pp}(\\theta)=\\frac{1}{2}(\\frac{\\Delta \\rho}{\\bar \\rho}+\\frac{\\Delta V_p}{\\bar{V_p}})+\\left [ \\frac{\\Delta V_p}{2\\bar{V_p}}-2\\left ( \\frac{\\bar{V_s}}{\\bar{V_p}} \\right  )^2\\ \\left ( \\frac{\\Delta \\rho}{\\bar \\rho}+\\frac{2\\Delta V_S}{\\bar V_s} \\right )  \\right ] \\sin^2\\theta +\\frac{1}{2}\\frac{\\Delta V_p}{\\bar{V_p}}(\\tan^2\\theta-\\sin^2\\theta)\\end{align}\n\n\nand this can be written as three-term form:\n\n\\begin{align}R_{PP}(\\theta)\\approx R_{P0}+B \\sin^{2} \\theta+C(\\tan^{2} \\theta-\\sin ^{2} \\theta)\\end{align}\n\n\nwhere $R_{P0}$ represents the zero offset P wave section, B describes the variation at intermediate offsets and is often called the AVO gradient, and C dominates at far offsets near the critical angle, it controls the turning point for the angle dependent reflectivity at medium to large angles close to critical angle if it exists.\n\nWhen assume small incident angle, the three-term approximation can be reduced to two-term approximation:\n\n\\begin{align}R_{PP}(\\theta)\\approx R_{P0}+B \\sin^{2} \\theta\\end{align}\n\n\n\n## Example\nAssume constant vertical velocity in the overburden above a horizontal reflector. The reflector shown  represent a clayrich overburden overlying a thick water saturated sandstone. The elastic properties of the clay are as below. Calculate the P-to-P reflectivity of the clay-wet sand interface for the angles up to 90 degree.\n\n\n"
      ]
    },
    {
      "cell_type": "code",
      "execution_count": null,
      "metadata": {
        "collapsed": false
      },
      "outputs": [],
      "source": [
        "# the clay rich layer is denoted as 1 and the wet sandstone layer is denoted as 2\nvp1=2190 \nvs1=716\nden1=2118\nvp2=2760\nvs2=1473\nden2=2229\ntheta=np.linspace(0,90,100)\nR_pp,R_ps, Rpp0, gradient=AVO.Aki_Richards(theta, vp1,vp2,vs1,vs2,den1,den2)\n# plot\nplt.plot(theta,R_pp,'b-',lw=3,label='Rpp')\n\nplt.plot(theta,R_ps,'r-',lw=3,label='Rps')\nplt.ylim(-0.5,0.5)\nplt.xlim(0,90)\nplt.xlabel(' \\\\theta ')\nplt.ylabel('R')\nplt.xticks(np.arange(min(theta), max(theta)+1, 10))\nplt.grid(ls='--')\nplt.legend()"
      ]
    },
    {
      "cell_type": "markdown",
      "metadata": {},
      "source": [
        "**Reference**: Mavko, G., Mukerji, T. and Dvorkin, J., 2020. The rock physics handbook. Cambridge university press.\n\n\n"
      ]
    }
  ],
  "metadata": {
    "kernelspec": {
      "display_name": "Python 3",
      "language": "python",
      "name": "python3"
    },
    "language_info": {
      "codemirror_mode": {
        "name": "ipython",
        "version": 3
      },
      "file_extension": ".py",
      "mimetype": "text/x-python",
      "name": "python",
      "nbconvert_exporter": "python",
      "pygments_lexer": "ipython3",
      "version": "3.8.12"
    }
  },
  "nbformat": 4,
  "nbformat_minor": 0
}