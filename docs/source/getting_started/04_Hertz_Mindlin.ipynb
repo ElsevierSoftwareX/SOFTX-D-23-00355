{
  "cells": [
    {
      "cell_type": "code",
      "execution_count": null,
      "metadata": {
        "collapsed": false
      },
      "outputs": [],
      "source": [
        "%matplotlib inline"
      ]
    },
    {
      "cell_type": "markdown",
      "metadata": {},
      "source": [
        "\n# Hertz-Mindlin and reduced shear factor\n"
      ]
    },
    {
      "cell_type": "code",
      "execution_count": null,
      "metadata": {
        "collapsed": false
      },
      "outputs": [],
      "source": [
        "import numpy as np \nimport matplotlib.pyplot as plt\nplt.rcParams['font.size']=14\nplt.rcParams['font.family']='arial'"
      ]
    },
    {
      "cell_type": "code",
      "execution_count": null,
      "metadata": {
        "collapsed": false
      },
      "outputs": [],
      "source": [
        "import rockphypy # import the module for rock physics\nfrom rockphypy import GM # import the \"effective medium\" GM module"
      ]
    },
    {
      "cell_type": "markdown",
      "metadata": {},
      "source": [
        "## Hertz-Mindlin thoery\nHertz estimated the effective bulk modulus of a *dry, random distributed, identical-sphere pack* as:\n\n\\begin{align}K_{eff}= \\left [ \\frac{C^2(1-\\phi)^2 G^2}{18\\pi^2 (1-\\nu ^2)}P   \\right ]^{1/3}\\end{align}\n\n\nMindlin (1949) showed that if the spheres are first pressed together, and a tangential force is applied afterward, slip may occur at the edges of the contact. The normal stiffness is the same as in the Hertz solution, while the effective shear modulus of a dry, random distributed, identical-sphere pack given by Mindlin is: \n\n\\begin{align}G_{eff}=\\frac{5-4\\nu }{5(2-\\nu )} \\left [ \\frac{3C^2(1-\\phi)^2 G^2}{2\\pi^2 (1-\\nu ^2)}P   \\right ]^{1/3}\\end{align}\n\n\n$C$ is the coordination number being the average number of contacts per particle. $P$ is the hydrostatic confining pressure, $G$ and $\\nu$ are the shear modulus and Poisson' ratio of grain material, respectively. \n\n## Reduced shear factor\nThere are experimental data show that bulk modulus of unconsolidated sand can be well predicted using Hertz Mindlin model, but the predicted shear modulus don't match the lab data. Walton's model is limited to no-slip and slip grain packs, in order to account for the fact that the friction between grains may in the state between no-slip and slip limits, Duffaut et al.(2010) are given as an average of the no-slip and slip contacts. A methodology that gives the same result is the binary mixing factor described in Bachrach and Avseth (2008). The factor from Bachrach and Avseth (2008) treats the grain assembly as a mixture of no-slip and slip contacts, instead of having all contacts at an intermediary state. As a result, the effective bulk modulus of the pack remains the same, but the expression for the effective shear modulus becomes \n\n\\begin{align}G_{\\mathrm{eff}}=\\frac{2+3 f-v(1+3 f)}{5(2-v)}\\left[\\frac{3 C^{2}(1-\\phi)^{2} \\mu^{2}}{2 \\pi^{2}(1-v)^{2}} P\\right]^{1 / 3}\\end{align}\n\n\n## Examples\nThe effect of reduced shear factor on HM modelling\n\n\n"
      ]
    },
    {
      "cell_type": "code",
      "execution_count": null,
      "metadata": {
        "collapsed": false
      },
      "outputs": [],
      "source": [
        "# specify model parameters\nphic=0.4\nCn=8.6\nsigma=np.linspace(0,20,100) # confining pressure \nK0, G0= 37,44\nKw, Gw= 2.2,0\n# no slip and slip limit\n_,G_rough= GM.hertzmindlin(K0, G0, phic, Cn, sigma, 0)\n_,G_smooth= GM.hertzmindlin(K0, G0, phic, Cn, sigma, 1)"
      ]
    },
    {
      "cell_type": "code",
      "execution_count": null,
      "metadata": {
        "collapsed": false
      },
      "outputs": [],
      "source": [
        "# plot\nplt.figure(figsize=(6,6))\nplt.xlabel('Confining pressure (MPa)')\nplt.ylabel('Shear modulus [GPa]')\nplt.plot(sigma, G_rough,'--k',lw=3,label='No Slip limit')\nplt.plot(sigma, G_smooth,'--k',lw=3,label='Slip limit')\n# HM modelling for a discrete set values of reduced shear factors\nlen=20\nf= np.linspace(0,1,len)\ncolors = plt.cm.rainbow(np.linspace(0, 1, len))\nfor i, val in enumerate(f):\n    _,G= GM.hertzmindlin(K0, G0, phic, Cn, sigma, val)\n    plt.plot(sigma, G, color=colors[i])\nplt.legend(loc='best')"
      ]
    },
    {
      "cell_type": "markdown",
      "metadata": {},
      "source": [
        "## Walton's theory\nMindlin assumes a partial slip in the contact area. In constrast, Walton assumes that normal and shear deformation of a two-grain combination occur simultaneously.  The slip occurs across the whole area once applied tractions exceed the friction resistance. Spheres maybe infinitely smooth (perfect slip) or infinitely rough (no slip). For the smooth-spheres dry pack: \n\n\\begin{align}G_{nofriction}=\\frac{1}{10}  \\left [ \\frac{12C^2(1-\\phi)^2 G^2}{\\pi^2 (1-\\nu ^2)}P   \\right ]^{1/3}\\end{align}\n\n\n\\begin{align}K_{nofriction}=\\frac{5}{3}G_{nofriction}\\end{align}\n\n\nThe rough limit is the same as Hertz-Mindlin' theory. \n\n\nNoticed that the function ``GM.hertzmindlin`` and ``GM.walton`` yield exactly the same result as we include the reduced shear factor in both functions. But remember the difference between Hertz-Mindlin's approach and Walton' appraoch and their relations, as above decribed.\n\n\n"
      ]
    },
    {
      "cell_type": "code",
      "execution_count": null,
      "metadata": {
        "collapsed": false
      },
      "outputs": [],
      "source": [
        "print('HM result:', GM.hertzmindlin(30,20,0.4,6,10,0.5))\nprint('Walton result:',GM.Walton(30,20,0.4,6,10,0.5))"
      ]
    },
    {
      "cell_type": "markdown",
      "metadata": {},
      "source": [
        "Note that in many experiments on natural sands and artificial granular\npacks, the observed dependence of the elastic moduli on pressure is different\nfrom that given by the Hertz\u2013Mindlin theory. This is because the grains are\nnot perfect spheres, and the contacts have configurations different from\nthose between perfectly spherical particles. Hertz\u2013Mindlin theory also fails to incorporate the spatial heterogeneity of stress and strain within the random grain pack\n\n\n**Reference**: \n\n- Mavko, G., Mukerji, T. and Dvorkin, J., 2020. The rock physics handbook. Cambridge university press.\n\n- Bachrach, R. & Avseth, P. Rock physics modeling of unconsolidated sands: Accounting for nonuniform contacts and heterogeneous stress fields in the effective media approximation with applications to hydrocarbon exploration  Geophysics, Society of Exploration Geophysicists, 2008, 73, E197-E209\n\n- Duffaut, K.; Landr\u00f8, M. & Sollie, R. Using Mindlin theory to model friction-dependent shear modulus in granular media Geophysics, Society of Exploration Geophysicists, 2010, 75, E143-E152 \n\n\n\n"
      ]
    }
  ],
  "metadata": {
    "kernelspec": {
      "display_name": "Python 3",
      "language": "python",
      "name": "python3"
    },
    "language_info": {
      "codemirror_mode": {
        "name": "ipython",
        "version": 3
      },
      "file_extension": ".py",
      "mimetype": "text/x-python",
      "name": "python",
      "nbconvert_exporter": "python",
      "pygments_lexer": "ipython3",
      "version": "3.8.12"
    }
  },
  "nbformat": 4,
  "nbformat_minor": 0
}