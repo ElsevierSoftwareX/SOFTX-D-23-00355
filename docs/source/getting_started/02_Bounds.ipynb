{
  "cells": [
    {
      "cell_type": "code",
      "execution_count": null,
      "metadata": {
        "collapsed": false
      },
      "outputs": [],
      "source": [
        "%matplotlib inline"
      ]
    },
    {
      "cell_type": "markdown",
      "metadata": {},
      "source": [
        "\n# Elastic bounds\n\nThis example shows the comparison between different elastic bounds to Nur's cirtical porosity model: Voigt and Reuss Bounds, Voigt\u2013Reuss\u2013Hill Average,Hashin-Shtrikmann bounds \n"
      ]
    },
    {
      "cell_type": "code",
      "execution_count": null,
      "metadata": {
        "collapsed": false
      },
      "outputs": [],
      "source": [
        "import numpy as np \nimport matplotlib.pyplot as plt\nplt.rcParams['font.size']=14\nplt.rcParams['font.family']='arial'"
      ]
    },
    {
      "cell_type": "code",
      "execution_count": null,
      "metadata": {
        "collapsed": false
      },
      "outputs": [],
      "source": [
        "import rockphypy # import the module for rock physics\nfrom rockphypy import EM # import the \"effective medium\" EM module \n# import the 'Fluid' module \nfrom rockphypy import Fluid"
      ]
    },
    {
      "cell_type": "markdown",
      "metadata": {},
      "source": [
        "## Voigt and Reuss Bounds\nAt any given volume fraction of constituents, the effective modulus will fall between the bounds. In the lecture we learn that the **Voigt upper bound** $M_v$ of N phases are defined as:\n\n\\begin{align}M_V=\\sum_{i=1}^{N}f_iM_i\\end{align}\n\n\nThe **Reuss lower bound** is \n\n\\begin{align}\\frac{1}{M_R} =\\sum_{i=1}^{N}\\frac{f_i}{M_i}\\end{align}\n\n\nwhere $f_i$ is the volume fraction of the ith phase and $M_i$ is the elastic bulk or shear modulus of the ith phase.\n\n\n## Voigt\u2013Reuss\u2013Hill Average Moduli Estimate\n This average is simply the arithmetic average of the Voigt upper\nbound and the Reuss lower bound.\n\n\\begin{align}M_{VRH}=\\frac{M_V+M_R}{2}\\end{align}\n\n\n:bell: \n  For fluid-solid composite, calculation of Reuss, Voigt and VRH bounds are straightforward. Here we give a generalized function to compute effective moduli of N-phases composite: \n\n\n## Hashin-Shtrikmann bounds\nThe Voigt and Reuss bounds are simply arithmetic and harmonic averages. The **Hashin-Shtrikman bounds** are stricter than the Reuss-Voigt bounds. The *two-phase* HS bounds can be written as: \n\n\\begin{align}K^{\\mathrm{HS} \\pm}=K_{1}+\\frac{f_{2}}{\\left(K_{2}-K_{1}\\right)^{-1}+f_{1}\\left(K_{1}+\\frac{4}{3} \\mu_{1}\\right)^{-1}}\\end{align}\n\n\n\\begin{align}\\mu^{\\mathrm{HS} \\pm}=\\mu_{1}+\\frac{f_{2}}{\\left(\\mu_{2}-\\mu_{1}\\right)^{-1}+2 f_{1}\\left(K_{1}+2 \\mu_{1}\\right) /\\left[5 \\mu_{1}\\left(K_{1}+\\frac{4}{3} \\mu_{1}\\right)\\right]}\\end{align}\n\n\nwhere the superscript +/\u2212 indicates upper or lower bound respectively. $K_1$ and $K_2$ are the bulk moduli of individual phases; $\\mu_1$ and $\\mu_2$ are the shear moduli of individual phases; and $f_1$ and $f_2$ are the volume fractions of individual phases. The upper and lower bounds are computed by interchanging which material is termed 1 and which is termed 2. The expressions yield the upper bound when the stiffest material is termed 1 and the lower bound when the softest material is termed 1. The expressions shown in the lectures represents the HS bound for *fluid-solid composite*. \n\n## Examples\nLet's compute effective bulk and shear moduli of a water saturated rock using different bound models. \n\nHere we also make a comparision with Nur's critical porosity model as introduced in the previous example. \n\n\n"
      ]
    },
    {
      "cell_type": "code",
      "execution_count": null,
      "metadata": {
        "collapsed": false
      },
      "outputs": [],
      "source": [
        "# specify model parameters\nphi=np.linspace(0,1,100,endpoint=True) # solid volume fraction = 1-phi\nK0, G0= 37,44 # moduli of grain material\nKw, Gw= 2.2,0 # moduli of water \n# VRH bounds\nvolumes= np.vstack((1-phi,phi)).T\nM= np.array([K0,Kw])\nK_v,K_r,K_h=EM.VRH(volumes,M)\n# Hashin-Strikmann bound \nK_UHS,G_UHS= EM.HS(1-phi, K0, Kw,G0,Gw, bound='upper')\n# Critical porosity model\nphic=0.4 # Critical porosity\nphi_=np.linspace(0.001,phic,100,endpoint=True) # solid volume fraction = 1-phi\nK_dry, G_dry= EM.cripor(K0, G0, phi_, phic)# Compute dry-rock moduli\nKsat, Gsat = Fluid.Gassmann(K_dry,G_dry,K0,Kw,phi_)# saturate rock with water"
      ]
    },
    {
      "cell_type": "code",
      "execution_count": null,
      "metadata": {
        "collapsed": false
      },
      "outputs": [],
      "source": [
        "# plot\nplt.figure(figsize=(6,6))\nplt.xlabel('Porosity')\nplt.ylabel('Bulk modulus [GPa]')\nplt.title('V, R, VRH, HS bounds')\nplt.plot(phi, K_v,label='K Voigt')\nplt.plot(phi, K_r,label='K Reuss = K HS-')\nplt.plot(phi, K_h,label='K VRH')\nplt.plot(phi, K_UHS,label='K HS+')\nplt.plot(phi_, Ksat,label='K CriPor')\nplt.legend(loc='best')\nplt.grid(ls='--')"
      ]
    },
    {
      "cell_type": "markdown",
      "metadata": {},
      "source": [
        "**Reference**: Mavko, G., Mukerji, T. and Dvorkin, J., 2020. The rock physics handbook. Cambridge university press.\n\n\n"
      ]
    }
  ],
  "metadata": {
    "kernelspec": {
      "display_name": "Python 3",
      "language": "python",
      "name": "python3"
    },
    "language_info": {
      "codemirror_mode": {
        "name": "ipython",
        "version": 3
      },
      "file_extension": ".py",
      "mimetype": "text/x-python",
      "name": "python",
      "nbconvert_exporter": "python",
      "pygments_lexer": "ipython3",
      "version": "3.8.12"
    }
  },
  "nbformat": 4,
  "nbformat_minor": 0
}