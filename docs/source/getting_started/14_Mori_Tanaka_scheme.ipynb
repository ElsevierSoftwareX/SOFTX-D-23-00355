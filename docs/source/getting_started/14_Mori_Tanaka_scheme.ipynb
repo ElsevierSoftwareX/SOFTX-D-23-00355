{
  "cells": [
    {
      "cell_type": "code",
      "execution_count": null,
      "metadata": {
        "collapsed": false
      },
      "outputs": [],
      "source": [
        "%matplotlib inline"
      ]
    },
    {
      "cell_type": "markdown",
      "metadata": {},
      "source": [
        "\n# Modified Mori-Tanaka Scheme\n"
      ]
    },
    {
      "cell_type": "code",
      "execution_count": null,
      "metadata": {
        "collapsed": false
      },
      "outputs": [],
      "source": [
        "import numpy as np \nimport matplotlib.pyplot as plt\nplt.rcParams['font.size']=14\nplt.rcParams['font.family']='arial'"
      ]
    },
    {
      "cell_type": "code",
      "execution_count": null,
      "metadata": {
        "collapsed": false
      },
      "outputs": [],
      "source": [
        "import rockphypy # import the module \nfrom rockphypy import EM"
      ]
    },
    {
      "cell_type": "markdown",
      "metadata": {},
      "source": [
        "## Modified Mori-Tanaka scheme\n\nIwakuma (et al.) proposed a modified Mori-Tanaka scheme in which the fraction of matrix is set to zero, for simplicity, only spherical inhomogeneities are considered,  the two phase composite with a *virtual martix* is \n\n\\begin{align}\\bar{K}=\\frac{ {\\textstyle \\sum_{i=1}^{2}} \\frac{f_iK_i}{1-(1-\\frac{K_i}{K_M} ) \\alpha }  }{{\\textstyle \\sum_{i=1}^{2}} \\frac{f_i}{1-(1-\\frac{K_i}{K_M} ) \\alpha } }\\end{align}\n\n\n\\begin{align}\\bar{G}=\\frac{ {\\textstyle \\sum_{i=1}^{2}} \\frac{f_iG_i}{1-(1-\\frac{G_i}{G_M} ) \\alpha }  }{{\\textstyle \\sum_{i=1}^{2}} \\frac{f_i}{1-(1-\\frac{G_i}{G_M} ) \\alpha } }\\end{align}\n\n\n\\begin{align}f_1+f_2=1\\end{align}\n\n\nNote that the material parameters of the matrix which no longer exists still remain in these expressions and has great impact on the result\n\n\n## Relationship between Modifiedl MT scheme and Hashin strikmann bound\n\nIf the virtual matrix is set equivalent to one of the inhomogeneities, for example, if we set $K_m$ to $K_1$ and $\\nu_M= \\nu_1$, then the mMT becomes one of the Hashin\u2013Shtrikman bounds. The derivation is shown as follows:\n\n\\begin{align}\\bar{K}=\\frac{f_1K_1+\\frac{f_2K_2}{1-(1-\\frac{K_2}{K_1} )\\alpha } }{f_1+\\frac{f_2}{1-(1-\\frac{K_2}{K_1} )\\alpha }}\\end{align}\n\n\\begin{align}\\frac{\\bar{K}}{K_1} =\\frac{f_1+\\frac{f_2\\frac{K_2}{K_1} }{1-(1-\\frac{K_2}{K_1} )\\alpha } }{f_1+\\frac{f_2}{1-(1-\\frac{K_2}{K_1} )\\alpha }}\\end{align}\n\n\\begin{align}\\frac{\\bar{K}}{K_1} =\\frac{f_1-f_1(1-\\frac{K_2}{K_1} )\\alpha +f_2\\frac{K_2}{K_1} }{f_1-f_1(1-\\frac{K_2}{K_1} )\\alpha +f_2}\\end{align}\n\n\\begin{align}\\frac{\\bar{K}}{K_1} =\\frac{f_1+f_2-f_1(1-\\frac{K_2}{K_1} )\\alpha +f_2\\frac{K_2}{K_1}-f_2 }{f_1-f_1(1-\\frac{K_2}{K_1} )\\alpha +f_2}\\end{align}\n\n\\begin{align}\\frac{\\bar{K}}{K_1} =\\frac{1-f_1(1-\\frac{K_2}{K_1} )\\alpha +f_2(\\frac{K_2}{K_1}-1) }{1-f_1(1-\\frac{K_2}{K_1} )\\alpha }\\end{align}\n\n\\begin{align}\\frac{\\bar{K}}{K_1} =1+\\frac{f_2(\\frac{K_2}{K_1}-1) }{1-f_1(1-\\frac{K_2}{K_1} )\\alpha }\\end{align}\n\n\\begin{align}\\frac{\\bar{K}}{K_1} =1-\\frac{f_2(1-\\frac{K_2}{K_1}) }{1-f_1(1-\\frac{K_2}{K_1} )\\alpha }\\end{align}\n\nNext we show modified MT scheme is upper Hashin-Shtrikmann bound. \n\n$\\alpha$ is one of the coefficient of Elsheby Tensor defined as a function of Poisson's ratio of the virtual matrix $\\nu_M=\\frac{3K-2G}{2(3K+G)}$\n\n\\begin{align}\\alpha \\equiv \\frac{1+\\nu_M}{3(1-\\nu_M)}\\end{align}\n\nThe Hashin-Strikmann bound is: \n\n\\begin{align}K^{HS}=K_1+\\frac{f_2}{(K_2-K_1)^{-1}+f_1(K_1+\\frac{4}{3}G_1 )^{-1}}\\end{align}\n\n\\begin{align}\\alpha = \\frac{3K}{3K+4G}\\end{align}\n\nLet's denote $\\frac{K_2}{K_1}-1$ as $M$, \n\n\\begin{align}\\frac{\\bar{K}}{K_1} =1+\\frac{f_2 }{\\frac{1}{M}+f_1\\alpha }\\end{align}\n\n\\begin{align}\\frac{\\bar{K}}{K_1} =1+\\frac{f_2 }{\\frac{K_1}{K_2-K_1} +f_1\\alpha }\\end{align}\n\\begin{align}\\bar{K}=K_1+\\frac{f_2K_1\\cdot \\frac{1}{K_1}   }{ (\\frac{K_1}{K_2-K_1} +f_1\\alpha)\\cdot \\frac{1}{K_1}  }\\end{align}\n\n\\begin{align}\\bar{K} = K_1+\\frac{f_2}{ \\frac{1}{K_2-K_1} +f_1\\frac{ \\alpha}{K_1}  }\\end{align}\n\n\\begin{align}\\bar{K} = K_1+\\frac{f_2}{ (K_2-K_1)^{-1} +f_1\\frac{ \\alpha}{K_1}  }\\end{align}\n\n\\begin{align}\\bar{K} =  K_1+\\frac{f_2}{ (K_2-K_1)^{-1} +f_1 (K_1+\\frac{4}{3}G_1 )^{-1} }\\end{align}\n\n### Example\nLet's see if the modified mori-Tanaka scheme will yield the same result as given by HS upper bound when set the virtual matrix constant to be the phase 1's constant, phase 1 is stiff, and phase 2 is soft \n\n\n"
      ]
    },
    {
      "cell_type": "code",
      "execution_count": null,
      "metadata": {
        "collapsed": false
      },
      "outputs": [],
      "source": [
        "f= np.linspace(0,1,100)\nKi, Gi=5,10 #\nKm, Gm=37,45  #  65, 30\n\n# model\nK_UHS, GUHS= EM.HS(f, Km, Ki,Gm, Gi, bound='upper')\nK_LHS, GLHS= EM.HS(f, Km, Ki,Gm, Gi, bound='lower')\nK_MT, G_MT= EM.MT_average(f, Km, Gm,Km, Gm, Ki, Gi)"
      ]
    },
    {
      "cell_type": "code",
      "execution_count": null,
      "metadata": {
        "collapsed": false
      },
      "outputs": [],
      "source": [
        "fig=plt.figure(figsize=(6,6))\nplt.xlabel('f')\nplt.ylabel('K_{eff} GPa')\n#plt.xlim(0,20)\n#plt.ylim(2.5,5.5)\nplt.title('mMT and HS bound')\nplt.plot(f,K_LHS,'-k',lw=3,label='Lower_HS')\nplt.plot(f,K_UHS,'-k',lw=3,label='Upper_HS')\nplt.plot(f,K_MT,'g--',lw=3,label='mMT')\nplt.legend(loc='upper left')\n#plt.text(0, 190, 'K1/G1=K2/G2=50 \\n\\\\nu=0.3')"
      ]
    },
    {
      "cell_type": "markdown",
      "metadata": {},
      "source": [
        "**Reference** \nIwakuma, T. and Koyama, S., 2005. An estimate of average elastic moduli of composites and polycrystals. Mechanics of materials, 37(4), pp.459-472.\n\n\n"
      ]
    }
  ],
  "metadata": {
    "kernelspec": {
      "display_name": "Python 3",
      "language": "python",
      "name": "python3"
    },
    "language_info": {
      "codemirror_mode": {
        "name": "ipython",
        "version": 3
      },
      "file_extension": ".py",
      "mimetype": "text/x-python",
      "name": "python",
      "nbconvert_exporter": "python",
      "pygments_lexer": "ipython3",
      "version": "3.8.12"
    }
  },
  "nbformat": 4,
  "nbformat_minor": 0
}