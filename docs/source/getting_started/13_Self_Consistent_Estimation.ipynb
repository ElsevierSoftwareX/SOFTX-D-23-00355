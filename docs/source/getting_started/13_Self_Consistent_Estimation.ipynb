{
  "cells": [
    {
      "cell_type": "code",
      "execution_count": null,
      "metadata": {
        "collapsed": false
      },
      "outputs": [],
      "source": [
        "%matplotlib inline"
      ]
    },
    {
      "cell_type": "markdown",
      "metadata": {},
      "source": [
        "\n# Self Consistent (SC) Estimation\n"
      ]
    },
    {
      "cell_type": "code",
      "execution_count": null,
      "metadata": {
        "collapsed": false
      },
      "outputs": [],
      "source": [
        "import numpy as np \nimport matplotlib.pyplot as plt\nplt.rcParams['font.size']=14\nplt.rcParams['font.family']='arial'"
      ]
    },
    {
      "cell_type": "code",
      "execution_count": null,
      "metadata": {
        "collapsed": false
      },
      "outputs": [],
      "source": [
        "import rockphypy # import the module \nfrom rockphypy import EM"
      ]
    },
    {
      "cell_type": "markdown",
      "metadata": {},
      "source": [
        "## Dilute distribution of spherical inclusion without self consistency\n\nthe coefficients of Eshelby tensor S1 and S2 are functions of the matrix Poisson's ratio  \n\n\\begin{align}\\nu_M=\\frac{3K-2G}{2(3K+G)}\\end{align}\n\n\n\\begin{align}S_1=\\frac{1+\\nu}{3(1-\\nu)}\\end{align}\n\n\n\\begin{align}S_2=\\frac{2(4-5\\nu)}{15(1-\\nu)}\\end{align}\n\n\nAs a special case, let all micro-inclusions have the same elasticity, with\nthe common bulk and shear moduli $K_i$, If the macrostress is regarded\nprescribed, then\n\n\\begin{align}\\frac{\\bar{K}}{K_m}=\\left \\{ {1+f(\\frac{K_m}{K_m-K_i}-S_1 )^{-1}} \\right \\} ^{-1}\\end{align}\n\n\n\\begin{align}\\frac{\\bar{G}}{G_m}=\\left \\{ {1+f(\\frac{G_m}{G_m-G_i}-S_2 )^{-1}} \\right \\} ^{-1}\\end{align}\n\n\nand and if the macrostrain is regarded prescribed:\n\n\\begin{align}\\frac{\\bar{K}}{K_m}= {1-f(\\frac{K_m}{K_m-K_i}-S_1 )^{-1}}\\end{align}\n\n\n\\begin{align}\\frac{\\bar{G}}{G_m}= {1-f(\\frac{G_m}{G_m-G_i}-S_2 )^{-1}}\\end{align}\n\n\n## Self consistent estimates\nIf the distribution of micro-inclusions is random and the interaction effects are to be included to a certain extent, then the self-consistent method may be used to estimate the overall response of the RVE. Now $S_1$ and $S_2$ are defined in terms of the overall Poisson ratio\n\n\\begin{align}\\bar{\\nu}\\equiv \\frac{3\\bar{K} -2\\bar{G}}{2(3\\bar{K}+\\bar{G})}\\end{align}\n\n\n\\begin{align}\\bar{S_1}=\\frac{1+\\bar{\\nu}}{3(1-\\bar{\\nu})}\\end{align}\n\n\n\\begin{align}\\bar{S_2}=\\frac{2(4-5\\bar{\\nu})}{15(1-\\bar{\\nu})}\\end{align}\n\n\nWhen all micro-inclusions consist of the same material, denote their common bulk and shear moduli by $K_i$, then \n\n\\begin{align}\\frac{\\bar{K}}{K_m}=1-\\frac{\\bar{K}(K_m-K_i) }{K_m(\\bar{K}-K_i )}(\\frac{\\bar{K} }{\\bar{K}-K_i}-\\bar{S_1}  )^{-1}\\end{align}\n\n\n\\begin{align}\\frac{\\bar{G}}{G_m}=1-\\frac{\\bar{G}(G_m-G_i) }{G_m(\\bar{G}-G_i )}(\\frac{\\bar{G} }{\\bar{G}-G_i}-\\bar{S_2}  )^{-1}\\end{align}\n\n\nIt is noted that although $\\bar{K}$ and $\\bar{G}$ given by dilute distribution estimates are decoupled, by self consistent estimates are coupled, so iterative solver is invoked in SC approach.\n\n## Example\nLet's compare the Dilute distribution/ Non interacting estimates to the SC estimation for spherical inclusion. The overall bulk and shear moduli of the media with randomly distributed spherical inclusion sastifies Ki/Km= Gi/Gm=50, $\\nu_i=\\nu_m=\\frac{1}{3}$\n\n\n"
      ]
    },
    {
      "cell_type": "code",
      "execution_count": null,
      "metadata": {
        "collapsed": false
      },
      "outputs": [],
      "source": [
        "#  Specify model parameters \nro=13/6\nKm, Gm=3*ro, 3 #\nKi, Gi=Km*50, Gm*50  #  65, 30\nf= np.linspace(0,0.4,100)\niter_n= 100\n#  Dilute distribution of inclusion without self consistency\nK_stress, G_stress= EM.SC_dilute(Km, Gm, Ki, Gi, f, 'stress')\nK_strain, G_strain= EM.SC_dilute(Km, Gm, Ki, Gi, f, 'strain')\n\n#   Self Consistent estimates\nKeff,Geff= EM.SC_flex(f,iter_n,Km,Ki,Gm,Gi)\n\n# plot\nfig=plt.figure(figsize=(6,6))\nplt.xlabel('f')\nplt.ylabel('K_{eff} GPa')\nplt.xlim(0,0.4)\nplt.ylim(0,4)\nplt.title('self_consistent model comparision')\n\nplt.plot(f,K_stress,'-k',lw=2,label='Macrostress prescribed')\nplt.plot(f,K_strain,'--k',lw=2,label='Macrostrain prescribed')\nplt.plot(f,Keff/Km,'-r',label='SC')\n\nplt.legend(loc='best')\nfig=plt.figure(figsize=(6,6))\nplt.ylim(0,4)\nplt.xlim(0,0.4)\nplt.xlabel('f')\nplt.ylabel('G_{eff} GPa')\nplt.plot(f,G_stress,'-k',lw=2,label='Macrostress prescribed')\nplt.plot(f,G_strain,'--k',lw=2,label='Macrostrain prescribed')\nplt.plot(f,Geff/Gm,'-r',label='SC')\nplt.legend(loc='best')"
      ]
    },
    {
      "cell_type": "markdown",
      "metadata": {},
      "source": [
        "Let's compare the SC model with Hashin-strikmann bound, It's anticipated that the SC model will show asymptotic features \n\n\n"
      ]
    },
    {
      "cell_type": "code",
      "execution_count": null,
      "metadata": {
        "collapsed": false
      },
      "outputs": [],
      "source": [
        "# Comparision with HS bounds\n\n# large difference of material parameters\nf= np.linspace(1e-3,0.9999,100)\nro=13/6\nKi, Gi=3*ro, 3 #\nKm, Gm=Ki*50, Gi*50  #  65, 30\niter_n= 1000\n# model\nK_UHS, GUHS= EM.HS(f, Km, Ki,Gm, Gi, bound='upper')\nK_LHS, GLHS= EM.HS(f, Km, Ki,Gm, Gi, bound='lower')\nK_SC, G_SC= EM.SC_flex(f,iter_n,Ki,Km,Gi,Gm)\n\n#fig=plt.figure(figsize=(6,6))\nplt.figure(figsize=(13,6))\nplt.subplot(121)\nplt.xlabel('f')\nplt.ylabel('K_{dry} GPa')\n#plt.xlim(0,20)\n#plt.ylim(2.5,5.5)\nplt.title('Asymptotic feature of SC averaging')\nplt.plot(f,K_LHS,'-k',label='Lower_HS')\nplt.plot(f,K_UHS,'-k',label='Upper_HS')\nplt.plot(f,K_SC,'g-',lw=2,label='SC')\nplt.legend(loc='upper left')\nplt.text(0, 190, 'K1/G1=K2/G2=50 \\n\\\\nu=0.3')\n\n# small difference of material parameters\nro=13/6\nKi, Gi=3*ro, 3 #\nKm, Gm=Ki*3, Gi*3\nK_UHS, GUHS= EM.HS(f, Km, Ki,Gm, Gi, bound='upper')\nK_LHS, GLHS= EM.HS(f, Km, Ki,Gm, Gi, bound='lower')\nK_SC, G_SC= EM.SC_flex(f,iter_n,Ki,Km,Gi,Gm)\nplt.subplot(122)\nplt.xlabel('f')\nplt.ylabel('K_{dry} GPa')   \n#plt.xlim(0,20)\n#plt.ylim(2.5,5.5)\nplt.title('Asymptotic feature of SC averaging')\nplt.plot(f,K_LHS,'-k',label='Lower_HS')\nplt.plot(f,K_UHS,'-k',label='Upper_HS')\nplt.plot(f,K_SC,'g-',lw=2,label='SC')\nplt.legend(loc='upper left')\nplt.text(0,14, 'K1/G1=K2/G2=3 \\n\\\\nu=0.3')"
      ]
    },
    {
      "cell_type": "markdown",
      "metadata": {},
      "source": [
        "**Reference**:\n- Nemat-Nasser, S. and Hori, M., 2013. Micromechanics: overall properties of heterogeneous materials. Elsevier.\n- Iwakuma, T. and Koyama, S., 2005. An estimate of average elastic moduli of composites and polycrystals. Mechanics of materials, 37(4), pp.459-472.\n\n\n"
      ]
    }
  ],
  "metadata": {
    "kernelspec": {
      "display_name": "Python 3",
      "language": "python",
      "name": "python3"
    },
    "language_info": {
      "codemirror_mode": {
        "name": "ipython",
        "version": 3
      },
      "file_extension": ".py",
      "mimetype": "text/x-python",
      "name": "python",
      "nbconvert_exporter": "python",
      "pygments_lexer": "ipython3",
      "version": "3.8.12"
    }
  },
  "nbformat": 4,
  "nbformat_minor": 0
}