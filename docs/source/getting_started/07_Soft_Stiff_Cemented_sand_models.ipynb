{
  "cells": [
    {
      "cell_type": "code",
      "execution_count": null,
      "metadata": {
        "collapsed": false
      },
      "outputs": [],
      "source": [
        "%matplotlib inline"
      ]
    },
    {
      "cell_type": "markdown",
      "metadata": {},
      "source": [
        "\n# Contact based models\n"
      ]
    },
    {
      "cell_type": "code",
      "execution_count": null,
      "metadata": {
        "collapsed": false
      },
      "outputs": [],
      "source": [
        "import numpy as np \nimport matplotlib.pyplot as plt\nplt.rcParams['font.size']=14\nplt.rcParams['font.family']='arial'"
      ]
    },
    {
      "cell_type": "code",
      "execution_count": null,
      "metadata": {
        "collapsed": false
      },
      "outputs": [],
      "source": [
        "import rockphypy # import the module \nfrom rockphypy import GM"
      ]
    },
    {
      "cell_type": "markdown",
      "metadata": {},
      "source": [
        "## Soft-Sand model\nIn Walton and Hertz\u2013Mindlin contact models, the porosity is fixed at a critical porosity $\\phi_c \\approx 0.4$ for randomly densed packed spheres of equal size. To find the effective moduli of unconsolidated sand at a different porosity $\\phi$, a heuristic modified Hashin\u2013Shtrikman lower bound is used as an interpolator between the\nHertz\u2013Mindlin moduli $K_{\\mathrm{HM}}$  and $\\mu_{\\mathrm{HM}}$ at porosity $\\phi_c$ and the solid grain moduli $K$ and $\\mu$ at zero porosity, the elastic moduli at different porosity can be computed as:\n\n\\begin{align}K_{\\mathrm{eff}}=\\left[\\frac{\\phi / \\phi_{c}}{K_{\\mathrm{HM}}+\\frac{4}{3} \\mu_{\\mathrm{HM}}}+\\frac{1-\\phi / \\phi_{c}}{K+\\frac{4}{3} \\mu_{\\mathrm{HM}}}\\right]^{-1}-\\frac{4}{3} \\mu_{\\mathrm{HM}}\\end{align}\n\n\n\\begin{align}\\mu_{\\mathrm{eff}}= \\left[\\frac{\\phi / \\phi_{c}}{\\mu_{\\mathrm{HM}}+\\frac{\\mu_{\\mathrm{HM}}}{6}\\left(\\frac{9 K_{\\mathrm{HM}}+8 \\mu_{\\mathrm{HM}}}{K_{\\mathrm{HM}}+2 \\mu_{\\mathrm{HM}}}\\right)}+\\frac{1-\\phi / \\phi_{c}}{\\mu+\\frac{\\mu_{\\mathrm{HM}}}{6}\\left(\\frac{9 K_{\\mathrm{HM}}+8 \\mu_{\\mathrm{HM}}}{K_{\\mathrm{HM}}+2 \\mu_{\\mathrm{HM}}}\\right)}\\right]^{-1} -\\frac{\\mu_{\\mathrm{HM}}}{6}\\left(\\frac{9 K_{\\mathrm{HM}}+8 \\mu_{\\mathrm{HM}}}{K_{\\mathrm{HM}}+2 \\mu_{\\mathrm{HM}}}\\right)\\end{align}\n\n\nwhere $K$ and $\\mu$ are bulk and shear moduli of grain material, repectively. \n\nSoft-sand model is also called unconsolidated sand model or friable sand model e.g. in Avseth et al. (2010).\n\n## Stiff-Sand model\nA counterpart to the soft-sand model is the \u201cstiff-sand\u201d model, which uses precisely the same end-members as in the soft-sand model but connects them with a heuristic modified Hashin\u2013Shtrikman upper bound as a stiff interpolator: \n\n\\begin{align}K_{\\mathrm{eff}}=\\left[\\frac{\\phi / \\phi_{c}}{K_{\\mathrm{HM}}+\\frac{4}{3} \\mu}+\\frac{1-\\phi / \\phi_{c}}{K+\\frac{4}{3} \\mu}\\right]^{-1}-\\frac{4}{3} \\mu\\end{align}\n\n\n\\begin{align}\\mu_{\\mathrm{eff}}=   \\left[\\frac{\\phi / \\phi_{c}}{\\mu_{\\mathrm{HM}}+\\frac{\\mu}{6}\\left(\\frac{9 K+8 \\mu}{K+2 \\mu}\\right)}+\\frac{1-\\phi / \\phi_{c}}{\\mu+\\frac{\\mu}{6}\\left(\\frac{9 K+8 \\mu}{K+2 \\mu}\\right)}\\right]^{-1}-\\frac{\\mu}{6}\\left(\\frac{9 K+8 \\mu}{K+2 \\mu}\\right)\\end{align}\n\n\n## Dvorkin\u2019s Cemented-Sand Model\nSoft- and Stiff-Sand models describe how the elastic moduli of unconsolidated sand vary in the porosity-stress plane. Dvorkin\u2019s Cemented-Sand Model instead allows us to compute the moduli of sand pack in which the cement deposits at the *grain contact*. As a result, this model is also called **Contact cement model**. The contact cement fills the crack-like spaces near the grain contacts. This has the effect of very rapidly stiffening the rock\nwith very little change in porosity. This cement tends to eliminate further sensitivity. In this model, the effective bulk modulus $K_{dry}$ and shear modulus $G_{dry}$ of dry rock are:\n\n\\begin{align}K_{\\mathrm{eff}}=\\frac{1}{6} C\\left(1-\\phi_{0}\\right) M_{\\mathrm{c}} \\hat{S}_{\\mathrm{n}}\\end{align}\n\n\\begin{align}\\mu_{\\mathrm{eff}}=\\frac{3}{5} K_{\\mathrm{eff}}+\\frac{3}{20} C\\left(1-\\phi_{0}\\right) \\mu_{\\mathrm{c}} \\hat{S}_{\\tau}\\end{align}\n\n\\begin{align}M_c= K_c+ \\frac{4\\mu_c}{3}\\end{align}\n\nwhere $\\phi_c$ is critical porosity; $K_s$ and $\\mu_s$ are the bulk and shear moduli of the grain material, respectively; $K_c$ and  $\\mu_c$ are the bulk and shear moduli of the cement material, respectively; $M_c$ is the compressional modulus of the cement; and n is the coordination number. The parameters $\\hat{S}_{\\mathrm{n}} $and   $\\hat{S}_{\\tau}$ are:\n\n\\begin{align}\\hat{S}_{\\mathrm{n}}=A_{\\mathrm{n}} \\alpha^{2}+B_{\\mathrm{n}} \\alpha+C_{\\mathrm{n}}\\end{align}\n\n\\begin{align}A_{\\mathrm{n}}=-0.024153 \\Lambda_{\\mathrm{n}}^{-1.3646}\\end{align}\n\n\\begin{align}B_{\\mathrm{n}}=0.20405 \\Lambda_{\\mathrm{n}}^{-0.89008}\\end{align}\n\n\\begin{align}C_{\\mathrm{n}}=0.00024649 \\Lambda_{\\mathrm{n}}^{-1.9864}\\end{align}\n\n\\begin{align}\\hat{S}_{\\tau}=A_{\\tau} \\alpha^{2}+B_{\\tau} \\alpha+C_{\\tau}\\end{align}\n\n\\begin{align}A_{\\tau}=-10^{-2}\\left(2.26 v^{2}+2.07 v+2.3\\right) \\Lambda_{\\tau}^{0.079 v^{2}+0.1754 v-1.342}\\end{align}\n\n\\begin{align}B_{\\tau}=\\left(0.0573 v^{2}+0.0937 v+0.202\\right) \\Lambda_{\\tau}^{0.0274 v^{2}+0.0529 v-0.8765}\\end{align}\n\n\\begin{align}C_{\\tau}=10^{-4}\\left(9.654 v^{2}+4.945 v+3.1\\right) \\Lambda_{\\tau}^{0.01867 v^{2}+0.4011 v-1.8186}\\end{align}\n\n\\begin{align}\\Lambda_{\\mathrm{n}}=\\frac{2 \\mu_{\\mathrm{c}}}{\\pi \\mu} \\frac{(1-v)\\left(1-v_{\\mathrm{c}}\\right)}{\\left(1-2 v_{\\mathrm{c}}\\right)}\\end{align}\n\n\\begin{align}\\Lambda_{\\tau}=\\frac{\\mu_{\\mathrm{c}}}{\\pi \\mu}\\end{align}\n\n\\begin{align}\\alpha=\\frac{a}{R}\\end{align}\n\nBy assuming that porosity reduction in sands is due to cementation\nonly, we can relate the parameter \\alpha to the current porosity of cemented sand \\phi. For Scheme 1 in which all cement is deposited at grain contacts\n\n\\begin{align}\\alpha=2\\left[\\frac{\\phi_{0}-\\phi}{3 C\\left(1-\\phi_{0}\\right)}\\right]^{1 / 4}=2\\left[\\frac{S \\phi_{0}}{3 C\\left(1-\\phi_{0}\\right)}\\right]^{1 / 4}\\end{align}\n\n\nFor scheme 2, in which cement is evenly deposited on the grain surface:\n\n\\begin{align}\\alpha=\\left[\\frac{2\\left(\\phi_{0}-\\phi\\right)}{3\\left(1-\\phi_{0}\\right)}\\right]^{1 / 2}=\\left[\\frac{2 S \\phi_{0}}{3\\left(1-\\phi_{0}\\right)}\\right]^{1 / 2}\\end{align}\n\n\n\nFrom The handbook of rock physics (Mavko, 2020)\n\n## Constant cement model \nAs introduced by Avseth et al. (2000), Constant cement model assumes that sands of varying porosity all have the same amount of contact cement. Porosity variation is solely due to non-contact pore-filling material (e.g., deteriorating sorting). This model is contact cement model blend with soft-sand model at an adjusted high porosity end memeber $\\phi_b$. Firstly, porosity reduces from the initial sand-pack porosity to porosity\n$\\phi_b$, dry-rock bulk and shear moduli at this porosity ($K_b$ and $\\mu_b$, respectively) are calculated\nfrom the contact-cement model. Then the dry-rock bulk $K_{dry}$ and shear $\\mu_{dry}$\nmoduli at a smaller porosity $\\phi$ are then interpolated with a lower Hashin-Strikmann bound:\n\n\\begin{align}K_{\\mathrm{dry}}=\\left[\\frac{\\phi / \\phi_{\\mathrm{b}}}{K_{\\mathrm{b}}+(4 / 3) \\mu_{\\mathrm{b}}}+\\frac{1-\\phi / \\phi_{\\mathrm{b}}}{K+(4 / 3) \\mu_{\\mathrm{b}}}\\right]^{-1}-\\frac{4}{3} \\mu_{\\mathrm{b}}\\end{align}\n\n\n\\begin{align}\\mu_{\\mathrm{dry}}=\\left[\\frac{\\phi / \\phi_{\\mathrm{b}}}{\\mu_{\\mathrm{b}}+z}+\\frac{1-\\phi / \\phi_{\\mathrm{b}}}{\\mu+z}\\right]^{-1}-z, z=\\frac{\\mu_{\\mathrm{b}}}{6}\\left(\\frac{9 K_{\\mathrm{b}}+8 \\mu_{\\mathrm{b}}}{K_{\\mathrm{b}}+2 \\mu_{\\mathrm{b}}}\\right)\\end{align}\n\n\n## Increasing cement model \nThe contact cement model represents the initial stage of the \u201cdiagenetic trend\u201d in the data. It is found to be applicable to high-porosity sands. During more severe cementation where the diagenetic cement is filling up the pore space, the contact theory breaks down. One should use  the modified Hashin\u2013Shtrikman upper bound (also referred to as the \u201cincreasingcement model). The high-porosity end member is determined by contact\ntheory. The first 2\u20133% cement should be modeled with the contact-cement model. Further increase in cement volume and decrease in porosity is described by an HS upper bound interpolation between the high-porosity end member and the mineral point. \n\n\n## Examples\nLet's compute effective bulk and shear moduli of a water saturated rock using different bound models.\n\n\n"
      ]
    },
    {
      "cell_type": "code",
      "execution_count": null,
      "metadata": {
        "collapsed": false
      },
      "outputs": [],
      "source": [
        "# specify model parameters\nphic=0.4 # critical porosity\nsigma=20 # effective pressure \nCn=8.6 #coordination number\nf=0.5# reduced shear factor\nphi = np.linspace(1e-7,phic,100) #define porosity range according to critical porosity\nK0, G0 = 36.6, 45 ## grain density, bulk and shear modulus \nKc, Gc = 36.6, 45 # cement density, bulk and shear modulus\nvsh=0 # shale volume\nphib=0.3 # critical cement porosity\n## softsand, stiffsand and contact cement model\nKdry1, Gdry1 = GM.softsand(K0, G0, phi, phic, Cn, sigma,f) \nKdry2, Gdry2 = GM.stiffsand(K0, G0, phi, phic, Cn, sigma,f)\nKdry3, Gdry3 = GM.contactcement(K0, G0, Kc, Gc, phi, phic, Cn,  scheme=2)\n# plot\nplt.figure(figsize=(6,6))\nplt.xlabel('Porosity')\nplt.ylabel('Bulk modulus [GPa]')\nplt.title('')\nplt.plot(phi, Kdry1,label='Softsand')\nplt.plot(phi, Kdry2,label='Stiffsand')\nplt.plot(phi, Kdry3,label='Contact cement')\nplt.legend(loc='best')\nplt.grid(ls='--')"
      ]
    },
    {
      "cell_type": "markdown",
      "metadata": {},
      "source": [
        "From the figure we can see that the contact cement model will fail for small porosity sand, so we define a critical cement porosity $\\phi_b$ below which constant cement model/increasing cement model can be applied. \n\n\n"
      ]
    },
    {
      "cell_type": "code",
      "execution_count": null,
      "metadata": {
        "collapsed": false
      },
      "outputs": [],
      "source": [
        "## constant cement model\nKdry3[phi<phib]=np.nan\nKdry4, Gdry4=GM.constantcement(phib, K0, G0,Kc,Gc, phi, phic, Cn, scheme=2)\nKdry4[phi>phib]=np.nan\n## increasing cement model\nKdry5, Gdry5 = GM.MUHS(K0, G0, Kc,Gc,phi, phib,phic, Cn, scheme=2)\nKdry5[phi>phib]=np.nan\n#plot\nplt.figure(figsize=(6,6))\nplt.xlabel('Porosity')\nplt.ylabel('Bulk modulus [GPa]')\nplt.title('')\nplt.plot(phi, Kdry1,label='Softsand')\nplt.plot(phi, Kdry2,label='Stiffsand')\nplt.plot(phi, Kdry3,label='Contact cement')\nplt.plot(phi, Kdry4,label='constant cement')\nplt.plot(phi, Kdry5,label='Increasing cement')\nplt.legend(loc='best')\nplt.grid(ls='--')"
      ]
    },
    {
      "cell_type": "markdown",
      "metadata": {},
      "source": [
        "**References**:\n\n- Mavko, G., Mukerji, T. and Dvorkin, J., 2020. The rock physics handbook. Cambridge university press.\n\n- Avseth, P., Mukerji, T. and Mavko, G., 2010. Quantitative seismic interpretation: Applying rock physics tools to reduce interpretation risk. Cambridge university press.\n\n\n"
      ]
    }
  ],
  "metadata": {
    "kernelspec": {
      "display_name": "Python 3",
      "language": "python",
      "name": "python3"
    },
    "language_info": {
      "codemirror_mode": {
        "name": "ipython",
        "version": 3
      },
      "file_extension": ".py",
      "mimetype": "text/x-python",
      "name": "python",
      "nbconvert_exporter": "python",
      "pygments_lexer": "ipython3",
      "version": "3.8.12"
    }
  },
  "nbformat": 4,
  "nbformat_minor": 0
}