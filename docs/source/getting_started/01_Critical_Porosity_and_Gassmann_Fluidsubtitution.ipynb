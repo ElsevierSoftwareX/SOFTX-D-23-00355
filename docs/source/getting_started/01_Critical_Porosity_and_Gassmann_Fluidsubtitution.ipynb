{
  "cells": [
    {
      "cell_type": "code",
      "execution_count": null,
      "metadata": {
        "collapsed": false
      },
      "outputs": [],
      "source": [
        "%matplotlib inline"
      ]
    },
    {
      "cell_type": "markdown",
      "metadata": {},
      "source": [
        "\n# Critical porosity model and Gassmann Fluid substitution\n\nThis pages gives a simple examples of using the classes ``EM`` and ``Fluid`` of ``rockphypy`` to compute Critical porosity model and perform Gassmann Fluid substitution. \n"
      ]
    },
    {
      "cell_type": "code",
      "execution_count": null,
      "metadata": {
        "collapsed": false
      },
      "outputs": [],
      "source": [
        "# Importing aux libraries\nimport numpy as np \nimport matplotlib.pyplot as plt\nplt.rcParams['font.size']=14\nplt.rcParams['font.family']='arial'"
      ]
    },
    {
      "cell_type": "code",
      "execution_count": null,
      "metadata": {
        "collapsed": false
      },
      "outputs": [],
      "source": [
        "import rockphypy # import the module for rock physics\nfrom rockphypy import EM # import the \"effective medium\" EM module \n# import the 'Fluid' module \nfrom rockphypy import Fluid"
      ]
    },
    {
      "cell_type": "markdown",
      "metadata": {},
      "source": [
        "## Critical porosity model\n\nRemember Nur\u2019s hypothesis: There is a critical (structure-dependent)\nporosity at which the framework stiffness goes to zero. The simple yet \npowerful critical porosity model is defined as: \n\n\\begin{align}K_{\\text {dry }}=K_{0}\\left(1-\\frac{\\phi}{\\phi_{\\mathrm{c}}}\\right)\\end{align}\n\n\\begin{align}\\mu_{\\text {dry }}=\\mu_{0}\\left(1-\\frac{\\phi}{\\phi_{\\mathrm{c}}}\\right)\\end{align}\n\nwhere $K_0$ and $\\mu_0$ are the mineral bulk and shear moduli.\n\n\n"
      ]
    },
    {
      "cell_type": "markdown",
      "metadata": {},
      "source": [
        "## Gassmann Fluid substitution\nCompute dry frame moduli using rock physics models such as critical porosity \nmodel is straightforward as shown above. To compute saturated elastic moduli, Gassmann's explicit equations for fluid substition can be applied. Gassmann's relations not only allows us to perform fluid \nsubstition (when one fluid is replaced\nwith another), but to predict saturated-rock moduli from dry-rock moduli, and # vice versa. \n\nHere we show how to compute saturated moduli via Gassmann thoery. \n\nThe equation we are gonna use is \n\n\\begin{align}K_{\\text {sat }}=K_{\\text {dry }}+\\frac{\\left(1-K_{\\text {dry }} / K_{0}\\right)^{2}}{\\phi / K_{\\mathrm{fl}}+(1-\\phi) / K_{0}-K_{\\text {dry }} / K_{0}^{2}}\\end{align}\n\n\nThis is one of the equivelent expressions of the well known GS-Biot theory for fluid substitution:\n\n\\begin{align}\\frac{K_{\\text {sat }}}{K_{0}-K_{\\text {sat }}}=\\frac{K_{\\text {dry }}}{K_{0}-K_{\\text {dry }}}+\\frac{K_{\\text {fl }}}{\\phi\\left(K_{0}-K_{\\text {fl }}\\right)}, \\quad \\mu_{\\text {sat }}=\\mu_{\\text {dry }}\\end{align}\n\n\nNow Let's firstly estimate the effective dry-rock and water saturated moduli # using critical porosity model. Assume that the rock is Arenite with 40% \ncritical porosity.\n\n\n"
      ]
    },
    {
      "cell_type": "code",
      "execution_count": null,
      "metadata": {
        "collapsed": false
      },
      "outputs": [],
      "source": [
        "# specify model parameters\nphic=0.4\nphi=np.linspace(0.001,phic,100,endpoint=True) # solid volume fraction = 1-phi\nK0, G0= 37,44\nKw = 2.2\nKg = 0.5"
      ]
    },
    {
      "cell_type": "code",
      "execution_count": null,
      "metadata": {
        "collapsed": false
      },
      "outputs": [],
      "source": [
        "# Compute dry-rock moduli\nK_dry, G_dry= EM.cripor(K0, G0, phi, phic)\n# saturate rock with water \nKsat, Gsat = Fluid.Gassmann(K_dry,G_dry,K0,Kw,phi)"
      ]
    },
    {
      "cell_type": "code",
      "execution_count": null,
      "metadata": {
        "collapsed": false
      },
      "outputs": [],
      "source": [
        "# plot\n# sphinx_gallery_thumbnail_number = 1\nplt.figure(figsize=(6,6))\nplt.xlabel('Porosity')\nplt.ylabel('Bulk modulus [GPa]')\nplt.title('V, R, VRH, HS bounds')\nplt.plot(phi, K_dry,label='dry rock K')\nplt.plot(phi, Ksat,label='saturated K')\n\nplt.legend(loc='best')\nplt.grid(ls='--')"
      ]
    },
    {
      "cell_type": "markdown",
      "metadata": {},
      "source": [
        "We can see from the figure that effective bulk modulus increases when the \nrock is saturated.\n\n\n"
      ]
    }
  ],
  "metadata": {
    "kernelspec": {
      "display_name": "Python 3",
      "language": "python",
      "name": "python3"
    },
    "language_info": {
      "codemirror_mode": {
        "name": "ipython",
        "version": 3
      },
      "file_extension": ".py",
      "mimetype": "text/x-python",
      "name": "python",
      "nbconvert_exporter": "python",
      "pygments_lexer": "ipython3",
      "version": "3.8.12"
    }
  },
  "nbformat": 4,
  "nbformat_minor": 0
}