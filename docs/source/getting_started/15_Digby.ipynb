{
  "cells": [
    {
      "cell_type": "code",
      "execution_count": null,
      "metadata": {
        "collapsed": false
      },
      "outputs": [],
      "source": [
        "%matplotlib inline"
      ]
    },
    {
      "cell_type": "markdown",
      "metadata": {},
      "source": [
        "\n# Digby model\n"
      ]
    },
    {
      "cell_type": "code",
      "execution_count": null,
      "metadata": {
        "collapsed": false
      },
      "outputs": [],
      "source": [
        "import numpy as np \nimport matplotlib.pyplot as plt\nplt.rcParams['font.size']=14\nplt.rcParams['font.family']='arial'\nplt.rcParams['axes.labelpad'] = 10.0\nplt.rcParams[\"figure.figsize\"] = (6,6)"
      ]
    },
    {
      "cell_type": "code",
      "execution_count": null,
      "metadata": {
        "collapsed": false
      },
      "outputs": [],
      "source": [
        "import rockphypy # import the module \nfrom rockphypy import GM\nfrom rockphypy import  utils"
      ]
    },
    {
      "cell_type": "markdown",
      "metadata": {},
      "source": [
        "The Digby model gives effective moduli for a dry, random packing of identical elastic spherical particles. Neighboring particles are initially firmly bonded across small, flat, circular regions of radius a. Outside these adhesion surfaces, the shape of each particle is assumed to be ideally smooth (with a continuous first derivative). Notice that this condition differs from that of Hertz, where the shape of a particle is not smooth at the intersection of the spherical surface and the plane of contact. Digby\u2019s normal and shear stiffnesses under hydrostatic pressure $P$ are (Digby, 1981)\n\n\\begin{align}S_{n}=\\frac{4 \\mu b}{1-v}, \\quad S_{\\tau}=\\frac{8 \\mu a}{2-v}\\end{align}\n\nParameter b can be found from the relation\n\n\\begin{align}\\frac{b}{R}=\\left[d^{2}+\\left(\\frac{a}{R}\\right)^{2}\\right]^{1 / 2}\\end{align}\n\nwhere $d$ satisfies the cubic equation\n\n\\begin{align}d^{3}+\\frac{3}{2}\\left(\\frac{a}{R}\\right)^{2} d-\\frac{3 \\pi(1-v) P}{2 C(1-\\phi) \\mu}=0\\end{align}\n\nLike other effective granular medium models, the Digby's model is only strictly valid for seismic waves of sufficiently low frequency those for which\n\n\\begin{align}\\rho \\omega^{2} R^{2} /(\\lambda+2 \\mu)<\\rho \\omega^{2} R^{2} / \\mu \\ll 1.\\end{align}\n\n## Example\n\n\n"
      ]
    },
    {
      "cell_type": "code",
      "execution_count": null,
      "metadata": {
        "collapsed": false
      },
      "outputs": [],
      "source": [
        "a_R=np.array([0., 0.02, 0.05, 0.07,0.5])\nG0= 44\nK0=37\nD0= 2.65\nphi= 0.36\nD= (1-phi)* D0\nCn=9\nsigma=np.linspace(1e-6,20,20)# Mpa\n\n\nK_dry=np.zeros((a_R.size, sigma.size)) # each row corresponds to a fixed a/R ratio\nG_dry=np.zeros((a_R.size, sigma.size)) # each row corresponds to a fixed a/R ratio\n\n# notice that the np.roots can only accept rank 1 array, so when sigma is a array with multiple entries, a for loop is used.\nfor i in range(a_R.size):\n    for j, val in enumerate(sigma):\n\n        Keff, Geff= GM.Digby(K0, G0, phi, Cn, val, a_R[i] )\n\n        K_dry[i,j]= Keff\n        G_dry[i,j]= Geff\n\nVp, Vs= utils.V(K_dry, G_dry, D)"
      ]
    },
    {
      "cell_type": "code",
      "execution_count": null,
      "metadata": {
        "collapsed": false
      },
      "outputs": [],
      "source": [
        "plt.figure(figsize=(8,7))\nplt.plot(sigma, Vp[0,:],'ko-', label='a/R=0',clip_on=False)\nplt.plot(sigma, Vp[1,:],'k+-',label='a/R=0.02',clip_on=False)\nplt.plot(sigma, Vp[2,:],'kD-',label='a/R=0.05',clip_on=False)\n\nplt.plot(sigma, Vs[0,:],'bo-',clip_on=False)\nplt.plot(sigma, Vs[1,:],'b+-',clip_on=False)\nplt.plot(sigma, Vs[2,:],'bD-',clip_on=False)\nplt.xlim(0,20)\nplt.ylim(0,2000)\nplt.xlabel('Pressure')\nplt.ylabel('Velocities')\nplt.legend()"
      ]
    },
    {
      "cell_type": "code",
      "execution_count": null,
      "metadata": {
        "collapsed": false
      },
      "outputs": [],
      "source": [
        "plt.figure(figsize=(8,7))\nplt.plot(sigma, Vp[0,:]/Vs[0,:],'ko-', label='a/R=0',clip_on=False)\nplt.plot(sigma, Vp[1,:]/Vs[1,:],'k+-',label='a/R=0.02',clip_on=False)\nplt.plot(sigma, Vp[2,:]/Vs[2,:],'kD-',label='a/R=0.05',clip_on=False)\nplt.plot(sigma, Vp[3,:]/Vs[3,:],'k^-', label='a/R=0.07',clip_on=False)\nplt.plot(sigma, Vp[4,:]/Vs[4,:],'k*-',label='a/R=0.5',clip_on=False)\n\n\nplt.xlim(0,20)\n#plt.ylim(0,2)\nplt.xlabel('Pressure')\nplt.ylabel('Vp/Vs')\nplt.legend(loc='best', bbox_to_anchor=(0.06,0.5, 1., .102)) #  (x, y, width, height)"
      ]
    },
    {
      "cell_type": "markdown",
      "metadata": {},
      "source": [
        "This indicates that when the bounding radius decreases, the Vp/Vs ratio will increase. when the ratio of boundin raidus to the grain radius increases, which can be used to describe the increasing contact cement saturation, we can see the stress dependency of the Vp/Vs ratio will vanishes. \n\n\n"
      ]
    }
  ],
  "metadata": {
    "kernelspec": {
      "display_name": "Python 3",
      "language": "python",
      "name": "python3"
    },
    "language_info": {
      "codemirror_mode": {
        "name": "ipython",
        "version": 3
      },
      "file_extension": ".py",
      "mimetype": "text/x-python",
      "name": "python",
      "nbconvert_exporter": "python",
      "pygments_lexer": "ipython3",
      "version": "3.8.12"
    }
  },
  "nbformat": 4,
  "nbformat_minor": 0
}