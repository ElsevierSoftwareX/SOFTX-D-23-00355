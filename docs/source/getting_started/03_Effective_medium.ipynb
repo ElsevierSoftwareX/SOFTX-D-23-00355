{
  "cells": [
    {
      "cell_type": "code",
      "execution_count": null,
      "metadata": {
        "collapsed": false
      },
      "outputs": [],
      "source": [
        "%matplotlib inline"
      ]
    },
    {
      "cell_type": "markdown",
      "metadata": {},
      "source": [
        "\n# Inclusion models\n"
      ]
    },
    {
      "cell_type": "code",
      "execution_count": null,
      "metadata": {
        "collapsed": false
      },
      "outputs": [],
      "source": [
        "import numpy as np \nimport matplotlib.pyplot as plt\nplt.rcParams['font.size']=14\nplt.rcParams['font.family']='arial'"
      ]
    },
    {
      "cell_type": "code",
      "execution_count": null,
      "metadata": {
        "collapsed": false
      },
      "outputs": [],
      "source": [
        "import rockphypy # import the module for rock physics\nfrom rockphypy import EM # import the \"effective medium\" EM module \n# import the 'Fluid' module \nfrom rockphypy import Fluid"
      ]
    },
    {
      "cell_type": "markdown",
      "metadata": {},
      "source": [
        "## Non-interacting inclusion model with spherical pores\nBasic elastic bounds such as Voigt, Reuss and Hashin-Strikmann bounds attempt to define limits of effective elastic moduli without assuming microgeometry of the composite. Inclusion based effective medium models, in contrast, attempt to give direct estimation of elastic moduli given matrix mineralogy, volume fractions and assumption on microgeometry. \n\nA simple inclusion model is the \"Swiss cheese\" model assuming a dilute distribution of spherical inclusions embedded in an **unbounded** homogenous solid.  It takes the \"noninteracting assumption\" in which all cavities (pores) are independent so that their contributions can be added. \n\nThe Swiss cheese model is defined as :\n\n\\begin{align}\\frac{1}{K^{*}}=\\frac{1}{K_{s}}\\left[1+(1+\\frac{3K_s}{4G_s} ) \\phi\\right]\\end{align}\n\n\n\\begin{align}\\frac{1}{G^{*}}=\\frac{1}{G_{s}}\\left[1+\\frac{15 K_{s}+20 G_{S}}{9 K_{S}+8 G_{S}} \\phi\\right]\\end{align}\n\n\nThe function that performs the calculation is ``EM.Swiss_cheese``\n\n\n## Self-Consistent(SC) model with spherical pores\nRocks generally have their highest elastic moduli and seismic velocities in the limit of zero porosity, approaching the moduli of the mineral constituent. According to Nur's hypothesis, there is almost always a *critical porosity*, $\\phi_c$ at which the rock loses it's coherence and falls apart. The noninteracting models are generally jusitified for very dilute concentration of inclusion and assumes no interaction between inclusions. The estimated average moduli are zero and the prediction fails when the void volume fraction reaches to 0.5. If we want to include the interaction effects to a certain extent and also incorpate the critical porosity behavior, Self-consistent (SC) models can be used. SC models follow the heuristic argument that each inclusion deforms as though it sits in the as-yet-unknown effective medium, rather than in the original uniform background phase. When assuming random distribution of spherical pores, the SC model can be written as: \n\n\\begin{align}\\frac{1}{K^{*}}=\\frac{1}{K_{S}}+\\left(\\frac{1}{K^{*}}+\\frac{3}{4 G^{*}}\\right) \\phi\\end{align}\n\n\n\\begin{align}\\frac{1}{G^{*}}=\\frac{1}{G_{S}}+\\frac{15 K^{*}+20 G *}{9 K^{*}+8 G *} \\frac{\\phi}{G^{*}}\\end{align}\n\n\nIt's noted that $K^*$ is sitting at the both sides of the equation. So does $G^*$. Therefore, iterative solver is invoked in the implementation. $K^*$ and $G^*$ will converge after several iterations.\n\nThe function that performs the calculation is ``EM.SC``\n\n\n## Non-interacting crack model\nThe predicted moduli using spherical inclusions are too high compared to experiments on e.g. sandstone, as spherical pores are stiff. The pore geometry in real rock is highly irregular and the pores are more compliant. A simple approach is to include cracks (thin pores) in the EM models. The non-iteracting randomly oriented crack model is defined as : \n\n\\begin{align}\\frac{1}{K^{*}}=\\frac{1}{K_{s}}\\left[1+\\frac{16}{9} \\frac{1-v_{s}^{2}}{1-2 v_{s}} \\xi\\right] \\quad\\end{align}\n\n\n\\begin{align}\\frac{1}{G^{*}}=\\frac{1}{G_{s}}\\left[1+\\frac{32\\left(1-v_{s}\\right)\\left(5-v_{s}\\right)}{45\\left(2-v_{s}\\right)} \\xi\\right]\\end{align}\n\n\nwhere $\\xi$ is crack density defined as:\n\n\\begin{align}\\xi=\\frac{3\\phi_{crack}}{4\\pi\\alpha}\\end{align}\n$\\phi_{crack}$ is the crack porosity:\n\n\\begin{align}\\phi_c=\\frac{4\\pi}{3}\\alpha \\xi\\end{align}\n\n\nThe function that performs the calculation is ``EM.Dilute_Crack``\n\n## Self-Consistent crack model\nO\u2019Connell and Budiansky (1974) presented equations for effective bulk and shear moduli of a cracked medium with randomly oriented dry penny-shaped cracks (in the limiting case when the aspect ratio $\\alpha$ goes to 0)\n\n\\begin{align}K^{*}=K_{s}\\left[1-\\frac{16}{9} \\frac{1-v^{* 2}}{1-2 v^{*}} \\xi\\right]\\end{align}\n\n\n\\begin{align}G^{*}=G_{s}\\left[1-\\frac{32}{45} \\frac{\\left(1-v^{*}\\right)\\left(5-v^{*}\\right)}{\\left(2-v^{*}\\right)} \\xi\\right]\\end{align}\n\nThe poisson's ratio can be approximated as \n\n\\begin{align}\\nu^{*} \\cong \\nu_{s}\\left(1-\\frac{16}{9} \\xi\\right)\\end{align}\n\n\nThe function that performs the calculation is ``EM.OConnell_Budiansky``\n\n## Examples\nLet's compare between different effective medium models for spherical pores\n\n\n"
      ]
    },
    {
      "cell_type": "code",
      "execution_count": null,
      "metadata": {
        "collapsed": false
      },
      "outputs": [],
      "source": [
        "# specify model parameters\nphi=np.linspace(0,0.6,100,endpoint=True) # solid volume fraction = 1-phi\nK0, G0= 40,30\n#Kw, Gw= 2.2,0\n# Voigt bound\nK_v=(1-phi)*K0\n# Hashin-Strikmann bound \nK_UHS,_= EM.HS(1-phi, K0, 0,G0,0, bound='upper')\n# Non-interacting \nK_ni,G_ni=EM.Swiss_cheese(K0,G0,phi)\n# Self-Consistent\niter_n=100\nphi_=np.linspace(0,0.5,100,endpoint=True) \nK_SC,G_SC=EM.SC(phi_,K0,G0,iter_n)"
      ]
    },
    {
      "cell_type": "code",
      "execution_count": null,
      "metadata": {
        "collapsed": false
      },
      "outputs": [],
      "source": [
        "# plot\nplt.figure(figsize=(8,6))\nplt.xlabel('Porosity')\nplt.ylabel('Bulk modulus [GPa]')\nplt.title('EM models for spherical pores')\nplt.plot(phi, K_v,label='K Voigt')\nplt.plot(phi, K_UHS,label='K HS+')\nplt.plot(phi, K_ni,label='K Non-interacting \\nSwiss Cheese model')\nplt.plot(phi_, K_SC,label='K self consistent')\nplt.legend(loc='best')\nplt.grid(ls='--')"
      ]
    },
    {
      "cell_type": "code",
      "execution_count": null,
      "metadata": {
        "collapsed": false
      },
      "outputs": [],
      "source": [
        "# O\u2019Connell and Budiansky\ncrd= np.arange(0,0.1,0.001)\nK_ob,G_ob = EM.OConnell_Budiansky(K0, G0, crd)\n# dilute crack\nK_dc, G_dc= EM.Dilute_crack(K0,G0,crd)"
      ]
    },
    {
      "cell_type": "code",
      "execution_count": null,
      "metadata": {
        "collapsed": false
      },
      "outputs": [],
      "source": [
        "# plot\nplt.figure(figsize=(8,6))\nplt.xlabel('Crack density')\nplt.ylabel('Bulk modulus [GPa]')\n#plt.title('EM models for crack inclusions')\nplt.plot(crd, K_ob,label='OConnell_Budiansky')\nplt.plot(crd, K_dc,label='Dilute_crack')\n\nplt.legend(loc='best')\nplt.grid(ls='--')"
      ]
    },
    {
      "cell_type": "markdown",
      "metadata": {},
      "source": [
        "Notice that the two initial models are equivalent for low values of crack density $\\xi$, hence they are both valid for low concentrations of inclusions. For high concentrations of inclusions, the models diverge. \n\n\n\n\n## Impact of fluid\nSome inclusion models with cracks will not be Biot-consistent, since the fluid pressure between cracks and pores does not have time to equilibrate during a period of the wave. Dry cavities can be modeled by setting the inclusion moduli to zero. Fluid saturated cavities are simulated by setting the inclusion shear modulus to zero.\n\nFor SC approach: Because the cavities are isolated with respect to flow, this approach simulates very high-frequency saturated rock behavior appropriate to ultrasonic laboratory conditions. At low frequencies, when there is time for wave-induced pore-pressure increments to flow and equilibrate, it is better to find the effective moduli for dry cavities and then saturate them with the Gassmann low-frequency relations. This should not be confused with the tendency to term this approach a low-frequency theory, for crack dimensions are assumed to be much smaller than a wavelength.  \n\n**Reference** : Mavko, G., Mukerji, T. and Dvorkin, J., 2020. The rock physics handbook. Cambridge university press.\n\n"
      ]
    }
  ],
  "metadata": {
    "kernelspec": {
      "display_name": "Python 3",
      "language": "python",
      "name": "python3"
    },
    "language_info": {
      "codemirror_mode": {
        "name": "ipython",
        "version": 3
      },
      "file_extension": ".py",
      "mimetype": "text/x-python",
      "name": "python",
      "nbconvert_exporter": "python",
      "pygments_lexer": "ipython3",
      "version": "3.8.12"
    }
  },
  "nbformat": 4,
  "nbformat_minor": 0
}