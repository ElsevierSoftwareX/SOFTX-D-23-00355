{
  "cells": [
    {
      "cell_type": "code",
      "execution_count": null,
      "metadata": {
        "collapsed": false
      },
      "outputs": [],
      "source": [
        "%matplotlib inline"
      ]
    },
    {
      "cell_type": "markdown",
      "metadata": {},
      "source": [
        "\n# Simple anisotropy\nThis exampl shows how to use the ``rockphypy.Anisotropy`` class to compute Thomsen parameters, Weak anistropic approximation of phase velocities and Backus averaging.\n"
      ]
    },
    {
      "cell_type": "code",
      "execution_count": null,
      "metadata": {
        "collapsed": false
      },
      "outputs": [],
      "source": [
        "import numpy as np \nimport matplotlib.pyplot as plt\nplt.rcParams['font.size']=14\nplt.rcParams['font.family']='arial'"
      ]
    },
    {
      "cell_type": "code",
      "execution_count": null,
      "metadata": {
        "collapsed": false
      },
      "outputs": [],
      "source": [
        "import rockphypy # import the module\nfrom rockphypy import Anisotropy"
      ]
    },
    {
      "cell_type": "markdown",
      "metadata": {},
      "source": [
        "Notice that stressed-induced seismic anisotropy: if an initially isotropic\nmaterial develops anisotropy due to applied stress, the anisotropy must have at least orthorhombic symmetry. \n\n## Thomsen parameters\nThe Elastic constant  of a transversely isotropic elastic material  in terms of Voigt notation can be represented as \n\n\\begin{align}\\begin{bmatrix}\n          c_{11} & c_{12} & c_{13} & 0 & 0 & 0 \\\\\n          c_{12} & c_{11} & c_{13} & 0 & 0 & 0 \\\\\n          c_{13} & c_{13} & c_{33} & 0 & 0 & 0 \\\\\n           0 & 0 & 0 & c_{44} & 0 & 0 \\\\\n           0 & 0 & 0 & 0 & c_{44} & 0\\\\\n           0 & 0 & 0 & 0 & 0 & c_{66}\n         \\end{bmatrix}\\end{align}\n\nwhere \n\n\\begin{align}c_{66}=\\frac{1}{2}\\left(c_{11}-c_{12}\\right)\\end{align}\n\n\nHere z-axis is the unique symmetry axis, isotropic in xy-plane.\n\nThomsen (1986) simplified the elasticity of a VTI material by introducing the anisotropy parameters\n\nP wave anisotropy: \n\n\\begin{align}\\varepsilon=\\frac{c_{11}-c_{33}}{2 c_{33}}\\end{align}\n\nS wave anisotropy:\n\n\\begin{align}\\gamma=\\frac{c_{66}-c_{44}}{2 c_{44}}\\end{align}\n\n\nMoveout parameter: \n\n\\begin{align}\\delta=\\frac{\\left(c_{13}+c_{44}\\right)^{2}-\\left(c_{33}-c_{44}\\right)^{2}}{2 c_{33}\\left(c_{33}-c_{44}\\right)}\\end{align}\n\n\nP wave velocity: \n\n\\begin{align}\\alpha=\\sqrt{c_{33} / \\rho}\\end{align}\n\n\nS wave velocity: \n\n\\begin{align}\\beta=\\sqrt{c_{44} / \\rho}\\end{align}\n\n\n### Intepretation of $\\varepsilon$, $\\gamma$ and $\\delta$: \n\nThe preceding equations are valid for any strength of VTI anisotropy, since they are just definitions. \n\nBut for weak anisotropy, $\\varepsilon$ is usually called \"P-wave anisotropy\", as it can be seen to approximately describe the fractional difference between the P-wave velocities parallel and orthogonal to the symmetry axis\n\n\\begin{align}\\varepsilon \\approx \\frac{V_{\\mathrm{P}}\\left(90^{\\circ}\\right)-V_{\\mathrm{P}}\\left(0^{\\circ}\\right)}{V_{\\mathrm{P}}\\left(0^{\\circ}\\right)}\\end{align}\n\n\nthe constant $\\gamma$ can be seen to describe the fractional difference between the SH-wave velocities parallel and orthogonal to the symmetry axis, which is equivalent to the difference between the velocities of S-waves polarized parallel and normal to the symmetry axis, both propagating normal to the symmetry axis:\n\n\\begin{align}\\gamma \\approx \\frac{V_{\\mathrm{SH}}\\left(90^{\\mathrm{o}}\\right)-V_{\\mathrm{SV}}\\left(90^{\\circ}\\right)}{V_{\\mathrm{SV}}\\left(90^{\\circ}\\right)}=\\frac{V_{\\mathrm{SH}}\\left(90^{\\mathrm{o}}\\right)-V_{\\mathrm{SH}}\\left(0^{\\mathrm{o}}\\right)}{V_{\\mathrm{SH}}\\left(0^{\\circ}\\right)}\\end{align}\n\n\n$\\delta$ is called moveout parameter as the small-offset normal moveout (NMO) velocity is affected by VTI anisotropy, $\\delta$ goes into the equation for NMO velocities, $V_{NMO,P}$, $V_{NMO,SV}$, and $V_{NMO,SH}$ for\nP-, SV-, and SH-modes calculation: \n\n\\begin{align}V_{\\mathrm{NMO}, \\mathrm{P}}=\\alpha \\sqrt{1+2 \\delta}\\end{align}\n\n\n\\begin{align}V_{\\mathrm{NMO}, \\mathrm{SV}}=\\beta \\sqrt{1+2 \\sigma}, \\quad \\sigma=\\left(\\frac{\\alpha}{\\beta}\\right)^{2}(\\varepsilon-\\delta)\\end{align}\n\n\n\\begin{align}V_{\\mathrm{NMO}, \\mathrm{SH}}=\\beta \\sqrt{1+2 \\gamma}\\end{align}\n\n\nIn terms of the Thomsen parameters, the three phase velocities for weak anisotropy can\nbe approximated as\n\n\\begin{align}V_{\\mathrm{P}}(\\theta) \\approx \\alpha\\left(1+\\delta \\sin ^{2} \\theta \\cos ^{2} \\theta+\\varepsilon \\sin ^{4} \\theta\\right)\\end{align}\n\n\n\\begin{align}V_{\\mathrm{SV}}(\\theta) \\approx \\beta\\left[1+\\frac{\\alpha^{2}}{\\beta^{2}}(\\varepsilon-\\delta) \\sin ^{2} \\theta \\cos ^{2} \\theta\\right]\\end{align}\n\n\n\\begin{align}V_{\\mathrm{SH}}(\\theta) \\approx \\beta\\left(1+\\gamma \\sin ^{2} \\theta\\right)\\end{align}\n\n\n## Backus average\nThe Backus average is used to model a finely stratified medium as a single homogeneous medium.all materials are linearly elastic; there are no sources of intrinsic energy dissipation, such as friction or viscosity;\nand the layer thickness must be much smaller than the seismic wavelength. \n\nFor a periodically layered medium with isotropic layers of $n$ materials {$n_1$, $n_2$, ...} having concentrations {$f_1$,  $f_2$,....}, $f_1$ + $f_2$ +...=1 and elastic moduli (Lam\u00e9 coefficients) $\\lambda_1$, $G_1$, $\\lambda_2$, $G_2$,... $\\lambda_n$, $G_n$, the effective anisotropy of the layered medium is given by\n\n\\begin{align}C_{11}=\\left\\langle\\frac{4 \\mu(\\lambda+\\mu)}{\\lambda+2 \\mu}\\right\\rangle+\\left\\langle\\frac{1}{\\lambda+2 \\mu}\\right\\rangle^{-1}\\left\\langle\\frac{\\lambda}{\\lambda+2 \\mu}\\right\\rangle^{2}\\end{align}\n\n\n\\begin{align}C_{33}=\\left\\langle\\frac{1}{\\lambda+2 \\mu}\\right\\rangle^{-1}\\end{align}\n\n\n\\begin{align}C_{13}=\\left\\langle\\frac{1}{\\lambda+2 \\mu}\\right\\rangle^{-1}\\left\\langle\\frac{\\lambda}{\\lambda+2 \\mu}\\right\\rangle\\end{align}\n\n\n\\begin{align}C_{44}=\\left\\langle\\frac{1}{\\mu}\\right\\rangle^{-1}\\end{align}\n\n\n\\begin{align}C_{66}=\\langle\\mu\\rangle\\end{align}\n\n\n\\begin{align}C_{12}=C_{11}-2C_{66}\\end{align}\n\n\n\n## Examples\nLet's estimate angle dependent weak anisotropy of a layered medium using backus average model.\n\n\n"
      ]
    },
    {
      "cell_type": "code",
      "execution_count": null,
      "metadata": {
        "collapsed": false
      },
      "outputs": [],
      "source": [
        "# specify model parameters\nlamda1, G1=5,5\nlamda2, G2=1,1\nden1=2.25\nden2=2.0\nV1,V2= 0.5,0.5 # volumetric fraction\n# Compute anisotropic elastic moduli\nV = [V1,V2]\nlamda = [lamda1,lamda2]\nG=[G1,G2]\nC11,C33,C13,C44,C66= Anisotropy.Backus(V,lamda,G)\n# compute effective density\nden= np.dot(V,np.array([den1,den2]))\n# compute angle dependent anisotropy from layering\ntheta=np.linspace(0,90,50)\nVP, VSV, VSH,epsilon,gamma,delta = Anisotropy.Thomsen(C11,C33,C13,C44,C66,den, theta)"
      ]
    },
    {
      "cell_type": "code",
      "execution_count": null,
      "metadata": {
        "collapsed": false
      },
      "outputs": [],
      "source": [
        "# plot\nplt.figure(figsize=(6,6))\nplt.xlabel('angle')\nplt.ylabel('velocity')\nplt.title('Anisotropy from layering')\nplt.plot(theta, VP, label='VqP')\nplt.plot(theta, VSV,label='VSH')\nplt.plot(theta, VSH,label='VqSV')\nplt.legend(loc='best')"
      ]
    },
    {
      "cell_type": "markdown",
      "metadata": {},
      "source": [
        "**Reference** : Mavko, G., Mukerji, T. and Dvorkin, J., 2020. The rock physics handbook. Cambridge university press.\n\n\n"
      ]
    }
  ],
  "metadata": {
    "kernelspec": {
      "display_name": "Python 3",
      "language": "python",
      "name": "python3"
    },
    "language_info": {
      "codemirror_mode": {
        "name": "ipython",
        "version": 3
      },
      "file_extension": ".py",
      "mimetype": "text/x-python",
      "name": "python",
      "nbconvert_exporter": "python",
      "pygments_lexer": "ipython3",
      "version": "3.8.12"
    }
  },
  "nbformat": 4,
  "nbformat_minor": 0
}