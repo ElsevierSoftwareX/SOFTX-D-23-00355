{
  "cells": [
    {
      "cell_type": "code",
      "execution_count": null,
      "metadata": {
        "collapsed": false
      },
      "outputs": [],
      "source": [
        "%matplotlib inline"
      ]
    },
    {
      "cell_type": "markdown",
      "metadata": {},
      "source": [
        "\n# Berryman Self consistent approach\nBerryman Self consistent approach for calculating the elastic moduli of N phase composite\n"
      ]
    },
    {
      "cell_type": "code",
      "execution_count": null,
      "metadata": {
        "collapsed": false
      },
      "outputs": [],
      "source": [
        "import numpy as np \nimport matplotlib.pyplot as plt\nplt.rcParams['font.size']=14\nplt.rcParams['font.family']='arial'"
      ]
    },
    {
      "cell_type": "code",
      "execution_count": null,
      "metadata": {
        "collapsed": false
      },
      "outputs": [],
      "source": [
        "import rockphypy # import the module \nfrom rockphypy import EM \nfrom rockphypy import Fluid"
      ]
    },
    {
      "cell_type": "markdown",
      "metadata": {},
      "source": [
        "Berryman's self-consistent approximations for N-phase composites are described by the equations: \n\n\\begin{align}\\sum_{\\mathrm{i}=1}^N x_{\\mathrm{i}}\\left(K_{\\mathrm{i}}-K_{\\mathrm{SC}}^{e f f}\\right) P^{e f f \\mathrm{i}}=0\\end{align}\n\n\\begin{align}\\sum_{\\mathrm{i}=1}^N x_{\\mathrm{i}}\\left(\\mu_{\\mathrm{i}}-\\mu_{\\mathrm{SC}}^{e f f}\\right) Q^{e f f \\mathrm{i}}=0\\end{align}\n\n\n\n"
      ]
    },
    {
      "cell_type": "markdown",
      "metadata": {},
      "source": [
        "The question is as follows: Calculate the self-consistent effective bulk and shear moduli, $K_{eff}^{SC}$and $G_{eff}^{SC}$, for a water-saturated rock consisting of spherical quartz grains (aspect ratio $\\alpha$ = 1) and total porosity 0.3. The pore space consists of spherical pores $\\alpha$ = 1 and thin penny-shaped cracks ($\\alpha$ = 1e^\u22122). The thin cracks have a porosity of 0.01, whereas the remaining porosity (0.29) is made up of the spherical pores.\n\n\nThere are three phases in the composite, i.e. quartz grain, water filled spherical pore, and water filled thin cracks. We can use the method ``EM.Berryman_sc`` to easily solve this exercise to find the effective moduli of the composite.\n\n\n"
      ]
    },
    {
      "cell_type": "code",
      "execution_count": null,
      "metadata": {
        "collapsed": false
      },
      "outputs": [],
      "source": [
        "# three phase K=[K1,K2,K3]\nK=[37,2.25,2.25]\n# G=[G1,G2,G3]\nG=[44,0,0]\n# X=[frac1, frac2, frac3]\nX=[0.7,0.29,0.01]\n# Alpha= [alpha1, alpha2, alpha3]\nAlpha=[1,1,0.01]\n\n# effective moduli\nK_sc,G_sc= EM.Berryman_sc(K,G,X,Alpha)"
      ]
    },
    {
      "cell_type": "code",
      "execution_count": null,
      "metadata": {
        "collapsed": false
      },
      "outputs": [],
      "source": [
        "print('K_eff and G_eff of the composite are {:.2f} GPa and {:.2f} GPa, respectively'.format(K_sc,G_sc))"
      ]
    }
  ],
  "metadata": {
    "kernelspec": {
      "display_name": "Python 3",
      "language": "python",
      "name": "python3"
    },
    "language_info": {
      "codemirror_mode": {
        "name": "ipython",
        "version": 3
      },
      "file_extension": ".py",
      "mimetype": "text/x-python",
      "name": "python",
      "nbconvert_exporter": "python",
      "pygments_lexer": "ipython3",
      "version": "3.8.12"
    }
  },
  "nbformat": 4,
  "nbformat_minor": 0
}