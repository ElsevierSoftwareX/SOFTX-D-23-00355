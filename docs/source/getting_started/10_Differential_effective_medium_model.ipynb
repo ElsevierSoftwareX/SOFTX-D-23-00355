{
  "cells": [
    {
      "cell_type": "code",
      "execution_count": null,
      "metadata": {
        "collapsed": false
      },
      "outputs": [],
      "source": [
        "%matplotlib inline"
      ]
    },
    {
      "cell_type": "markdown",
      "metadata": {},
      "source": [
        "\n# Differential Effective Medium (DEM)\n"
      ]
    },
    {
      "cell_type": "code",
      "execution_count": null,
      "metadata": {
        "collapsed": false
      },
      "outputs": [],
      "source": [
        "import numpy as np \nimport matplotlib.pyplot as plt\nplt.rcParams['font.size']=14\nplt.rcParams['font.family']='arial'"
      ]
    },
    {
      "cell_type": "code",
      "execution_count": null,
      "metadata": {
        "collapsed": false
      },
      "outputs": [],
      "source": [
        "import rockphypy # import the module \nfrom rockphypy import EM \nfrom rockphypy import Fluid"
      ]
    },
    {
      "cell_type": "markdown",
      "metadata": {},
      "source": [
        "## Berryman's Differential effective medium (DEM) model\nThe DEM theory models two-phase composites by incrementally adding inclusions of one phase (phase 2) to the matrix phase. The matrix begins as phase 1 (when the concentration of phase 2 is zero) and is changed at each step as a new increment of phase 2 material is added. The process is continued until the desired proportion of the constituents is reached. The process of incrementally adding inclusions to the matrix is really a thought experiment and should not be taken to provide an accurate description of the true evolution of rock porosity in nature.\n\nThe coupled system of ordinary differential equations for the effective bulk and\nshear moduli, $K^{DEM}_{eff}$ and $\\mu^{DEM}_{eff}$, respectively, are (Berryman, 1992b)\n\n\\begin{align}(1-y) \\frac{d}{d y}\\left[K_{D E M}^{e f f}(y)\\right]=\\left(K_{2}-K_{D E M}^{e f f}\\right) P^{e f f 2}(y)\\end{align}\n\n\n\\begin{align}(1-y) \\frac{d}{d y}\\left[\\mu_{D E M}^{e f f}(y)\\right]=\\left(\\mu_{2}-\\mu_{D E M}^{e f f}\\right) Q^{e f f 2}(y)\\end{align}\n\n\nwith initial conditions  $K^{DEM}_{eff} (0)=K_1$ and $\\mu^{DEM}_{eff}(0)=\\mu_1$, where $K_1$ and $\\mu_1$ are the bulk and shear moduli of the initial host material (phase 1), $K_2$ and $\\mu_2$ are the bulk and shear moduli of the incrementally added inclusions (phase 2), and y is the concentration of phase 2.\nFor fluid inclusions and voids, y equals the porosity.\n\nExpressions for the volumetric and deviatoric strain concentration factors are:\n\n\\begin{align}P^{m n}=\\frac{1}{3}T_{i i j j}^{m n}\\end{align}\n\n\\begin{align}Q^{m n}=\\frac{1}{5}(T_{i j i j}^{m n}-T_{i i j j}^{m n})\\end{align}\n\n\\begin{align}T_{i i j j}^{m n}=\\frac{3 F_{1}}{F_{2}}\\end{align}\n\n\\begin{align}T_{i j i j}^{m n}-\\frac{1}{3} T_{i i j j}^{m n}=\\frac{2}{F_{3}}+\\frac{1}{F_{4}}+\\frac{F_{4} F_{5}+F_{6} F_{7}-F_{8} F_{9}}{F_{2} F_{4}}\\end{align}\n\nwhere\n\n\\begin{align}F_{1}=1+A\\left[\\frac{3}{2}(f+\\theta)-R\\left(\\frac{3}{2} f+\\frac{5}{2} \\theta-\\frac{4}{3}\\right)\\right]\\end{align}\n\n\\begin{align}F_{2}=1+A\\left[1+\\frac{3}{2}(f+\\theta)-\\frac{1}{2} R(3 f+5 \\theta)\\right]+B(3-4 R)+\\frac{1}{2} A(A+3 B)(3-4 R)\\left[f+\\theta-R\\left(f-\\theta+2 \\theta^{2}\\right)\\right]  \\\\\\end{align}\n\n\\begin{align}F_{3}=1+A\\left[1-\\left(f+\\frac{3}{2} \\theta\\right)+R(f+\\theta)\\right]\\end{align}\n\n\\begin{align}F_{4}=1+\\frac{1}{4} A[f+3 \\theta-R(f-\\theta)]\\end{align}\n\n\\begin{align}F_{5}=A\\left[-f+R\\left(f+\\theta-\\frac{4}{3}\\right)\\right]+B \\theta(3-4 R)\\end{align}\n\n\\begin{align}F_{6}=1+A[1+f-R(f+\\theta)]+B(1-\\theta)(3-4 R)\\end{align}\n\n\\begin{align}F_{7}=2+\\frac{1}{4} A[3 f+9 \\theta-R(3 f+5 \\theta)]+B \\theta(3-4 R)\\end{align}\n\n\\begin{align}F_{8}=A\\left[1-2 R+\\frac{1}{2} f(R-1)+\\frac{1}{2} \\theta(5 R-3)\\right]+B(1-\\theta)(3-4 R)\\end{align}\n\n\\begin{align}F_{9}=A[(R-1) f-R \\theta]+B \\theta(3-4 R)\\end{align}\n\nwith A, B, and R given by\n\n\\begin{align}A=\\mu_{\\mathrm{i}} / \\mu_{\\mathrm{m}}-1\\end{align}\n\n\\begin{align}B=\\frac{1}{3}\\left(\\frac{K_{\\mathrm{i}}}{K_{\\mathrm{m}}}-\\frac{\\mu_{\\mathrm{i}}}{\\mu_{\\mathrm{m}}}\\right)\\end{align}\n\n\\begin{align}R=\\frac{\\left(1-2 v_{\\mathrm{m}}\\right)}{2\\left(1-v_{\\mathrm{m}}\\right)}\\end{align}\n\nThe functions $\\theta$ and $f$ are given by \n\n\\begin{align}\\theta=\\begin{cases}\n      \\{\\frac{\\alpha}{\\left(\\alpha^{2}-1\\right)^{3 / 2}}\\left[\\alpha\\left(\\alpha^{2}-1\\right)^{1 / 2}-\\cosh ^{-1} \\alpha\\right]\\\\\n      \\frac{\\alpha}{\\left(1-\\alpha^{2}\\right)^{3 / 2}}\\left[\\cos ^{-1}\\alpha-\\alpha\\left(1-\\alpha^{2}\\right)^{1 / 2}\\right]\n      \\end{cases}\\end{align}\n\nfor prolate and oblate spheroids, respectively, and\n\n\\begin{align}f=\\frac{\\alpha^{2}}{1-\\alpha^{2}}(3 \\theta-2)\\end{align}\n\n\nNote that $\\alpha <1$ for oblate spheroids and $\\alpha >1$  for prolate spheroids\n\nFor spherical pores:\n\n\\begin{align}P=\\frac{K_{\\mathrm{m}}+\\frac{4}{3} \\mu_{\\mathrm{m}}}{K_{\\mathrm{i}}+\\frac{4}{3} \\mu_{\\mathrm{m}}}\\end{align}\n\n\n\\begin{align}Q=\\frac{\\mu_{\\mathrm{m}}+\\zeta_{\\mathrm{m}}}{\\mu_{\\mathrm{i}}+\\zeta_{\\mathrm{m}}}\\end{align}\n\nFluid Effect:\n^^^^^^^^^^^^^ \nDry cavities can be modeled by setting the inclusion moduli to zero. Fluid-saturated cavities are simulated by setting the inclusion shear modulus to zero. \n%%\n\n"
      ]
    },
    {
      "cell_type": "code",
      "execution_count": null,
      "metadata": {
        "collapsed": false
      },
      "outputs": [],
      "source": [
        "# DEM modelling the crack \nGi =0\nKi =0 # dry pore\nalpha = 1\n# Initial values\nK_eff0 = 37   # host mineral bulk modulus \nG_eff0 = 45   # host mineral shear modulus \n\n# Make time array for solution, desired fraction of inclusion \ntStop = 1\n\nK_dry_dem, G_dry_dem,t= EM.Berryman_DEM(K_eff0,G_eff0, Ki, Gi, alpha,tStop)"
      ]
    },
    {
      "cell_type": "code",
      "execution_count": null,
      "metadata": {
        "collapsed": false
      },
      "outputs": [],
      "source": [
        "# plot\nplt.figure(figsize=(6,6))\nplt.xlabel('Porosity')\nplt.ylabel('Bulk modulus [GPa]')\nplt.title('DEM dry-pore modelling')\nplt.plot(t, K_dry_dem)\nplt.grid(ls='--')"
      ]
    },
    {
      "cell_type": "markdown",
      "metadata": {},
      "source": [
        "**Reference**: Mavko, G., Mukerji, T. and Dvorkin, J., 2020. The rock physics handbook. Cambridge university press.\n\n\n"
      ]
    }
  ],
  "metadata": {
    "kernelspec": {
      "display_name": "Python 3",
      "language": "python",
      "name": "python3"
    },
    "language_info": {
      "codemirror_mode": {
        "name": "ipython",
        "version": 3
      },
      "file_extension": ".py",
      "mimetype": "text/x-python",
      "name": "python",
      "nbconvert_exporter": "python",
      "pygments_lexer": "ipython3",
      "version": "3.8.12"
    }
  },
  "nbformat": 4,
  "nbformat_minor": 0
}