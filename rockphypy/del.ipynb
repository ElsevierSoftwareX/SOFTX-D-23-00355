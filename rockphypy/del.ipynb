{
 "cells": [
  {
   "cell_type": "code",
   "execution_count": 1,
   "metadata": {},
   "outputs": [],
   "source": [
    "import numpy as np"
   ]
  },
  {
   "cell_type": "code",
   "execution_count": 8,
   "metadata": {},
   "outputs": [],
   "source": [
    "def Backus(V,lamda, G ):\n",
    "    \"\"\"Computes stiffnesses of a layered medium using backus average model. Written by Jiaxin Yu (July 2021)\n",
    "\n",
    "    Args:\n",
    "        V (num or array-like, frac): volumetric fractions of N isotropic layering materials\n",
    "        lamda (num or array-like): Lamé coefficients of N isotropic layering materials\n",
    "        G (num or array-like, GPa): shear moduli of N isotropic layering materials\n",
    "    Returns:\n",
    "        C11,C33,C13,C44,C66 (num or array-like, GPa): Elastic moduli of the anisotropic layered media\n",
    "    \"\"\"    \n",
    "    if isinstance(V, ( np.ndarray)) is False:\n",
    "        V=np.array(V)\n",
    "    V=V/np.sum(V)\n",
    "    if isinstance(lamda, ( np.ndarray)) is False:\n",
    "        lamda=np.array(lamda)\n",
    "    if isinstance(G, ( np.ndarray)) is False:\n",
    "        G=np.array(G)\n",
    "    \n",
    "    C33=np.dot(V, 1/(lamda+2*G)) **-1\n",
    "    C44=np.dot(V, 1/G)**-1\n",
    "    C66=np.dot(V, G)\n",
    "    C13=np.dot(V, 1/(lamda+2*G)) **-1 * np.dot(V, lamda/(lamda+2*G))\n",
    "    C11=np.dot(V, 4*G*(lamda+G)/(lamda+2*G))+np.dot(V, 1/(lamda+2*G))**-1 * np.dot(V, lamda/(lamda+2*G))**2\n",
    "    \n",
    "    return C11,C33,C13,C44,C66\n",
    "\n",
    "def Backus_log(Vp,Vs,Den,Depth):\n",
    "    \"\"\" Computes Backus Average from log data, notice that the Depth is 1d Vector including each top depth of layer and also the bottom of last layer. \n",
    "\n",
    "    Args:\n",
    "        Vp (array): P wave velocities of layers [Vp1,Vp2...Vpn], size N\n",
    "        Vs (array): S wave velocities of layers [Vs1,Vs2...Vsn], size N\n",
    "        Den (array): Densities of layers, size N\n",
    "        Depth (array): 1d depth, ATTENTION: each depth point\n",
    "        corresponds to the top of thin isotropic layer, the bottom of the sedimentary package is the last depth point. [dep1,dep2,,,,,,depn, depn+1], size N+1\n",
    "\n",
    "    Returns:\n",
    "        _type_: _description_\n",
    "    \"\"\"    \n",
    "\n",
    "    # compute lame constants from log data \n",
    "    G = Den*Vs**2\n",
    "    lamda = Den*Vp**2 - 2*G\n",
    "    # compute thickness of each layer given depth  \n",
    "    thickness = np.diff(Depth)\n",
    "    # Volume fraction\n",
    "    V= thickness/thickness.sum()\n",
    "    \n",
    "    C11,C33,C13,C44,C66 = Backus(V,lamda, G )\n",
    "\n",
    "    # Mass balance for density \n",
    "    den = np.dot(V, Den)\n",
    "\n",
    "    return C11,C33,C13,C44,C66, den\n"
   ]
  },
  {
   "cell_type": "code",
   "execution_count": 23,
   "metadata": {},
   "outputs": [],
   "source": [
    "def write_VTI_matrix(C11,C33,C13,C44,C66):\n",
    "    \"\"\"formulate VTI stiffness matrix \n",
    "\n",
    "    Args:\n",
    "        C11 (GPa): stiffness\n",
    "        C33 (GPa): stiffness\n",
    "        C13 (GPa): stiffness\n",
    "        C44 (GPa): stiffness\n",
    "        C65 (GPa): stiffness\n",
    "\n",
    "    Returns:\n",
    "        C: 6x6 stiffness matrix\n",
    "    \"\"\"   \n",
    "    C12= C11-2*C66\n",
    "    C=np.array([[C11,C12,C13,0,0,0],\n",
    "            [C12,C11,C13,0,0,0],\n",
    "            [C13,C13,C33,0,0,0],\n",
    "            [0,0,0,C44,0,0],\n",
    "            [0,0,0,0,C44,0],\n",
    "            [0,0,0,0,0,C66]])\n",
    "    return C"
   ]
  },
  {
   "cell_type": "code",
   "execution_count": null,
   "metadata": {},
   "outputs": [],
   "source": [
    "def zoeppritz(vp1, vs1, rho1, vp2, vs2, rho2, theta):\n",
    "\n",
    "    '''\n",
    "    Reflection & Transmission coefficients calculated using full Zoeppritz\n",
    "    equations.\n",
    "    \n",
    "    Usage:\n",
    "    ------\n",
    "    R = rc_zoep(vp1, vs1, rho1, vp2, vs2, rho2, theta1)\n",
    "    \n",
    "    Reference:\n",
    "    ----------\n",
    "    The Rock Physics Handbook, Dvorkin et al.\n",
    "    '''\n",
    "    \n",
    "    # Calculate reflection & transmission angles\n",
    "    theta1 = np.deg2rad(theta)\n",
    "   \n",
    "    \n",
    "    p = np.sin(theta)/vp1 # Ray parameter\n",
    "    # Transmission angle of P-wave\n",
    "    theta2  =np.arcsin(p*vp2)\n",
    "    phi1   = np.arcsin(p*vs1);      # Reflection angle of converted S-wave\n",
    "    phi2   = np.arcsin(p*vs2);      # Transmission angle of converted S-wave\n",
    "    \n",
    "    # Matrix form of Zoeppritz Equations... M & N are two of the matricies\n",
    "    M = np.array([ \n",
    "        [-np.sin(theta1), -np.cos(phi1), np.sin(theta2), np.cos(phi2)],\n",
    "        [np.cos(theta1), -np.sin(phi1), np.cos(theta2), -np.sin(phi2)],\n",
    "        [2*rho1*vs1*np.sin(phi1)*np.cos(theta1), rho1*vs1*(1-2*np.sin(phi1)**2),\n",
    "            2*rho2*vs2*np.sin(phi2)*np.cos(theta2), rho2*vs2*(1-2*np.sin(phi2)**2)],\n",
    "        [-rho1*vp1*(1-2*np.sin(phi1)**2), rho1*vs1*np.sin(2*phi1), \n",
    "            rho2*vp2*(1-2*np.sin(phi2)**2), -rho2*vs2*np.sin(2*phi2)]\n",
    "        ])\n",
    "    \n",
    "    N = np.array([ \n",
    "        [np.sin(theta1), np.cos(phi1), -np.sin(theta2), -np.cos(phi2)],\n",
    "        [np.cos(theta1), -np.sin(phi1), np.cos(theta2), -np.sin(phi2)],\n",
    "        [2*rho1*vs1*np.sin(phi1)*np.cos(theta1), rho1*vs1*(1-2*np.sin(phi1)**2),\n",
    "            2*rho2*vs2*np.sin(phi2)*np.cos(theta2), rho2*vs2*(1-2*np.sin(phi2)**2)],\n",
    "        [rho1*vp1*(1-2*np.sin(phi1)**2), -rho1*vs1*np.sin(2*phi1),\n",
    "            -rho2*vp2*(1-2*np.sin(phi2)**2), rho2*vs2*np.sin(2*phi2)]\n",
    "        ])\n",
    "    a=rho2*(1-2*np.sin(phi2)**2)-rho1*(1-2*np.sin(phi1)**2)\n",
    "    b=rho2*(1-2*np.sin(phi2)**2)+2*rho1*np.sin(phi1)**2\n",
    "    c=rho1*(1-2*np.sin(phi1)**2)+2*rho2*np.sin(phi2)**2\n",
    "    d=2*(rho2*vs2**2-rho1*vs1**2)\n",
    "    H=a-d*np.cos(theta2)/vp2*np.cos(phi2)/vs2\n",
    "    E=b*np.cos(theta1)/vp1+c*np.cos(theta2)/vp2\n",
    "    F=b*np.cos(phi1)/vs1+c*np.cos(phi2)/vs2\n",
    "    G=a-d*np.cos(theta1)/vp1*np.cos(phi2)/vs2\n",
    "    D=E*F+G*H*p**2\n",
    "    Rpp=( (  b*np.cos(theta1)/vp1-c*np.cos(theta2)/vp2)*F-( a+d*np.cos(theta1)/vp1*np.cos(phi2)/vs2)*H*p**2)/D\n",
    "\n",
    "    # This is the important step, calculating coefficients for all modes and rays\n",
    "\n",
    "    \n",
    "    \n",
    "    #R = np.dot(np.linalg.inv(M), N)\n",
    "    \n",
    "    return Rpp"
   ]
  },
  {
   "cell_type": "code",
   "execution_count": 11,
   "metadata": {},
   "outputs": [
    {
     "data": {
      "text/plain": [
       "-0.577350284090787"
      ]
     },
     "execution_count": 11,
     "metadata": {},
     "output_type": "execute_result"
    }
   ],
   "source": [
    "theta= np.radians(30)\n",
    "vsvp=0.5\n",
    "x1=2*np.sin(theta)**2-1-2*np.cos(theta)*np.sqrt(vsvp**2-np.sin(theta)**2)\n",
    "a=np.tan(theta)*x1/vsvp\n",
    "a"
   ]
  },
  {
   "cell_type": "code",
   "execution_count": 8,
   "metadata": {},
   "outputs": [
    {
     "data": {
      "text/plain": [
       "0.49999999999999994"
      ]
     },
     "execution_count": 8,
     "metadata": {},
     "output_type": "execute_result"
    }
   ],
   "source": [
    "np.sin(np.radians(30))"
   ]
  },
  {
   "cell_type": "code",
   "execution_count": 38,
   "metadata": {},
   "outputs": [
    {
     "data": {
      "text/plain": [
       "-0.736925958910858"
      ]
     },
     "execution_count": 38,
     "metadata": {},
     "output_type": "execute_result"
    }
   ],
   "source": [
    "theta= np.radians(30)\n",
    "SP=0.5\n",
    "b=np.sin(theta)/np.sqrt(1-SP**2*np.sin(theta)**2)*(4*np.sin(theta)**2*SP**2-4*SP*np.cos(theta)*np.sqrt(1-SP**2*np.sin(theta)**2))\n",
    "b"
   ]
  },
  {
   "cell_type": "code",
   "execution_count": 39,
   "metadata": {},
   "outputs": [
    {
     "data": {
      "text/plain": [
       "1.1547005085769289"
      ]
     },
     "execution_count": 39,
     "metadata": {},
     "output_type": "execute_result"
    }
   ],
   "source": [
    "theta= np.radians(30)\n",
    "vsvp=0.5\n",
    "x2=np.sin(theta)**2-np.cos(theta)*np.sqrt(vsvp**2-np.sin(theta)**2)\n",
    "b=4*np.tan(theta)*x2/vsvp\n",
    "b"
   ]
  },
  {
   "cell_type": "code",
   "execution_count": 40,
   "metadata": {},
   "outputs": [
    {
     "data": {
      "text/plain": [
       "-0.736925958910858"
      ]
     },
     "execution_count": 40,
     "metadata": {},
     "output_type": "execute_result"
    }
   ],
   "source": [
    "vpvs=1/vsvp\n",
    "facroo=np.sqrt(vpvs**2-np.sin(theta)**2)\n",
    "facall=np.sin(theta)/(vpvs*facroo)\n",
    "b=4.*facall*(np.sin(theta)**2 - np.cos(theta)*facroo)\n",
    "b"
   ]
  },
  {
   "cell_type": "code",
   "execution_count": 35,
   "metadata": {},
   "outputs": [
    {
     "name": "stdout",
     "output_type": "stream",
     "text": [
      "0.7945023950628066\n",
      "1.1917535925942098\n"
     ]
    }
   ],
   "source": [
    "theta= np.radians(50)\n",
    "vsvp=1.5\n",
    "print(np.tan(theta)/vsvp)\n",
    "print(np.sin(theta)/np.sqrt(1-SP**2*np.sin(theta)**2))"
   ]
  },
  {
   "cell_type": "code",
   "execution_count": 29,
   "metadata": {},
   "outputs": [
    {
     "data": {
      "text/plain": [
       "0.5773502691896257"
      ]
     },
     "execution_count": 29,
     "metadata": {},
     "output_type": "execute_result"
    }
   ],
   "source": []
  }
 ],
 "metadata": {
  "kernelspec": {
   "display_name": "Python 3.8.6 64-bit",
   "language": "python",
   "name": "python3"
  },
  "language_info": {
   "codemirror_mode": {
    "name": "ipython",
    "version": 3
   },
   "file_extension": ".py",
   "mimetype": "text/x-python",
   "name": "python",
   "nbconvert_exporter": "python",
   "pygments_lexer": "ipython3",
   "version": "3.8.6"
  },
  "orig_nbformat": 4,
  "vscode": {
   "interpreter": {
    "hash": "d381afd016e7ee54d18b394a76ad6079eaaafa797295afaba68ab96a6bc3a169"
   }
  }
 },
 "nbformat": 4,
 "nbformat_minor": 2
}
