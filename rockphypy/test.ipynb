{
 "cells": [
  {
   "cell_type": "code",
   "execution_count": 2,
   "metadata": {},
   "outputs": [],
   "source": [
    "import numpy as np\n",
    "from EM import *"
   ]
  },
  {
   "cell_type": "code",
   "execution_count": 3,
   "metadata": {},
   "outputs": [],
   "source": [
    "from scipy.optimize import fsolve"
   ]
  },
  {
   "cell_type": "code",
   "execution_count": 54,
   "metadata": {},
   "outputs": [],
   "source": [
    "def OConnell_Budiansky_fl(K0,G0,Kfl,crd, alpha_):\n",
    "    \"\"\" Saturated effective elastic moduli using the O’Connell and Budiansky Self Consistent (SC) formulations under the constraints of small aspect ratio cracks with soft-fluid saturation.\n",
    "\n",
    "    Args:\n",
    "        K0 (GPa): bulk modulus of background medium\n",
    "        G0 (GPa): shear modulus of background medium\n",
    "        Kfl (GPa): bulk modulus of soft fluid inclusion, e.g gas\n",
    "        crd (unitless): crack density\n",
    "        alpha_ (unitless): aspect ratio\n",
    "\n",
    "    Returns:\n",
    "        K_sat,G_sat: elastic moduli of cracked background fully saturated by soft fluid.\n",
    "\n",
    "    Refs: \n",
    "        O’Connell and Budiansky, (1974)\n",
    "    \"\"\"    \n",
    "    \n",
    "    nu0 = (3*K0-2*G0)/(6*K0+2*G0)#  Poisson ratio of the uncracked solid\n",
    "    w = Kfl/alpha_/K0\n",
    "    # given crack density and w, solve for the D and nu_eff simulaneously using equations 23 and 25 in O’Connell and Budiansky, (1974)\n",
    "    nu_eff, D =  fsolve(OC_R_funcs, (0.2, 0.9), args = (crd,nu0,w))   \n",
    "\n",
    "    K_sat = K0*(1-16*(1-nu_eff**2)*crd*D/(9*(1-2*nu_eff)))\n",
    "    G_sat = G0*(1-32/45*(1-nu_eff) *(D+ 3/(2-nu_eff))*crd)\n",
    "    return K_sat,G_sat\n",
    "\n",
    "def OC_R_funcs(params, crd,nu_0,w ): # crd, nu_0,w \n",
    "    \"\"\"Form the system of equastions to solve. Given crack density and w, solve for the D and nu_eff simulaneously using equations 23 and 25 in O’Connell and Budiansky, (1974)\n",
    "\n",
    "    Args:\n",
    "        params (list): Parameters to solve, in the form of [nu_eff, D]\n",
    "        crd (unitless): crack density\n",
    "        nu_0 (): Poisson's ratio of background medium\n",
    "        w (unitless): softness indicator of fluid filled crack, w=Kfl/alpha_/K0, soft fluid saturation is w is the order of 1 \n",
    "\n",
    "    Returns:\n",
    "        eqs to be solved\n",
    "    \n",
    "    \"\"\"    \n",
    "    nu_eff, D = params\n",
    "    \n",
    "    eq1 = 45/16 * (nu_0-nu_eff)/(1-nu_eff**2)*(2-nu_eff)/(D*(1+3*nu_0)*(2-nu_eff)-2*(1-2*nu_0)) - crd   # eq 23 in OC&R, 1974\n",
    "    eq2 = crd * D**2-( crd+9/16 * (1-2*nu_eff)/(1-nu_0**2) + 3*w/(4*np.pi))*D + 9/16 * (1-2*nu_eff)/(1-nu_0**2) # eq 23 in OC&R, 1974\n",
    "    return  [eq1,eq2]\n",
    "\n",
    "\n"
   ]
  },
  {
   "cell_type": "code",
   "execution_count": null,
   "metadata": {},
   "outputs": [],
   "source": []
  },
  {
   "cell_type": "code",
   "execution_count": 23,
   "metadata": {},
   "outputs": [],
   "source": [
    "def test_func(params, X,K,G):\n",
    "    \"\"\"_summary_\n",
    "\n",
    "    Args:\n",
    "        params (_type_): _description_\n",
    "        X (): _description_\n",
    "        K (_type_): _description_\n",
    "        G (_type_): _description_\n",
    "    \"\"\"    \n",
    "\n",
    "    x, y = params\n",
    "    \n",
    "    eq1 = np.dot(X, (K-x))*x*y\n",
    "    eq2 = np.dot(X, (G-y))*2*x*y\n",
    "    return  [eq1,eq2]\n"
   ]
  },
  {
   "cell_type": "code",
   "execution_count": 52,
   "metadata": {},
   "outputs": [],
   "source": [
    "X = np.array([0.7,0.29,0.01])#.reshape((3,1))\n",
    "K = np.array([37,2.25,2.25])#.reshape((3,1))\n",
    "G = np.array([44,0,0])#.reshape((3,1))\n",
    "Alpha = np.array([1,1,0.01])\n",
    "#The Voigt average may be taken as the starting point.\n",
    "x,y=  fsolve(Berrymann_func, (K.mean(), G.mean()), args = (X,K,G,Alpha))  "
   ]
  },
  {
   "cell_type": "code",
   "execution_count": 55,
   "metadata": {},
   "outputs": [
    {
     "data": {
      "text/plain": [
       "(16.799373768236396, 11.56317160161939)"
      ]
     },
     "execution_count": 55,
     "metadata": {},
     "output_type": "execute_result"
    }
   ],
   "source": [
    "Berrymann_sc(K,G,X,Alpha)"
   ]
  },
  {
   "cell_type": "code",
   "execution_count": 57,
   "metadata": {},
   "outputs": [
    {
     "name": "stdout",
     "output_type": "stream",
     "text": [
      "true\n"
     ]
    }
   ],
   "source": [
    "if isinstance(X, ( np.ndarray)) is False:\n",
    "    print('wrong')\n",
    "else: \n",
    "    print('true')"
   ]
  },
  {
   "cell_type": "code",
   "execution_count": 37,
   "metadata": {},
   "outputs": [
    {
     "data": {
      "text/plain": [
       "(array([1.26113902, 1.47800095, 1.49559678]), (3,))"
      ]
     },
     "execution_count": 37,
     "metadata": {},
     "output_type": "execute_result"
    }
   ],
   "source": [
    "alpha= np.array([1.1,0.1,0.01])#3.reshape((3,1))\n",
    "P, Q= PQ(37,46,K,G, alpha)\n",
    "P,Q.shape"
   ]
  },
  {
   "cell_type": "code",
   "execution_count": 40,
   "metadata": {},
   "outputs": [
    {
     "data": {
      "text/plain": [
       "(array([1.34090916, 1.47800095, 1.49559678]), (3,))"
      ]
     },
     "execution_count": 40,
     "metadata": {},
     "output_type": "execute_result"
    }
   ],
   "source": [
    "alpha= np.array([1,0.1,0.01])#3.reshape((3,1))\n",
    "P, Q= PQ(37,46,K,G, alpha)\n",
    "P,Q.shape"
   ]
  },
  {
   "cell_type": "code",
   "execution_count": 14,
   "metadata": {},
   "outputs": [
    {
     "data": {
      "text/plain": [
       "(3, 1)"
      ]
     },
     "execution_count": 14,
     "metadata": {},
     "output_type": "execute_result"
    }
   ],
   "source": [
    "X.shape"
   ]
  },
  {
   "cell_type": "code",
   "execution_count": 19,
   "metadata": {},
   "outputs": [
    {
     "data": {
      "text/plain": [
       "17.2"
      ]
     },
     "execution_count": 19,
     "metadata": {},
     "output_type": "execute_result"
    }
   ],
   "source": [
    "np.dot(X,K)"
   ]
  },
  {
   "cell_type": "code",
   "execution_count": 7,
   "metadata": {},
   "outputs": [
    {
     "data": {
      "text/plain": [
       "0.9906567162489948"
      ]
     },
     "execution_count": 7,
     "metadata": {},
     "output_type": "execute_result"
    }
   ],
   "source": [
    "(1+4/(3*np.pi) *(1-0.25)/(1-2*0.23) * 24/15 * 0.01)**-1"
   ]
  },
  {
   "cell_type": "code",
   "execution_count": 9,
   "metadata": {},
   "outputs": [],
   "source": [
    "def func(x,a):\n",
    "  return [x[0]+x[1]-a, 3*x[0]+7*x[1]-10]\n",
    "def solve(var, a):\n",
    "  sol = fsolve(func, x0=var, args=(a))\n",
    "  return sol\n",
    "\n",
    "a = np.array([[1,2], [3,4]])\n",
    "vfunc = np.vectorize(solve, excluded=['var'], otypes=[list])\n",
    "sol = vfunc(var=np.zeros(2), a=a)"
   ]
  },
  {
   "cell_type": "code",
   "execution_count": 10,
   "metadata": {},
   "outputs": [
    {
     "data": {
      "text/plain": [
       "array([[array([-0.75,  1.75]), array([1., 1.])],\n",
       "       [array([2.75, 0.25]), array([ 4.5, -0.5])]], dtype=object)"
      ]
     },
     "execution_count": 10,
     "metadata": {},
     "output_type": "execute_result"
    }
   ],
   "source": [
    "sol"
   ]
  },
  {
   "cell_type": "markdown",
   "metadata": {},
   "source": [
    "monte carlo\n",
    "\n",
    "https://people.duke.edu/~ccc14/sta-663/MonteCarlo.html"
   ]
  },
  {
   "cell_type": "code",
   "execution_count": 4,
   "metadata": {},
   "outputs": [],
   "source": [
    "crd= 0.001\n",
    "alpha=1\n",
    "K=37\n",
    "G=46\n",
    "Ki=Gi=0\n",
    "lamda=20\n",
    "theta=30\n",
    "theta= np.deg2rad(theta) \n",
    "lamda = K-2*G/3 \n",
    "kapa = (Ki+4*Gi/3)*(lamda+2*G)/(np.pi*alpha*G*(lamda+G))\n",
    "M = 4*Gi*(lamda+G)/(np.pi*alpha*G*(3*lamda+4*G))\n",
    "U1 = 16*(lamda+2*G)/(3*(3*lamda+4*G)*(1+M))\n",
    "U3 = 4*(lamda+2*G)/(3*(lamda+G)*(1+kapa))"
   ]
  },
  {
   "cell_type": "code",
   "execution_count": 5,
   "metadata": {},
   "outputs": [],
   "source": [
    "C12_1 = -crd/(2*G)*(U3*(2*lamda**2+4*lamda*G*np.sin(theta)**2+G**2*np.sin(theta)**4)-U1*G**2*np.sin(theta)**4)\n",
    "\n",
    "C11_1 = -crd/(2*G)*(U3*(2*lamda**2+4*lamda*G*np.sin(theta)**2+3*G**2*np.sin(theta)**4)+U1*G**2*np.sin(theta)**2*(4-3*np.sin(theta)**2))\n",
    "\n",
    "C66_1 = -crd/2*G*(U3*4*np.sin(theta)**4+U1*np.sin(theta)**2*(2-np.sin(theta)**2))"
   ]
  },
  {
   "cell_type": "code",
   "execution_count": 6,
   "metadata": {},
   "outputs": [
    {
     "data": {
      "text/plain": [
       "(-0.010005696588062246,\n",
       " -0.06920079383773889,\n",
       " -0.04040168875222684,\n",
       " 0.011602583666714794)"
      ]
     },
     "execution_count": 6,
     "metadata": {},
     "output_type": "execute_result"
    }
   ],
   "source": [
    "C12_1, C11_1,C66_1,C11_1-2*C66_1"
   ]
  },
  {
   "cell_type": "code",
   "execution_count": 3,
   "metadata": {},
   "outputs": [
    {
     "data": {
      "text/plain": [
       "(32.0, 63.63636363636363, 47.81818181818181)"
      ]
     },
     "execution_count": 3,
     "metadata": {},
     "output_type": "execute_result"
    }
   ],
   "source": [
    "VRH(np.array([0.2,0.5]),np.array([35,50]))"
   ]
  },
  {
   "cell_type": "code",
   "execution_count": null,
   "metadata": {},
   "outputs": [],
   "source": [
    "def Eshelby_Cheng(K, G, phi, alpha, Kf, mat=False):\n",
    "    \"\"\" Compute the effective anisotropic moduli of a cracked isotropic rock with single set fracture using Eshelby–Cheng Model.\n",
    "\n",
    "    Args:\n",
    "        K (GPa): bulk modulus of the isotropic matrix\n",
    "        G (GPa): shear modulus of the isotropic matrix\n",
    "        phi (frac): (crack) porosity\n",
    "        alpha (unitless): aspect ratio of crack\n",
    "        Kf (GPa):  bulk modulus of the fluid\n",
    "        mat (bool, optional): If true: the output is in matrix form, otherwise  is numpy array. Defaults to False.\n",
    "\n",
    "    Returns:\n",
    "        C_eff: effective moduli of cracked, transversely isotropic rocks\n",
    "    Refs:\n",
    "        section 4.14 in The Rock Physics Handbook \n",
    "    Written by Jiaxin Yu \n",
    "    \"\"\"    \n",
    "\n",
    "    lamda= K-2*G/3 \n",
    "\n",
    "    sigma = (3*K-2*G)/(6*K+2*G)\n",
    "    R = (1-2*sigma)/(8*np.pi*(1-sigma))\n",
    "    Q = 3*R/(1-2*sigma)\n",
    "    Sa = np.sqrt(1-alpha**2)\n",
    "    Ia = 2*np.pi*alpha*(np.arccos(alpha)-alpha*Sa)/Sa**3\n",
    "    Ic = 4*np.pi-2*Ia\n",
    "    Iac = (Ic-Ia)/(3*Sa**2)\n",
    "    Iaa = np.pi-3*Iac/4\n",
    "    Iab = Iaa/3\n",
    "\n",
    "    S11 = Q*Iab+R*Ia\n",
    "    S33 = Q*(4*np.pi/3 - 2*Iac*alpha**2)+Ic*R\n",
    "    S12 = Q*Iab-R*Ia\n",
    "    S13 = Q*Iac*alpha**2-R*Ia\n",
    "    S31 = Q*Iac-R*Ic \n",
    "    S1212 = Q*Iab+R*Ia\n",
    "    S1313 = Q*(1+alpha**2)*Iac/2 + R*(Ia+Ic)/2\n",
    "\n",
    "    C = Kf/( 3*(K-Kf))\n",
    "    D = S33*S11+S33*S12-2*S31*S13-(S11+S12+S33-1-3*C) - C*(S11+S12+2*(S33-S13-S31))\n",
    "    E = S33*S11 - S31*S13 - (S33+S11-2*C-1) + C*(S31+S13-S11-S33)\n",
    "\n",
    "    C11 = lamda*(S31-S33+1) + 2*G*E/ (D*(S12-S11+1))\n",
    "    C33 = ((lamda+2*G)*(-S12-S11+1)+2*lamda*S13+4*G*C)/D\n",
    "    C13 = ((lamda+2*G)*(S13+S31)-4*G*C+lamda*(S13-S12-S11-S33+2))/(2*D)\n",
    "    C44 = G/(1-2*S1313)\n",
    "    C66 = G/(1-2*S1212)\n",
    "\n",
    "    if mat==True:\n",
    "        C_eff = np.array([C11,C33,C13,C44,C66])\n",
    "    else: \n",
    "        C_eff = write_VTI_matrix(C11,C33,C13,C44,C66)\n",
    "    return C_eff"
   ]
  },
  {
   "cell_type": "code",
   "execution_count": 3,
   "metadata": {},
   "outputs": [
    {
     "data": {
      "text/plain": [
       "list"
      ]
     },
     "execution_count": 3,
     "metadata": {},
     "output_type": "execute_result"
    }
   ],
   "source": [
    "a= [1,2,3]\n",
    "type(a)"
   ]
  },
  {
   "cell_type": "code",
   "execution_count": null,
   "metadata": {},
   "outputs": [],
   "source": []
  }
 ],
 "metadata": {
  "kernelspec": {
   "display_name": "Python 3.8.6 64-bit",
   "language": "python",
   "name": "python3"
  },
  "language_info": {
   "codemirror_mode": {
    "name": "ipython",
    "version": 3
   },
   "file_extension": ".py",
   "mimetype": "text/x-python",
   "name": "python",
   "nbconvert_exporter": "python",
   "pygments_lexer": "ipython3",
   "version": "3.8.6"
  },
  "orig_nbformat": 4,
  "vscode": {
   "interpreter": {
    "hash": "d381afd016e7ee54d18b394a76ad6079eaaafa797295afaba68ab96a6bc3a169"
   }
  }
 },
 "nbformat": 4,
 "nbformat_minor": 2
}
